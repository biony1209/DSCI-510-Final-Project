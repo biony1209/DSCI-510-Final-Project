{
 "cells": [
  {
   "cell_type": "code",
   "execution_count": 38,
   "id": "92b4769a",
   "metadata": {},
   "outputs": [],
   "source": [
    "## Link to repository - https://github.com/biony1209/DSCI-510-Final-Project"
   ]
  },
  {
   "cell_type": "markdown",
   "id": "e99b255d",
   "metadata": {},
   "source": [
    "# Data Collection and Preparation"
   ]
  },
  {
   "cell_type": "code",
   "execution_count": 40,
   "id": "f68f6efa",
   "metadata": {},
   "outputs": [],
   "source": [
    "import pandas as pd\n",
    "import numpy as np\n",
    "import matplotlib.pyplot as plt"
   ]
  },
  {
   "cell_type": "code",
   "execution_count": 41,
   "id": "5610ae45",
   "metadata": {},
   "outputs": [],
   "source": [
    "covid = pd.read_csv(r'C:\\Users\\jaimv\\Downloads\\covid.csv')\n",
    "noncovid = pd.read_csv(r'C:\\Users\\jaimv\\Downloads\\noncovid.csv')"
   ]
  },
  {
   "cell_type": "code",
   "execution_count": 42,
   "id": "0235649b",
   "metadata": {},
   "outputs": [],
   "source": [
    "#df = pd.read_csv('../data/covidsample.csv')"
   ]
  },
  {
   "cell_type": "code",
   "execution_count": 43,
   "id": "68d5fb1e",
   "metadata": {},
   "outputs": [],
   "source": [
    "covid.rename({'date_died': 'outcome'}, axis=1, inplace=True)"
   ]
  },
  {
   "cell_type": "code",
   "execution_count": 44,
   "id": "60ad4305",
   "metadata": {},
   "outputs": [],
   "source": [
    "noncovid = noncovid[[\"ID\", \"outcome\", \"age\", \"gendera\", \"hypertensive\", \"diabetes\"]]"
   ]
  },
  {
   "cell_type": "code",
   "execution_count": 45,
   "id": "ffb72652",
   "metadata": {},
   "outputs": [],
   "source": [
    "noncovid.rename({'ID': 'id', 'gendera': 'sex', 'hypertensive': 'hypertension'}, axis=1, inplace=True)"
   ]
  },
  {
   "cell_type": "code",
   "execution_count": 46,
   "id": "83ce4c84",
   "metadata": {},
   "outputs": [],
   "source": [
    "transform={2:1,1:0}\n",
    "covid = covid.replace({'sex':transform,'hypertension':transform, 'diabetes':transform})"
   ]
  },
  {
   "cell_type": "code",
   "execution_count": 47,
   "id": "b0cd7240",
   "metadata": {},
   "outputs": [],
   "source": [
    "noncovid = noncovid.replace({'sex':transform})"
   ]
  },
  {
   "cell_type": "code",
   "execution_count": 48,
   "id": "6e0a6fdf",
   "metadata": {},
   "outputs": [
    {
     "name": "stderr",
     "output_type": "stream",
     "text": [
      "C:\\Users\\jaimv\\AppData\\Local\\Temp/ipykernel_8392/4100060542.py:1: SettingWithCopyWarning:\n",
      "\n",
      "\n",
      "A value is trying to be set on a copy of a slice from a DataFrame\n",
      "\n",
      "See the caveats in the documentation: https://pandas.pydata.org/pandas-docs/stable/user_guide/indexing.html#returning-a-view-versus-a-copy\n",
      "\n"
     ]
    }
   ],
   "source": [
    "covid['outcome'][covid['outcome']!='9999-99-99']=1.0"
   ]
  },
  {
   "cell_type": "code",
   "execution_count": 49,
   "id": "9bf71599",
   "metadata": {},
   "outputs": [
    {
     "name": "stderr",
     "output_type": "stream",
     "text": [
      "C:\\Users\\jaimv\\AppData\\Local\\Temp/ipykernel_8392/1287461197.py:1: SettingWithCopyWarning:\n",
      "\n",
      "\n",
      "A value is trying to be set on a copy of a slice from a DataFrame\n",
      "\n",
      "See the caveats in the documentation: https://pandas.pydata.org/pandas-docs/stable/user_guide/indexing.html#returning-a-view-versus-a-copy\n",
      "\n"
     ]
    }
   ],
   "source": [
    "covid['outcome'][covid['outcome']!=1]=0.0"
   ]
  },
  {
   "cell_type": "code",
   "execution_count": 50,
   "id": "bd421bc1",
   "metadata": {},
   "outputs": [],
   "source": [
    "covid = covid[[\"id\", \"outcome\", \"age\", \"sex\", \"hypertension\", \"diabetes\"]]"
   ]
  },
  {
   "cell_type": "code",
   "execution_count": 51,
   "id": "3c45394b",
   "metadata": {},
   "outputs": [],
   "source": [
    "covid['covid_status'] = 1\n",
    "noncovid['covid_status'] = 0"
   ]
  },
  {
   "cell_type": "code",
   "execution_count": 52,
   "id": "7042d3df",
   "metadata": {},
   "outputs": [],
   "source": [
    "covid['outcome'] = covid['outcome'].dropna().astype('uint8')"
   ]
  },
  {
   "cell_type": "code",
   "execution_count": 53,
   "id": "3742c821",
   "metadata": {},
   "outputs": [
    {
     "data": {
      "text/html": [
       "<div>\n",
       "<style scoped>\n",
       "    .dataframe tbody tr th:only-of-type {\n",
       "        vertical-align: middle;\n",
       "    }\n",
       "\n",
       "    .dataframe tbody tr th {\n",
       "        vertical-align: top;\n",
       "    }\n",
       "\n",
       "    .dataframe thead th {\n",
       "        text-align: right;\n",
       "    }\n",
       "</style>\n",
       "<table border=\"1\" class=\"dataframe\">\n",
       "  <thead>\n",
       "    <tr style=\"text-align: right;\">\n",
       "      <th></th>\n",
       "      <th>id</th>\n",
       "      <th>outcome</th>\n",
       "      <th>age</th>\n",
       "      <th>sex</th>\n",
       "      <th>hypertension</th>\n",
       "      <th>diabetes</th>\n",
       "      <th>covid_status</th>\n",
       "    </tr>\n",
       "  </thead>\n",
       "  <tbody>\n",
       "    <tr>\n",
       "      <th>0</th>\n",
       "      <td>16169f</td>\n",
       "      <td>0</td>\n",
       "      <td>27</td>\n",
       "      <td>1</td>\n",
       "      <td>1</td>\n",
       "      <td>1</td>\n",
       "      <td>1</td>\n",
       "    </tr>\n",
       "    <tr>\n",
       "      <th>1</th>\n",
       "      <td>1009bf</td>\n",
       "      <td>0</td>\n",
       "      <td>24</td>\n",
       "      <td>1</td>\n",
       "      <td>1</td>\n",
       "      <td>1</td>\n",
       "      <td>1</td>\n",
       "    </tr>\n",
       "    <tr>\n",
       "      <th>2</th>\n",
       "      <td>167386</td>\n",
       "      <td>0</td>\n",
       "      <td>54</td>\n",
       "      <td>0</td>\n",
       "      <td>1</td>\n",
       "      <td>1</td>\n",
       "      <td>1</td>\n",
       "    </tr>\n",
       "    <tr>\n",
       "      <th>3</th>\n",
       "      <td>0b5948</td>\n",
       "      <td>0</td>\n",
       "      <td>30</td>\n",
       "      <td>1</td>\n",
       "      <td>1</td>\n",
       "      <td>1</td>\n",
       "      <td>1</td>\n",
       "    </tr>\n",
       "    <tr>\n",
       "      <th>4</th>\n",
       "      <td>0d01b5</td>\n",
       "      <td>1</td>\n",
       "      <td>60</td>\n",
       "      <td>0</td>\n",
       "      <td>0</td>\n",
       "      <td>0</td>\n",
       "      <td>1</td>\n",
       "    </tr>\n",
       "    <tr>\n",
       "      <th>...</th>\n",
       "      <td>...</td>\n",
       "      <td>...</td>\n",
       "      <td>...</td>\n",
       "      <td>...</td>\n",
       "      <td>...</td>\n",
       "      <td>...</td>\n",
       "      <td>...</td>\n",
       "    </tr>\n",
       "    <tr>\n",
       "      <th>566597</th>\n",
       "      <td>01ff60</td>\n",
       "      <td>0</td>\n",
       "      <td>58</td>\n",
       "      <td>1</td>\n",
       "      <td>1</td>\n",
       "      <td>0</td>\n",
       "      <td>1</td>\n",
       "    </tr>\n",
       "    <tr>\n",
       "      <th>566598</th>\n",
       "      <td>047cd1</td>\n",
       "      <td>0</td>\n",
       "      <td>48</td>\n",
       "      <td>0</td>\n",
       "      <td>1</td>\n",
       "      <td>1</td>\n",
       "      <td>1</td>\n",
       "    </tr>\n",
       "    <tr>\n",
       "      <th>566599</th>\n",
       "      <td>1beb81</td>\n",
       "      <td>0</td>\n",
       "      <td>49</td>\n",
       "      <td>0</td>\n",
       "      <td>1</td>\n",
       "      <td>1</td>\n",
       "      <td>1</td>\n",
       "    </tr>\n",
       "    <tr>\n",
       "      <th>566600</th>\n",
       "      <td>16fb02</td>\n",
       "      <td>0</td>\n",
       "      <td>43</td>\n",
       "      <td>0</td>\n",
       "      <td>1</td>\n",
       "      <td>1</td>\n",
       "      <td>1</td>\n",
       "    </tr>\n",
       "    <tr>\n",
       "      <th>566601</th>\n",
       "      <td>0021c9</td>\n",
       "      <td>0</td>\n",
       "      <td>65</td>\n",
       "      <td>1</td>\n",
       "      <td>0</td>\n",
       "      <td>0</td>\n",
       "      <td>1</td>\n",
       "    </tr>\n",
       "  </tbody>\n",
       "</table>\n",
       "<p>566602 rows × 7 columns</p>\n",
       "</div>"
      ],
      "text/plain": [
       "            id  outcome  age  sex  hypertension  diabetes  covid_status\n",
       "0       16169f        0   27    1             1         1             1\n",
       "1       1009bf        0   24    1             1         1             1\n",
       "2       167386        0   54    0             1         1             1\n",
       "3       0b5948        0   30    1             1         1             1\n",
       "4       0d01b5        1   60    0             0         0             1\n",
       "...        ...      ...  ...  ...           ...       ...           ...\n",
       "566597  01ff60        0   58    1             1         0             1\n",
       "566598  047cd1        0   48    0             1         1             1\n",
       "566599  1beb81        0   49    0             1         1             1\n",
       "566600  16fb02        0   43    0             1         1             1\n",
       "566601  0021c9        0   65    1             0         0             1\n",
       "\n",
       "[566602 rows x 7 columns]"
      ]
     },
     "execution_count": 53,
     "metadata": {},
     "output_type": "execute_result"
    }
   ],
   "source": [
    "covid"
   ]
  },
  {
   "cell_type": "code",
   "execution_count": 54,
   "id": "79b55d56",
   "metadata": {},
   "outputs": [],
   "source": [
    "covid = covid[covid['outcome'] != 98]\n",
    "covid = covid[covid['sex'] != 98]\n",
    "covid = covid[covid['hypertension'] != 98]\n",
    "covid = covid[covid['diabetes'] != 98]"
   ]
  },
  {
   "cell_type": "code",
   "execution_count": 55,
   "id": "3c0e5987",
   "metadata": {},
   "outputs": [],
   "source": [
    "noncovid = noncovid.dropna()\n",
    "covid = covid.dropna()"
   ]
  },
  {
   "cell_type": "code",
   "execution_count": 56,
   "id": "77c697b9",
   "metadata": {},
   "outputs": [],
   "source": [
    "noncovid['outcome'] = noncovid['outcome'].astype(int)\n",
    "covid['outcome'] = covid['outcome'].astype(int)"
   ]
  },
  {
   "cell_type": "code",
   "execution_count": 57,
   "id": "fdc9584c",
   "metadata": {},
   "outputs": [
    {
     "data": {
      "text/html": [
       "<div>\n",
       "<style scoped>\n",
       "    .dataframe tbody tr th:only-of-type {\n",
       "        vertical-align: middle;\n",
       "    }\n",
       "\n",
       "    .dataframe tbody tr th {\n",
       "        vertical-align: top;\n",
       "    }\n",
       "\n",
       "    .dataframe thead th {\n",
       "        text-align: right;\n",
       "    }\n",
       "</style>\n",
       "<table border=\"1\" class=\"dataframe\">\n",
       "  <thead>\n",
       "    <tr style=\"text-align: right;\">\n",
       "      <th></th>\n",
       "      <th>id</th>\n",
       "      <th>outcome</th>\n",
       "      <th>age</th>\n",
       "      <th>sex</th>\n",
       "      <th>hypertension</th>\n",
       "      <th>diabetes</th>\n",
       "      <th>covid_status</th>\n",
       "    </tr>\n",
       "  </thead>\n",
       "  <tbody>\n",
       "    <tr>\n",
       "      <th>0</th>\n",
       "      <td>125047</td>\n",
       "      <td>0</td>\n",
       "      <td>72</td>\n",
       "      <td>0</td>\n",
       "      <td>0</td>\n",
       "      <td>1</td>\n",
       "      <td>0</td>\n",
       "    </tr>\n",
       "    <tr>\n",
       "      <th>1</th>\n",
       "      <td>139812</td>\n",
       "      <td>0</td>\n",
       "      <td>75</td>\n",
       "      <td>1</td>\n",
       "      <td>0</td>\n",
       "      <td>0</td>\n",
       "      <td>0</td>\n",
       "    </tr>\n",
       "    <tr>\n",
       "      <th>2</th>\n",
       "      <td>109787</td>\n",
       "      <td>0</td>\n",
       "      <td>83</td>\n",
       "      <td>1</td>\n",
       "      <td>0</td>\n",
       "      <td>0</td>\n",
       "      <td>0</td>\n",
       "    </tr>\n",
       "    <tr>\n",
       "      <th>3</th>\n",
       "      <td>130587</td>\n",
       "      <td>0</td>\n",
       "      <td>43</td>\n",
       "      <td>1</td>\n",
       "      <td>0</td>\n",
       "      <td>0</td>\n",
       "      <td>0</td>\n",
       "    </tr>\n",
       "    <tr>\n",
       "      <th>4</th>\n",
       "      <td>138290</td>\n",
       "      <td>0</td>\n",
       "      <td>75</td>\n",
       "      <td>1</td>\n",
       "      <td>1</td>\n",
       "      <td>0</td>\n",
       "      <td>0</td>\n",
       "    </tr>\n",
       "    <tr>\n",
       "      <th>...</th>\n",
       "      <td>...</td>\n",
       "      <td>...</td>\n",
       "      <td>...</td>\n",
       "      <td>...</td>\n",
       "      <td>...</td>\n",
       "      <td>...</td>\n",
       "      <td>...</td>\n",
       "    </tr>\n",
       "    <tr>\n",
       "      <th>1172</th>\n",
       "      <td>171130</td>\n",
       "      <td>0</td>\n",
       "      <td>62</td>\n",
       "      <td>0</td>\n",
       "      <td>1</td>\n",
       "      <td>1</td>\n",
       "      <td>0</td>\n",
       "    </tr>\n",
       "    <tr>\n",
       "      <th>1173</th>\n",
       "      <td>101659</td>\n",
       "      <td>0</td>\n",
       "      <td>78</td>\n",
       "      <td>0</td>\n",
       "      <td>0</td>\n",
       "      <td>1</td>\n",
       "      <td>0</td>\n",
       "    </tr>\n",
       "    <tr>\n",
       "      <th>1174</th>\n",
       "      <td>162069</td>\n",
       "      <td>0</td>\n",
       "      <td>85</td>\n",
       "      <td>1</td>\n",
       "      <td>1</td>\n",
       "      <td>1</td>\n",
       "      <td>0</td>\n",
       "    </tr>\n",
       "    <tr>\n",
       "      <th>1175</th>\n",
       "      <td>120967</td>\n",
       "      <td>0</td>\n",
       "      <td>79</td>\n",
       "      <td>1</td>\n",
       "      <td>0</td>\n",
       "      <td>1</td>\n",
       "      <td>0</td>\n",
       "    </tr>\n",
       "    <tr>\n",
       "      <th>1176</th>\n",
       "      <td>107636</td>\n",
       "      <td>0</td>\n",
       "      <td>47</td>\n",
       "      <td>0</td>\n",
       "      <td>1</td>\n",
       "      <td>1</td>\n",
       "      <td>0</td>\n",
       "    </tr>\n",
       "  </tbody>\n",
       "</table>\n",
       "<p>1176 rows × 7 columns</p>\n",
       "</div>"
      ],
      "text/plain": [
       "          id  outcome  age  sex  hypertension  diabetes  covid_status\n",
       "0     125047        0   72    0             0         1             0\n",
       "1     139812        0   75    1             0         0             0\n",
       "2     109787        0   83    1             0         0             0\n",
       "3     130587        0   43    1             0         0             0\n",
       "4     138290        0   75    1             1         0             0\n",
       "...      ...      ...  ...  ...           ...       ...           ...\n",
       "1172  171130        0   62    0             1         1             0\n",
       "1173  101659        0   78    0             0         1             0\n",
       "1174  162069        0   85    1             1         1             0\n",
       "1175  120967        0   79    1             0         1             0\n",
       "1176  107636        0   47    0             1         1             0\n",
       "\n",
       "[1176 rows x 7 columns]"
      ]
     },
     "execution_count": 57,
     "metadata": {},
     "output_type": "execute_result"
    }
   ],
   "source": [
    "noncovid"
   ]
  },
  {
   "cell_type": "markdown",
   "id": "d1b19715",
   "metadata": {},
   "source": [
    "# Odds Ratio Analysis"
   ]
  },
  {
   "cell_type": "code",
   "execution_count": 58,
   "id": "b486c806",
   "metadata": {},
   "outputs": [],
   "source": [
    "full_cohort = [covid, noncovid]\n",
    "\n",
    "result = pd.concat(full_cohort, ignore_index=True)"
   ]
  },
  {
   "cell_type": "code",
   "execution_count": 59,
   "id": "b2c35307",
   "metadata": {},
   "outputs": [],
   "source": [
    "result = result[~result['outcome'].isnull()]\n",
    "result['outcome'] = result['outcome'].astype(int)\n",
    "result['age'] = result['age'].astype(int)\n",
    "result['sex'] = result['sex'].astype(int)\n",
    "result['hypertension'] = result['hypertension'].astype(int)\n",
    "result['diabetes'] = result['diabetes'].astype(int)\n",
    "result['covid_status'] = result['covid_status'].astype(int)"
   ]
  },
  {
   "cell_type": "code",
   "execution_count": 60,
   "id": "4229ee8b",
   "metadata": {},
   "outputs": [],
   "source": [
    "import statsmodels.formula.api as smf"
   ]
  },
  {
   "cell_type": "code",
   "execution_count": 61,
   "id": "e103bd11",
   "metadata": {
    "scrolled": true
   },
   "outputs": [
    {
     "name": "stdout",
     "output_type": "stream",
     "text": [
      "Optimization terminated successfully.\n",
      "         Current function value: 0.195904\n",
      "         Iterations 8\n"
     ]
    },
    {
     "data": {
      "text/html": [
       "<div>\n",
       "<style scoped>\n",
       "    .dataframe tbody tr th:only-of-type {\n",
       "        vertical-align: middle;\n",
       "    }\n",
       "\n",
       "    .dataframe tbody tr th {\n",
       "        vertical-align: top;\n",
       "    }\n",
       "\n",
       "    .dataframe thead th {\n",
       "        text-align: right;\n",
       "    }\n",
       "</style>\n",
       "<table border=\"1\" class=\"dataframe\">\n",
       "  <thead>\n",
       "    <tr style=\"text-align: right;\">\n",
       "      <th></th>\n",
       "      <th>Odds Ratio</th>\n",
       "      <th>p-value</th>\n",
       "      <th>5%</th>\n",
       "      <th>95%</th>\n",
       "      <th>significant</th>\n",
       "    </tr>\n",
       "  </thead>\n",
       "  <tbody>\n",
       "    <tr>\n",
       "      <th>covid_status</th>\n",
       "      <td>2.841336</td>\n",
       "      <td>8.996275e-32</td>\n",
       "      <td>2.386385</td>\n",
       "      <td>3.383022</td>\n",
       "      <td>True</td>\n",
       "    </tr>\n",
       "    <tr>\n",
       "      <th>sex</th>\n",
       "      <td>1.807317</td>\n",
       "      <td>0.000000e+00</td>\n",
       "      <td>1.765253</td>\n",
       "      <td>1.850383</td>\n",
       "      <td>True</td>\n",
       "    </tr>\n",
       "    <tr>\n",
       "      <th>age</th>\n",
       "      <td>1.071549</td>\n",
       "      <td>0.000000e+00</td>\n",
       "      <td>1.070798</td>\n",
       "      <td>1.072301</td>\n",
       "      <td>True</td>\n",
       "    </tr>\n",
       "  </tbody>\n",
       "</table>\n",
       "</div>"
      ],
      "text/plain": [
       "              Odds Ratio       p-value        5%       95%  significant\n",
       "covid_status    2.841336  8.996275e-32  2.386385  3.383022         True\n",
       "sex             1.807317  0.000000e+00  1.765253  1.850383         True\n",
       "age             1.071549  0.000000e+00  1.070798  1.072301         True"
      ]
     },
     "execution_count": 61,
     "metadata": {},
     "output_type": "execute_result"
    }
   ],
   "source": [
    "model=smf.logit(formula='outcome ~ covid_status + age + sex',data=result).fit()\n",
    "odds=pd.DataFrame(np.exp(model.params),columns=['Odds Ratio'])\n",
    "odds['p-value']=model.pvalues\n",
    "odds[['5%','95%']]=np.exp(model.conf_int())\n",
    "odds['significant']=odds['p-value']<.05\n",
    "odds=odds.drop('Intercept')\n",
    "odds=odds.sort_values(by='Odds Ratio',ascending=False)\n",
    "odds"
   ]
  },
  {
   "cell_type": "code",
   "execution_count": 62,
   "id": "db37a599",
   "metadata": {},
   "outputs": [
    {
     "name": "stdout",
     "output_type": "stream",
     "text": [
      "                           Logit Regression Results                           \n",
      "==============================================================================\n",
      "Dep. Variable:                outcome   No. Observations:               565586\n",
      "Model:                          Logit   Df Residuals:                   565582\n",
      "Method:                           MLE   Df Model:                            3\n",
      "Date:                Tue, 13 Dec 2022   Pseudo R-squ.:                  0.1738\n",
      "Time:                        13:06:32   Log-Likelihood:            -1.1080e+05\n",
      "converged:                       True   LL-Null:                   -1.3411e+05\n",
      "Covariance Type:            nonrobust   LLR p-value:                     0.000\n",
      "================================================================================\n",
      "                   coef    std err          z      P>|z|      [0.025      0.975]\n",
      "--------------------------------------------------------------------------------\n",
      "Intercept       -7.5885      0.093    -81.188      0.000      -7.772      -7.405\n",
      "covid_status     1.0443      0.089     11.730      0.000       0.870       1.219\n",
      "age              0.0691      0.000    193.030      0.000       0.068       0.070\n",
      "sex              0.5918      0.012     49.258      0.000       0.568       0.615\n",
      "================================================================================\n"
     ]
    }
   ],
   "source": [
    "print(model.summary())"
   ]
  },
  {
   "cell_type": "code",
   "execution_count": 63,
   "id": "23afb018",
   "metadata": {},
   "outputs": [
    {
     "data": {
      "image/png": "[encoded data removed]",
      "text/plain": [
       "<Figure size 900x600 with 1 Axes>"
      ]
     },
     "metadata": {
      "needs_background": "light"
     },
     "output_type": "display_data"
    }
   ],
   "source": [
    "import matplotlib.pyplot as plt\n",
    "plt.figure(figsize=(6, 4), dpi=150)\n",
    "ci = [odds.iloc[::-1]['Odds Ratio'] - odds.iloc[::-1]['5%'].values, odds.iloc[::-1]['95%'].values - odds.iloc[::-1]['Odds Ratio']]\n",
    "plt.errorbar(x=odds.iloc[::-1]['Odds Ratio'], y=odds.iloc[::-1].index.values, xerr=ci,\n",
    "            color='black',  capsize=3, linestyle='None', linewidth=1,\n",
    "            marker=\"o\", markersize=5, mfc=\"black\", mec=\"black\")\n",
    "plt.axvline(x=1, linewidth=0.8, linestyle='--', color='black')\n",
    "plt.tick_params(axis='both', which='major', labelsize=8)\n",
    "plt.xlabel('Odds Ratio and 95% Confidence Interval', fontsize=8)\n",
    "plt.tight_layout()\n",
    "# plt.savefig('raw_forest_plot.png')\n",
    "plt.show()"
   ]
  },
  {
   "cell_type": "markdown",
   "id": "b5951324",
   "metadata": {},
   "source": [
    "# Matching Preparation"
   ]
  },
  {
   "cell_type": "code",
   "execution_count": 64,
   "id": "f7ecd1ad",
   "metadata": {},
   "outputs": [],
   "source": [
    "import pandas as pd\n",
    "import numpy as np\n",
    "pd.options.mode.chained_assignment = None\n",
    "from sklearn.linear_model import LogisticRegression\n",
    "from sklearn.neighbors import NearestNeighbors\n",
    "import matplotlib.pyplot as plt\n",
    "import seaborn as sns\n",
    "import math"
   ]
  },
  {
   "cell_type": "code",
   "execution_count": 65,
   "id": "af8262c7",
   "metadata": {},
   "outputs": [],
   "source": [
    "covid_sample = covid.head(30000)\n",
    "noncovid_sample = noncovid.head(200)"
   ]
  },
  {
   "cell_type": "code",
   "execution_count": 66,
   "id": "d96d7567",
   "metadata": {},
   "outputs": [
    {
     "data": {
      "text/html": [
       "<div>\n",
       "<style scoped>\n",
       "    .dataframe tbody tr th:only-of-type {\n",
       "        vertical-align: middle;\n",
       "    }\n",
       "\n",
       "    .dataframe tbody tr th {\n",
       "        vertical-align: top;\n",
       "    }\n",
       "\n",
       "    .dataframe thead th {\n",
       "        text-align: right;\n",
       "    }\n",
       "</style>\n",
       "<table border=\"1\" class=\"dataframe\">\n",
       "  <thead>\n",
       "    <tr style=\"text-align: right;\">\n",
       "      <th></th>\n",
       "      <th>id</th>\n",
       "      <th>outcome</th>\n",
       "      <th>age</th>\n",
       "      <th>sex</th>\n",
       "      <th>hypertension</th>\n",
       "      <th>diabetes</th>\n",
       "      <th>covid_status</th>\n",
       "    </tr>\n",
       "  </thead>\n",
       "  <tbody>\n",
       "    <tr>\n",
       "      <th>0</th>\n",
       "      <td>16169f</td>\n",
       "      <td>0</td>\n",
       "      <td>27</td>\n",
       "      <td>1</td>\n",
       "      <td>1</td>\n",
       "      <td>1</td>\n",
       "      <td>1</td>\n",
       "    </tr>\n",
       "    <tr>\n",
       "      <th>1</th>\n",
       "      <td>1009bf</td>\n",
       "      <td>0</td>\n",
       "      <td>24</td>\n",
       "      <td>1</td>\n",
       "      <td>1</td>\n",
       "      <td>1</td>\n",
       "      <td>1</td>\n",
       "    </tr>\n",
       "    <tr>\n",
       "      <th>2</th>\n",
       "      <td>167386</td>\n",
       "      <td>0</td>\n",
       "      <td>54</td>\n",
       "      <td>0</td>\n",
       "      <td>1</td>\n",
       "      <td>1</td>\n",
       "      <td>1</td>\n",
       "    </tr>\n",
       "    <tr>\n",
       "      <th>3</th>\n",
       "      <td>0b5948</td>\n",
       "      <td>0</td>\n",
       "      <td>30</td>\n",
       "      <td>1</td>\n",
       "      <td>1</td>\n",
       "      <td>1</td>\n",
       "      <td>1</td>\n",
       "    </tr>\n",
       "    <tr>\n",
       "      <th>4</th>\n",
       "      <td>0d01b5</td>\n",
       "      <td>1</td>\n",
       "      <td>60</td>\n",
       "      <td>0</td>\n",
       "      <td>0</td>\n",
       "      <td>0</td>\n",
       "      <td>1</td>\n",
       "    </tr>\n",
       "    <tr>\n",
       "      <th>...</th>\n",
       "      <td>...</td>\n",
       "      <td>...</td>\n",
       "      <td>...</td>\n",
       "      <td>...</td>\n",
       "      <td>...</td>\n",
       "      <td>...</td>\n",
       "      <td>...</td>\n",
       "    </tr>\n",
       "    <tr>\n",
       "      <th>30123</th>\n",
       "      <td>0d9b71</td>\n",
       "      <td>0</td>\n",
       "      <td>69</td>\n",
       "      <td>0</td>\n",
       "      <td>1</td>\n",
       "      <td>1</td>\n",
       "      <td>1</td>\n",
       "    </tr>\n",
       "    <tr>\n",
       "      <th>30124</th>\n",
       "      <td>0032c6</td>\n",
       "      <td>0</td>\n",
       "      <td>33</td>\n",
       "      <td>0</td>\n",
       "      <td>1</td>\n",
       "      <td>1</td>\n",
       "      <td>1</td>\n",
       "    </tr>\n",
       "    <tr>\n",
       "      <th>30125</th>\n",
       "      <td>0cb27f</td>\n",
       "      <td>0</td>\n",
       "      <td>21</td>\n",
       "      <td>0</td>\n",
       "      <td>1</td>\n",
       "      <td>1</td>\n",
       "      <td>1</td>\n",
       "    </tr>\n",
       "    <tr>\n",
       "      <th>30126</th>\n",
       "      <td>15200b</td>\n",
       "      <td>0</td>\n",
       "      <td>52</td>\n",
       "      <td>1</td>\n",
       "      <td>1</td>\n",
       "      <td>1</td>\n",
       "      <td>1</td>\n",
       "    </tr>\n",
       "    <tr>\n",
       "      <th>30127</th>\n",
       "      <td>17777e</td>\n",
       "      <td>0</td>\n",
       "      <td>60</td>\n",
       "      <td>1</td>\n",
       "      <td>1</td>\n",
       "      <td>1</td>\n",
       "      <td>1</td>\n",
       "    </tr>\n",
       "  </tbody>\n",
       "</table>\n",
       "<p>30000 rows × 7 columns</p>\n",
       "</div>"
      ],
      "text/plain": [
       "           id  outcome  age  sex  hypertension  diabetes  covid_status\n",
       "0      16169f        0   27    1             1         1             1\n",
       "1      1009bf        0   24    1             1         1             1\n",
       "2      167386        0   54    0             1         1             1\n",
       "3      0b5948        0   30    1             1         1             1\n",
       "4      0d01b5        1   60    0             0         0             1\n",
       "...       ...      ...  ...  ...           ...       ...           ...\n",
       "30123  0d9b71        0   69    0             1         1             1\n",
       "30124  0032c6        0   33    0             1         1             1\n",
       "30125  0cb27f        0   21    0             1         1             1\n",
       "30126  15200b        0   52    1             1         1             1\n",
       "30127  17777e        0   60    1             1         1             1\n",
       "\n",
       "[30000 rows x 7 columns]"
      ]
     },
     "execution_count": 66,
     "metadata": {},
     "output_type": "execute_result"
    }
   ],
   "source": [
    "covid_sample"
   ]
  },
  {
   "cell_type": "code",
   "execution_count": 67,
   "id": "96157d2c",
   "metadata": {},
   "outputs": [],
   "source": [
    "full_sample_cohort = [covid_sample, noncovid_sample]\n",
    "\n",
    "result = pd.concat(full_sample_cohort, ignore_index=True)"
   ]
  },
  {
   "cell_type": "code",
   "execution_count": 68,
   "id": "e14c7508",
   "metadata": {},
   "outputs": [
    {
     "data": {
      "text/html": [
       "<div>\n",
       "<style scoped>\n",
       "    .dataframe tbody tr th:only-of-type {\n",
       "        vertical-align: middle;\n",
       "    }\n",
       "\n",
       "    .dataframe tbody tr th {\n",
       "        vertical-align: top;\n",
       "    }\n",
       "\n",
       "    .dataframe thead th {\n",
       "        text-align: right;\n",
       "    }\n",
       "</style>\n",
       "<table border=\"1\" class=\"dataframe\">\n",
       "  <thead>\n",
       "    <tr style=\"text-align: right;\">\n",
       "      <th></th>\n",
       "      <th>id</th>\n",
       "      <th>outcome</th>\n",
       "      <th>age</th>\n",
       "      <th>sex</th>\n",
       "      <th>hypertension</th>\n",
       "      <th>diabetes</th>\n",
       "      <th>covid_status</th>\n",
       "    </tr>\n",
       "  </thead>\n",
       "  <tbody>\n",
       "    <tr>\n",
       "      <th>0</th>\n",
       "      <td>16169f</td>\n",
       "      <td>0</td>\n",
       "      <td>27</td>\n",
       "      <td>1</td>\n",
       "      <td>1</td>\n",
       "      <td>1</td>\n",
       "      <td>1</td>\n",
       "    </tr>\n",
       "    <tr>\n",
       "      <th>1</th>\n",
       "      <td>1009bf</td>\n",
       "      <td>0</td>\n",
       "      <td>24</td>\n",
       "      <td>1</td>\n",
       "      <td>1</td>\n",
       "      <td>1</td>\n",
       "      <td>1</td>\n",
       "    </tr>\n",
       "    <tr>\n",
       "      <th>2</th>\n",
       "      <td>167386</td>\n",
       "      <td>0</td>\n",
       "      <td>54</td>\n",
       "      <td>0</td>\n",
       "      <td>1</td>\n",
       "      <td>1</td>\n",
       "      <td>1</td>\n",
       "    </tr>\n",
       "    <tr>\n",
       "      <th>3</th>\n",
       "      <td>0b5948</td>\n",
       "      <td>0</td>\n",
       "      <td>30</td>\n",
       "      <td>1</td>\n",
       "      <td>1</td>\n",
       "      <td>1</td>\n",
       "      <td>1</td>\n",
       "    </tr>\n",
       "    <tr>\n",
       "      <th>4</th>\n",
       "      <td>0d01b5</td>\n",
       "      <td>1</td>\n",
       "      <td>60</td>\n",
       "      <td>0</td>\n",
       "      <td>0</td>\n",
       "      <td>0</td>\n",
       "      <td>1</td>\n",
       "    </tr>\n",
       "    <tr>\n",
       "      <th>...</th>\n",
       "      <td>...</td>\n",
       "      <td>...</td>\n",
       "      <td>...</td>\n",
       "      <td>...</td>\n",
       "      <td>...</td>\n",
       "      <td>...</td>\n",
       "      <td>...</td>\n",
       "    </tr>\n",
       "    <tr>\n",
       "      <th>30195</th>\n",
       "      <td>169909</td>\n",
       "      <td>0</td>\n",
       "      <td>58</td>\n",
       "      <td>1</td>\n",
       "      <td>0</td>\n",
       "      <td>0</td>\n",
       "      <td>0</td>\n",
       "    </tr>\n",
       "    <tr>\n",
       "      <th>30196</th>\n",
       "      <td>159724</td>\n",
       "      <td>1</td>\n",
       "      <td>89</td>\n",
       "      <td>0</td>\n",
       "      <td>1</td>\n",
       "      <td>0</td>\n",
       "      <td>0</td>\n",
       "    </tr>\n",
       "    <tr>\n",
       "      <th>30197</th>\n",
       "      <td>133975</td>\n",
       "      <td>0</td>\n",
       "      <td>71</td>\n",
       "      <td>0</td>\n",
       "      <td>1</td>\n",
       "      <td>0</td>\n",
       "      <td>0</td>\n",
       "    </tr>\n",
       "    <tr>\n",
       "      <th>30198</th>\n",
       "      <td>114524</td>\n",
       "      <td>0</td>\n",
       "      <td>63</td>\n",
       "      <td>1</td>\n",
       "      <td>0</td>\n",
       "      <td>0</td>\n",
       "      <td>0</td>\n",
       "    </tr>\n",
       "    <tr>\n",
       "      <th>30199</th>\n",
       "      <td>198322</td>\n",
       "      <td>0</td>\n",
       "      <td>87</td>\n",
       "      <td>1</td>\n",
       "      <td>1</td>\n",
       "      <td>1</td>\n",
       "      <td>0</td>\n",
       "    </tr>\n",
       "  </tbody>\n",
       "</table>\n",
       "<p>30200 rows × 7 columns</p>\n",
       "</div>"
      ],
      "text/plain": [
       "           id  outcome  age  sex  hypertension  diabetes  covid_status\n",
       "0      16169f        0   27    1             1         1             1\n",
       "1      1009bf        0   24    1             1         1             1\n",
       "2      167386        0   54    0             1         1             1\n",
       "3      0b5948        0   30    1             1         1             1\n",
       "4      0d01b5        1   60    0             0         0             1\n",
       "...       ...      ...  ...  ...           ...       ...           ...\n",
       "30195  169909        0   58    1             0         0             0\n",
       "30196  159724        1   89    0             1         0             0\n",
       "30197  133975        0   71    0             1         0             0\n",
       "30198  114524        0   63    1             0         0             0\n",
       "30199  198322        0   87    1             1         1             0\n",
       "\n",
       "[30200 rows x 7 columns]"
      ]
     },
     "execution_count": 68,
     "metadata": {},
     "output_type": "execute_result"
    }
   ],
   "source": [
    "result"
   ]
  },
  {
   "cell_type": "code",
   "execution_count": 69,
   "id": "befff3b4",
   "metadata": {},
   "outputs": [],
   "source": [
    "result = result[[\"age\", \"sex\", \"hypertension\", \"diabetes\", \"covid_status\", \"outcome\"]]"
   ]
  },
  {
   "cell_type": "code",
   "execution_count": 70,
   "id": "631ed4b0",
   "metadata": {},
   "outputs": [
    {
     "data": {
      "text/plain": [
       "LogisticRegression()"
      ]
     },
     "execution_count": 70,
     "metadata": {},
     "output_type": "execute_result"
    }
   ],
   "source": [
    "X=result.drop(['covid_status', 'outcome'],axis='columns')\n",
    "lr = LogisticRegression()\n",
    "lr.fit(X,result['covid_status'])"
   ]
  },
  {
   "cell_type": "code",
   "execution_count": 73,
   "id": "81ffa8a4",
   "metadata": {},
   "outputs": [
    {
     "data": {
      "text/html": [
       "<div>\n",
       "<style scoped>\n",
       "    .dataframe tbody tr th:only-of-type {\n",
       "        vertical-align: middle;\n",
       "    }\n",
       "\n",
       "    .dataframe tbody tr th {\n",
       "        vertical-align: top;\n",
       "    }\n",
       "\n",
       "    .dataframe thead th {\n",
       "        text-align: right;\n",
       "    }\n",
       "</style>\n",
       "<table border=\"1\" class=\"dataframe\">\n",
       "  <thead>\n",
       "    <tr style=\"text-align: right;\">\n",
       "      <th></th>\n",
       "      <th>id</th>\n",
       "      <th>outcome</th>\n",
       "      <th>age</th>\n",
       "      <th>sex</th>\n",
       "      <th>hypertension</th>\n",
       "      <th>diabetes</th>\n",
       "      <th>covid_status</th>\n",
       "    </tr>\n",
       "  </thead>\n",
       "  <tbody>\n",
       "    <tr>\n",
       "      <th>0</th>\n",
       "      <td>16169f</td>\n",
       "      <td>0</td>\n",
       "      <td>27</td>\n",
       "      <td>1</td>\n",
       "      <td>1</td>\n",
       "      <td>1</td>\n",
       "      <td>1</td>\n",
       "    </tr>\n",
       "    <tr>\n",
       "      <th>1</th>\n",
       "      <td>1009bf</td>\n",
       "      <td>0</td>\n",
       "      <td>24</td>\n",
       "      <td>1</td>\n",
       "      <td>1</td>\n",
       "      <td>1</td>\n",
       "      <td>1</td>\n",
       "    </tr>\n",
       "    <tr>\n",
       "      <th>2</th>\n",
       "      <td>167386</td>\n",
       "      <td>0</td>\n",
       "      <td>54</td>\n",
       "      <td>0</td>\n",
       "      <td>1</td>\n",
       "      <td>1</td>\n",
       "      <td>1</td>\n",
       "    </tr>\n",
       "    <tr>\n",
       "      <th>3</th>\n",
       "      <td>0b5948</td>\n",
       "      <td>0</td>\n",
       "      <td>30</td>\n",
       "      <td>1</td>\n",
       "      <td>1</td>\n",
       "      <td>1</td>\n",
       "      <td>1</td>\n",
       "    </tr>\n",
       "    <tr>\n",
       "      <th>4</th>\n",
       "      <td>0d01b5</td>\n",
       "      <td>1</td>\n",
       "      <td>60</td>\n",
       "      <td>0</td>\n",
       "      <td>0</td>\n",
       "      <td>0</td>\n",
       "      <td>1</td>\n",
       "    </tr>\n",
       "    <tr>\n",
       "      <th>...</th>\n",
       "      <td>...</td>\n",
       "      <td>...</td>\n",
       "      <td>...</td>\n",
       "      <td>...</td>\n",
       "      <td>...</td>\n",
       "      <td>...</td>\n",
       "      <td>...</td>\n",
       "    </tr>\n",
       "    <tr>\n",
       "      <th>566597</th>\n",
       "      <td>01ff60</td>\n",
       "      <td>0</td>\n",
       "      <td>58</td>\n",
       "      <td>1</td>\n",
       "      <td>1</td>\n",
       "      <td>0</td>\n",
       "      <td>1</td>\n",
       "    </tr>\n",
       "    <tr>\n",
       "      <th>566598</th>\n",
       "      <td>047cd1</td>\n",
       "      <td>0</td>\n",
       "      <td>48</td>\n",
       "      <td>0</td>\n",
       "      <td>1</td>\n",
       "      <td>1</td>\n",
       "      <td>1</td>\n",
       "    </tr>\n",
       "    <tr>\n",
       "      <th>566599</th>\n",
       "      <td>1beb81</td>\n",
       "      <td>0</td>\n",
       "      <td>49</td>\n",
       "      <td>0</td>\n",
       "      <td>1</td>\n",
       "      <td>1</td>\n",
       "      <td>1</td>\n",
       "    </tr>\n",
       "    <tr>\n",
       "      <th>566600</th>\n",
       "      <td>16fb02</td>\n",
       "      <td>0</td>\n",
       "      <td>43</td>\n",
       "      <td>0</td>\n",
       "      <td>1</td>\n",
       "      <td>1</td>\n",
       "      <td>1</td>\n",
       "    </tr>\n",
       "    <tr>\n",
       "      <th>566601</th>\n",
       "      <td>0021c9</td>\n",
       "      <td>0</td>\n",
       "      <td>65</td>\n",
       "      <td>1</td>\n",
       "      <td>0</td>\n",
       "      <td>0</td>\n",
       "      <td>1</td>\n",
       "    </tr>\n",
       "  </tbody>\n",
       "</table>\n",
       "<p>564410 rows × 7 columns</p>\n",
       "</div>"
      ],
      "text/plain": [
       "            id  outcome  age  sex  hypertension  diabetes  covid_status\n",
       "0       16169f        0   27    1             1         1             1\n",
       "1       1009bf        0   24    1             1         1             1\n",
       "2       167386        0   54    0             1         1             1\n",
       "3       0b5948        0   30    1             1         1             1\n",
       "4       0d01b5        1   60    0             0         0             1\n",
       "...        ...      ...  ...  ...           ...       ...           ...\n",
       "566597  01ff60        0   58    1             1         0             1\n",
       "566598  047cd1        0   48    0             1         1             1\n",
       "566599  1beb81        0   49    0             1         1             1\n",
       "566600  16fb02        0   43    0             1         1             1\n",
       "566601  0021c9        0   65    1             0         0             1\n",
       "\n",
       "[564410 rows x 7 columns]"
      ]
     },
     "execution_count": 73,
     "metadata": {},
     "output_type": "execute_result"
    }
   ],
   "source": [
    "covid"
   ]
  },
  {
   "cell_type": "code",
   "execution_count": 74,
   "id": "f890f202",
   "metadata": {},
   "outputs": [],
   "source": [
    "coeffs = pd.DataFrame({\n",
    "    'column':X.columns.to_numpy(),\n",
    "    'coeff':lr.coef_.ravel(),\n",
    "})\n",
    "pred_prob = lr.predict_proba(X)\n",
    "result['ps'] = pred_prob[:, 1]\n",
    "\n",
    "def logit(p):\n",
    "    logit_value = math.log(p / (1-p))\n",
    "    return logit_value\n",
    "\n",
    "result['ps_logit'] = result['ps'].apply(lambda x: logit(x))"
   ]
  },
  {
   "cell_type": "markdown",
   "id": "0705fd4f",
   "metadata": {},
   "source": [
    "# Before Matching"
   ]
  },
  {
   "cell_type": "code",
   "execution_count": 75,
   "id": "15dd7c53",
   "metadata": {},
   "outputs": [],
   "source": [
    "result1 = result[result['covid_status'] == 0]\n",
    "result2 = result[result['covid_status'] == 1]"
   ]
  },
  {
   "cell_type": "code",
   "execution_count": 76,
   "id": "6a3b9920",
   "metadata": {},
   "outputs": [
    {
     "data": {
      "text/plain": [
       "[Text(0.5, 1.0, 'COVID Negative Probability Distribution')]"
      ]
     },
     "execution_count": 76,
     "metadata": {},
     "output_type": "execute_result"
    },
    {
     "data": {
      "image/png": "[encoded data removed]",
      "text/plain": [
       "<Figure size 432x288 with 1 Axes>"
      ]
     },
     "metadata": {
      "needs_background": "light"
     },
     "output_type": "display_data"
    }
   ],
   "source": [
    "sns.histplot(data=result1, x='ps_logit', color = 'orange').set(title = \"COVID Negative Probability Distribution\")"
   ]
  },
  {
   "cell_type": "code",
   "execution_count": 77,
   "id": "8419dc92",
   "metadata": {},
   "outputs": [
    {
     "data": {
      "text/plain": [
       "[Text(0.5, 1.0, 'COVID Positive Probability Distribution')]"
      ]
     },
     "execution_count": 77,
     "metadata": {},
     "output_type": "execute_result"
    },
    {
     "data": {
      "image/png": "[encoded data removed]",
      "text/plain": [
       "<Figure size 432x288 with 1 Axes>"
      ]
     },
     "metadata": {
      "needs_background": "light"
     },
     "output_type": "display_data"
    }
   ],
   "source": [
    "sns.histplot(data=result2, x='ps_logit', color=\"blue\").set(title = \"COVID Positive Probability Distribution\")"
   ]
  },
  {
   "cell_type": "markdown",
   "id": "993db750",
   "metadata": {},
   "source": [
    "# Matching"
   ]
  },
  {
   "cell_type": "code",
   "execution_count": 78,
   "id": "36d6c164",
   "metadata": {},
   "outputs": [],
   "source": [
    "exclude=[]\n",
    "def perfom_matching(row, indexes, df_data):\n",
    "    current_index = row.name\n",
    "    prop_score_logit = row['ps_logit']\n",
    "    for idx in indexes[current_index,:]:\n",
    "        if (current_index != idx) and (row['covid_status'] == 0) and (df_data.loc[idx]['covid_status'] == 1) and (idx not in exclude):\n",
    "            exclude.append(idx)\n",
    "            return int(idx)\n",
    "\n",
    "def obtain_match_details(row, all_data, attribute, key):\n",
    "    return all_data.loc[row[key]][attribute]"
   ]
  },
  {
   "cell_type": "code",
   "execution_count": 79,
   "id": "b9db5ac2",
   "metadata": {},
   "outputs": [
    {
     "name": "stdout",
     "output_type": "stream",
     "text": [
      "caliper (radius) is: 0.0056\n"
     ]
    }
   ],
   "source": [
    "caliper=np.std(result['ps'])*.25\n",
    "print(f'caliper (radius) is: {caliper:.4f}')\n",
    "\n",
    "knn = NearestNeighbors(n_neighbors=200,algorithm='ball_tree',radius=caliper)\n",
    "knn.fit(result[['ps_logit']])\n",
    "distances, indexes = knn.kneighbors(result[['ps_logit']])"
   ]
  },
  {
   "cell_type": "code",
   "execution_count": 80,
   "id": "984aec47",
   "metadata": {},
   "outputs": [],
   "source": [
    "result = result.reset_index()\n",
    "del result['index']"
   ]
  },
  {
   "cell_type": "code",
   "execution_count": 81,
   "id": "a3ee1afe",
   "metadata": {},
   "outputs": [],
   "source": [
    "result['matched_1']=result.reset_index().apply(perfom_matching,axis='columns',args=(indexes, result))\n",
    "\n",
    "covid_hosp_match=result[~result['matched_1'].isna()][result.columns]\n",
    "control_hosp_match_1=pd.DataFrame(data=covid_hosp_match['matched_1'])\n",
    "\n",
    "for attr in result.drop('matched_1',axis='columns'):\n",
    "    control_hosp_match_1[attr]=control_hosp_match_1.apply(obtain_match_details,axis='columns',all_data=result,attribute=attr,key='matched_1')\n",
    "    \n",
    "control_hosp_match_1=control_hosp_match_1.set_index('matched_1')"
   ]
  },
  {
   "cell_type": "code",
   "execution_count": 82,
   "id": "6a19604e",
   "metadata": {},
   "outputs": [],
   "source": [
    "result['matched_2']=result.reset_index().apply(perfom_matching,axis='columns',args=(indexes, result))\n",
    "\n",
    "covid_hosp_match=result[~result['matched_2'].isna()][result.columns]\n",
    "control_hosp_match_2=pd.DataFrame(data=covid_hosp_match['matched_2'])\n",
    "\n",
    "for attr in result.drop(['matched_1','matched_2'],axis='columns'):\n",
    "    control_hosp_match_2[attr]=control_hosp_match_2.apply(obtain_match_details,axis='columns',all_data=result,attribute=attr,key='matched_2')\n",
    "    \n",
    "control_hosp_match_2=control_hosp_match_2.set_index('matched_2')"
   ]
  },
  {
   "cell_type": "code",
   "execution_count": 83,
   "id": "eabe645c",
   "metadata": {},
   "outputs": [],
   "source": [
    "result['matched_3']=result.reset_index().apply(perfom_matching,axis='columns',args=(indexes, result))\n",
    "\n",
    "covid_hosp_match=result[~result['matched_3'].isna()][result.columns]\n",
    "control_hosp_match_3=pd.DataFrame(data=covid_hosp_match['matched_3'])\n",
    "\n",
    "for attr in result.drop(['matched_1','matched_2','matched_3'],axis='columns'):\n",
    "    control_hosp_match_3[attr]=control_hosp_match_3.apply(obtain_match_details,axis='columns',all_data=result,attribute=attr,key='matched_3')\n",
    "    \n",
    "control_hosp_match_3=control_hosp_match_3.set_index('matched_3')"
   ]
  },
  {
   "cell_type": "code",
   "execution_count": 84,
   "id": "4f18050d",
   "metadata": {},
   "outputs": [],
   "source": [
    "all_matched_result=pd.concat([result[result['covid_status']==0],control_hosp_match_1,control_hosp_match_2,control_hosp_match_3],ignore_index=True)"
   ]
  },
  {
   "cell_type": "markdown",
   "id": "62bde34f",
   "metadata": {},
   "source": [
    "# After Matching"
   ]
  },
  {
   "cell_type": "code",
   "execution_count": 85,
   "id": "7e078ec8",
   "metadata": {},
   "outputs": [],
   "source": [
    "matchedresult1 = all_matched_result[all_matched_result['covid_status'] == 0]\n",
    "matchedresult2 = all_matched_result[all_matched_result['covid_status'] == 1]"
   ]
  },
  {
   "cell_type": "code",
   "execution_count": 86,
   "id": "7e51d975",
   "metadata": {},
   "outputs": [
    {
     "data": {
      "text/plain": [
       "[Text(0.5, 1.0, 'Matched COVID Negative Probability Distribution')]"
      ]
     },
     "execution_count": 86,
     "metadata": {},
     "output_type": "execute_result"
    },
    {
     "data": {
      "image/png": "[encoded data removed]",
      "text/plain": [
       "<Figure size 432x288 with 1 Axes>"
      ]
     },
     "metadata": {
      "needs_background": "light"
     },
     "output_type": "display_data"
    }
   ],
   "source": [
    "sns.histplot(data=matchedresult1, x='ps_logit', color = 'orange').set(title = \"Matched COVID Negative Probability Distribution\")"
   ]
  },
  {
   "cell_type": "code",
   "execution_count": 87,
   "id": "89869759",
   "metadata": {},
   "outputs": [
    {
     "data": {
      "text/plain": [
       "[Text(0.5, 1.0, 'Matched COVID Positive Probability Distribution')]"
      ]
     },
     "execution_count": 87,
     "metadata": {},
     "output_type": "execute_result"
    },
    {
     "data": {
      "image/png": "[encoded data removed]",
      "text/plain": [
       "<Figure size 432x288 with 1 Axes>"
      ]
     },
     "metadata": {
      "needs_background": "light"
     },
     "output_type": "display_data"
    }
   ],
   "source": [
    "sns.histplot(data=matchedresult2, x='ps_logit', color=\"blue\").set(title = \"Matched COVID Positive Probability Distribution\")"
   ]
  },
  {
   "cell_type": "code",
   "execution_count": 88,
   "id": "e98d2bea",
   "metadata": {},
   "outputs": [],
   "source": [
    "matched_covid_result = all_matched_result[all_matched_result['covid_status']==True]"
   ]
  },
  {
   "cell_type": "code",
   "execution_count": 89,
   "id": "77a44fff",
   "metadata": {},
   "outputs": [],
   "source": [
    "noncovid_result = result[result['covid_status']==False]"
   ]
  },
  {
   "cell_type": "code",
   "execution_count": 90,
   "id": "7821d814",
   "metadata": {},
   "outputs": [
    {
     "data": {
      "text/html": [
       "<div>\n",
       "<style scoped>\n",
       "    .dataframe tbody tr th:only-of-type {\n",
       "        vertical-align: middle;\n",
       "    }\n",
       "\n",
       "    .dataframe tbody tr th {\n",
       "        vertical-align: top;\n",
       "    }\n",
       "\n",
       "    .dataframe thead th {\n",
       "        text-align: right;\n",
       "    }\n",
       "</style>\n",
       "<table border=\"1\" class=\"dataframe\">\n",
       "  <thead>\n",
       "    <tr style=\"text-align: right;\">\n",
       "      <th></th>\n",
       "      <th>age</th>\n",
       "      <th>sex</th>\n",
       "      <th>hypertension</th>\n",
       "      <th>diabetes</th>\n",
       "      <th>covid_status</th>\n",
       "      <th>outcome</th>\n",
       "      <th>ps</th>\n",
       "      <th>ps_logit</th>\n",
       "      <th>matched_1</th>\n",
       "      <th>matched_2</th>\n",
       "      <th>matched_3</th>\n",
       "    </tr>\n",
       "  </thead>\n",
       "  <tbody>\n",
       "    <tr>\n",
       "      <th>0</th>\n",
       "      <td>27</td>\n",
       "      <td>1</td>\n",
       "      <td>1</td>\n",
       "      <td>1</td>\n",
       "      <td>1</td>\n",
       "      <td>0</td>\n",
       "      <td>0.999865</td>\n",
       "      <td>8.911864</td>\n",
       "      <td>NaN</td>\n",
       "      <td>NaN</td>\n",
       "      <td>NaN</td>\n",
       "    </tr>\n",
       "    <tr>\n",
       "      <th>1</th>\n",
       "      <td>24</td>\n",
       "      <td>1</td>\n",
       "      <td>1</td>\n",
       "      <td>1</td>\n",
       "      <td>1</td>\n",
       "      <td>0</td>\n",
       "      <td>0.999902</td>\n",
       "      <td>9.235452</td>\n",
       "      <td>NaN</td>\n",
       "      <td>NaN</td>\n",
       "      <td>NaN</td>\n",
       "    </tr>\n",
       "    <tr>\n",
       "      <th>2</th>\n",
       "      <td>54</td>\n",
       "      <td>0</td>\n",
       "      <td>1</td>\n",
       "      <td>1</td>\n",
       "      <td>1</td>\n",
       "      <td>0</td>\n",
       "      <td>0.997101</td>\n",
       "      <td>5.840659</td>\n",
       "      <td>NaN</td>\n",
       "      <td>NaN</td>\n",
       "      <td>NaN</td>\n",
       "    </tr>\n",
       "    <tr>\n",
       "      <th>3</th>\n",
       "      <td>30</td>\n",
       "      <td>1</td>\n",
       "      <td>1</td>\n",
       "      <td>1</td>\n",
       "      <td>1</td>\n",
       "      <td>0</td>\n",
       "      <td>0.999814</td>\n",
       "      <td>8.588276</td>\n",
       "      <td>NaN</td>\n",
       "      <td>NaN</td>\n",
       "      <td>NaN</td>\n",
       "    </tr>\n",
       "    <tr>\n",
       "      <th>4</th>\n",
       "      <td>60</td>\n",
       "      <td>0</td>\n",
       "      <td>0</td>\n",
       "      <td>0</td>\n",
       "      <td>1</td>\n",
       "      <td>1</td>\n",
       "      <td>0.993422</td>\n",
       "      <td>5.017437</td>\n",
       "      <td>NaN</td>\n",
       "      <td>NaN</td>\n",
       "      <td>NaN</td>\n",
       "    </tr>\n",
       "    <tr>\n",
       "      <th>...</th>\n",
       "      <td>...</td>\n",
       "      <td>...</td>\n",
       "      <td>...</td>\n",
       "      <td>...</td>\n",
       "      <td>...</td>\n",
       "      <td>...</td>\n",
       "      <td>...</td>\n",
       "      <td>...</td>\n",
       "      <td>...</td>\n",
       "      <td>...</td>\n",
       "      <td>...</td>\n",
       "    </tr>\n",
       "    <tr>\n",
       "      <th>30195</th>\n",
       "      <td>58</td>\n",
       "      <td>1</td>\n",
       "      <td>0</td>\n",
       "      <td>0</td>\n",
       "      <td>0</td>\n",
       "      <td>0</td>\n",
       "      <td>0.995468</td>\n",
       "      <td>5.392075</td>\n",
       "      <td>21293.0</td>\n",
       "      <td>18519.0</td>\n",
       "      <td>113.0</td>\n",
       "    </tr>\n",
       "    <tr>\n",
       "      <th>30196</th>\n",
       "      <td>89</td>\n",
       "      <td>0</td>\n",
       "      <td>1</td>\n",
       "      <td>0</td>\n",
       "      <td>0</td>\n",
       "      <td>1</td>\n",
       "      <td>0.645987</td>\n",
       "      <td>0.601445</td>\n",
       "      <td>9873.0</td>\n",
       "      <td>21384.0</td>\n",
       "      <td>17148.0</td>\n",
       "    </tr>\n",
       "    <tr>\n",
       "      <th>30197</th>\n",
       "      <td>71</td>\n",
       "      <td>0</td>\n",
       "      <td>1</td>\n",
       "      <td>0</td>\n",
       "      <td>0</td>\n",
       "      <td>0</td>\n",
       "      <td>0.927100</td>\n",
       "      <td>2.542974</td>\n",
       "      <td>7816.0</td>\n",
       "      <td>22438.0</td>\n",
       "      <td>28397.0</td>\n",
       "    </tr>\n",
       "    <tr>\n",
       "      <th>30198</th>\n",
       "      <td>63</td>\n",
       "      <td>1</td>\n",
       "      <td>0</td>\n",
       "      <td>0</td>\n",
       "      <td>0</td>\n",
       "      <td>0</td>\n",
       "      <td>0.992254</td>\n",
       "      <td>4.852762</td>\n",
       "      <td>14401.0</td>\n",
       "      <td>7654.0</td>\n",
       "      <td>2325.0</td>\n",
       "    </tr>\n",
       "    <tr>\n",
       "      <th>30199</th>\n",
       "      <td>87</td>\n",
       "      <td>1</td>\n",
       "      <td>1</td>\n",
       "      <td>1</td>\n",
       "      <td>0</td>\n",
       "      <td>0</td>\n",
       "      <td>0.919835</td>\n",
       "      <td>2.440104</td>\n",
       "      <td>15735.0</td>\n",
       "      <td>28862.0</td>\n",
       "      <td>26340.0</td>\n",
       "    </tr>\n",
       "  </tbody>\n",
       "</table>\n",
       "<p>30200 rows × 11 columns</p>\n",
       "</div>"
      ],
      "text/plain": [
       "       age  sex  hypertension  diabetes  covid_status  outcome        ps  \\\n",
       "0       27    1             1         1             1        0  0.999865   \n",
       "1       24    1             1         1             1        0  0.999902   \n",
       "2       54    0             1         1             1        0  0.997101   \n",
       "3       30    1             1         1             1        0  0.999814   \n",
       "4       60    0             0         0             1        1  0.993422   \n",
       "...    ...  ...           ...       ...           ...      ...       ...   \n",
       "30195   58    1             0         0             0        0  0.995468   \n",
       "30196   89    0             1         0             0        1  0.645987   \n",
       "30197   71    0             1         0             0        0  0.927100   \n",
       "30198   63    1             0         0             0        0  0.992254   \n",
       "30199   87    1             1         1             0        0  0.919835   \n",
       "\n",
       "       ps_logit  matched_1  matched_2  matched_3  \n",
       "0      8.911864        NaN        NaN        NaN  \n",
       "1      9.235452        NaN        NaN        NaN  \n",
       "2      5.840659        NaN        NaN        NaN  \n",
       "3      8.588276        NaN        NaN        NaN  \n",
       "4      5.017437        NaN        NaN        NaN  \n",
       "...         ...        ...        ...        ...  \n",
       "30195  5.392075    21293.0    18519.0      113.0  \n",
       "30196  0.601445     9873.0    21384.0    17148.0  \n",
       "30197  2.542974     7816.0    22438.0    28397.0  \n",
       "30198  4.852762    14401.0     7654.0     2325.0  \n",
       "30199  2.440104    15735.0    28862.0    26340.0  \n",
       "\n",
       "[30200 rows x 11 columns]"
      ]
     },
     "execution_count": 90,
     "metadata": {},
     "output_type": "execute_result"
    }
   ],
   "source": [
    "result"
   ]
  },
  {
   "cell_type": "markdown",
   "id": "575986cf",
   "metadata": {},
   "source": [
    "# Basic Characteristics of Data Sets"
   ]
  },
  {
   "cell_type": "code",
   "execution_count": 91,
   "id": "3ace60e3",
   "metadata": {},
   "outputs": [],
   "source": [
    "def data_characteristics(data1, data2, data3):\n",
    "    datasets = [data1, data2, data3]\n",
    "    df = pd.DataFrame(index=['Age - Mean', 'Age - Standard Deviation', 'Male', 'Diabetes', 'Hypertension', 'Mortality'])\n",
    "    a = 0\n",
    "    for data in datasets:\n",
    "        mean_age = data['age'].mean()\n",
    "        std_age = data['age'].std()\n",
    "        male_count = data['sex'].sum()\n",
    "        diabetes_count = data['diabetes'].sum()\n",
    "        hypertension_count = data['hypertension'].sum()\n",
    "        mortality_count = data['outcome'].sum()\n",
    "        total_count = len(data.index)\n",
    "        male_percentage = '(' + str(round(male_count/total_count*100,2)) + \"%\" + ')'\n",
    "        diabetes_percentage = '(' + str(round(diabetes_count/total_count*100,2)) + \"%\" + ')'\n",
    "        hypertension_percentage = '(' + str(round(hypertension_count/total_count*100,2)) + \"%\" + ')'\n",
    "        mortality_percentage = '(' + str(round(mortality_count/total_count*100,2)) + \"%\" + ')'\n",
    "        df[a] = [mean_age, std_age, str(male_count) + ' ' + male_percentage, str(diabetes_count) + ' ' + diabetes_percentage, str(hypertension_count) + ' ' + hypertension_percentage, str(mortality_count) + ' ' + mortality_percentage]\n",
    "        a += 1\n",
    "    df.rename(columns = {0:'covid', 1:'noncovid', 2:'matched_covid'}, inplace = True)\n",
    "    #df = df.astype({'covid':'int', 'noncovid':'int', 'matched_covid':'int'})\n",
    "    return df"
   ]
  },
  {
   "cell_type": "code",
   "execution_count": 92,
   "id": "5cca5dcb",
   "metadata": {},
   "outputs": [
    {
     "data": {
      "text/html": [
       "<div>\n",
       "<style scoped>\n",
       "    .dataframe tbody tr th:only-of-type {\n",
       "        vertical-align: middle;\n",
       "    }\n",
       "\n",
       "    .dataframe tbody tr th {\n",
       "        vertical-align: top;\n",
       "    }\n",
       "\n",
       "    .dataframe thead th {\n",
       "        text-align: right;\n",
       "    }\n",
       "</style>\n",
       "<table border=\"1\" class=\"dataframe\">\n",
       "  <thead>\n",
       "    <tr style=\"text-align: right;\">\n",
       "      <th></th>\n",
       "      <th>covid</th>\n",
       "      <th>noncovid</th>\n",
       "      <th>matched_covid</th>\n",
       "    </tr>\n",
       "  </thead>\n",
       "  <tbody>\n",
       "    <tr>\n",
       "      <th>Age - Mean</th>\n",
       "      <td>42.601102</td>\n",
       "      <td>74.047619</td>\n",
       "      <td>73.348333</td>\n",
       "    </tr>\n",
       "    <tr>\n",
       "      <th>Age - Standard Deviation</th>\n",
       "      <td>16.651157</td>\n",
       "      <td>13.437241</td>\n",
       "      <td>13.39176</td>\n",
       "    </tr>\n",
       "    <tr>\n",
       "      <th>Male</th>\n",
       "      <td>285830 (50.64%)</td>\n",
       "      <td>618 (52.55%)</td>\n",
       "      <td>291.0 (48.5%)</td>\n",
       "    </tr>\n",
       "    <tr>\n",
       "      <th>Diabetes</th>\n",
       "      <td>493638 (87.46%)</td>\n",
       "      <td>495 (42.09%)</td>\n",
       "      <td>268.0 (44.67%)</td>\n",
       "    </tr>\n",
       "    <tr>\n",
       "      <th>Hypertension</th>\n",
       "      <td>472008 (83.63%)</td>\n",
       "      <td>844 (71.77%)</td>\n",
       "      <td>443.0 (73.83%)</td>\n",
       "    </tr>\n",
       "    <tr>\n",
       "      <th>Mortality</th>\n",
       "      <td>35888 (6.36%)</td>\n",
       "      <td>159 (13.52%)</td>\n",
       "      <td>206.0 (34.33%)</td>\n",
       "    </tr>\n",
       "  </tbody>\n",
       "</table>\n",
       "</div>"
      ],
      "text/plain": [
       "                                    covid      noncovid   matched_covid\n",
       "Age - Mean                      42.601102     74.047619       73.348333\n",
       "Age - Standard Deviation        16.651157     13.437241        13.39176\n",
       "Male                      285830 (50.64%)  618 (52.55%)   291.0 (48.5%)\n",
       "Diabetes                  493638 (87.46%)  495 (42.09%)  268.0 (44.67%)\n",
       "Hypertension              472008 (83.63%)  844 (71.77%)  443.0 (73.83%)\n",
       "Mortality                   35888 (6.36%)  159 (13.52%)  206.0 (34.33%)"
      ]
     },
     "execution_count": 92,
     "metadata": {},
     "output_type": "execute_result"
    }
   ],
   "source": [
    "data_characteristics(covid, noncovid, matched_covid_result)"
   ]
  },
  {
   "cell_type": "markdown",
   "id": "048a5804",
   "metadata": {},
   "source": [
    "# Basic Comparisons of COVID Negative Cohort vs Unmatched COVID Positive Cohort and COVID Negative Cohort vs Matched COVID Positive Cohort"
   ]
  },
  {
   "cell_type": "markdown",
   "id": "2befb2c2",
   "metadata": {},
   "source": [
    "## Age Comparison - (Independent Sample T-test)"
   ]
  },
  {
   "cell_type": "code",
   "execution_count": 93,
   "id": "91b173af",
   "metadata": {},
   "outputs": [],
   "source": [
    "from scipy.stats import chi2_contingency \n",
    "from scipy.stats import ttest_ind, ttest_ind_from_stats"
   ]
  },
  {
   "cell_type": "code",
   "execution_count": 94,
   "id": "108dd44b",
   "metadata": {},
   "outputs": [],
   "source": [
    "#m1 = mean age of cohort 1\n",
    "#s1 = standard deviation of age of cohort 1\n",
    "#c1 = total of cohort 1\n",
    "#m2 = mean age of cohort 2\n",
    "#s2 = standard deviation of age of cohort 2\n",
    "#c2 = total of cohort 2"
   ]
  },
  {
   "cell_type": "code",
   "execution_count": 95,
   "id": "1ff778f6",
   "metadata": {},
   "outputs": [],
   "source": [
    "def ttest(m1, s1, c1, m2, s2, c2):\n",
    "    mean1 = m1\n",
    "    std1 =  s1\n",
    "    count1 = c1\n",
    "    mean2 = m2\n",
    "    std2 = s2\n",
    "    count2 = c2\n",
    "    t2, p2 = ttest_ind_from_stats(mean1, std1, count1,\n",
    "                                  mean2, std2, count2,\n",
    "                                  equal_var=False)\n",
    "    print(\"ttest_ind_from_stats: t = %g  p = %g\" % (t2, p2))\n",
    "    print(p2)\n",
    "    alpha = 0.05\n",
    "    print(\"p value is \" + str(p2)) \n",
    "    if (p2) <= alpha: \n",
    "        print('Dependent (reject H0)') \n",
    "    else: \n",
    "        print('Independent (H0 holds true)') "
   ]
  },
  {
   "cell_type": "code",
   "execution_count": 96,
   "id": "27cc4212",
   "metadata": {},
   "outputs": [
    {
     "name": "stdout",
     "output_type": "stream",
     "text": [
      "ttest_ind_from_stats: t = -80.2282  p = 0\n",
      "0.0\n",
      "p value is 0.0\n",
      "Dependent (reject H0)\n"
     ]
    }
   ],
   "source": [
    "ttest(42.6, 16.7, 564410, 74.0, 13.4, 1176)\n",
    "## Non-COVID Age vs Unmatched COVID Age"
   ]
  },
  {
   "cell_type": "code",
   "execution_count": 97,
   "id": "37af86b8",
   "metadata": {},
   "outputs": [
    {
     "name": "stdout",
     "output_type": "stream",
     "text": [
      "ttest_ind_from_stats: t = -1.04124  p = 0.297973\n",
      "0.29797262145605863\n",
      "p value is 0.29797262145605863\n",
      "Independent (H0 holds true)\n"
     ]
    }
   ],
   "source": [
    "ttest(73.3, 13.4, 600, 74.0, 13.4, 1176)\n",
    "## Non-COVID Age vs Matched COVID Age"
   ]
  },
  {
   "cell_type": "markdown",
   "id": "8d17ba0c",
   "metadata": {},
   "source": [
    "## Sex, Diabetes, Hypertension, Mortality Comparison - (Chi-Squared Test)"
   ]
  },
  {
   "cell_type": "markdown",
   "id": "38f2de4b",
   "metadata": {},
   "source": [
    "## Sex"
   ]
  },
  {
   "cell_type": "code",
   "execution_count": 98,
   "id": "def7bcf0",
   "metadata": {},
   "outputs": [],
   "source": [
    "#t1 = total of cohort 1\n",
    "#c1 = count of individuals of a given category of cohort 1 (ex: number of diabetics)\n",
    "#t1 = total of cohort 2\n",
    "#c2 = count of individuals of a given category of cohort 2 (ex: number of diabetics)"
   ]
  },
  {
   "cell_type": "code",
   "execution_count": 99,
   "id": "b2762ef5",
   "metadata": {},
   "outputs": [],
   "source": [
    "#Chi-square analysis\n",
    "def chisquared(t1, t2, c1, c2):\n",
    "    total1 = t1\n",
    "    total2 = t2\n",
    "    cohort1 = c1\n",
    "    cohort2 = c2\n",
    "    data = [[total1 - cohort1, total2-cohort2], [cohort1, cohort2]]\n",
    "    stat, p, dof, expected = chi2_contingency(data) \n",
    "\n",
    "    #if p value is >0.05, then it is significantly different\n",
    "    alpha = 0.05\n",
    "    print(\"p value is \" + str(p)) \n",
    "    if (p) <= alpha: \n",
    "        print('Dependent (reject H0)') \n",
    "    else: \n",
    "        print('Independent (H0 holds true)') "
   ]
  },
  {
   "cell_type": "code",
   "execution_count": 100,
   "id": "e188b5c3",
   "metadata": {},
   "outputs": [
    {
     "name": "stdout",
     "output_type": "stream",
     "text": [
      "p value is 0.2010067405579496\n",
      "Independent (H0 holds true)\n"
     ]
    }
   ],
   "source": [
    "chisquared(564410, 1176, 285830, 618)\n",
    "## Non-COVID Sex vs Unmatched COVID Sex"
   ]
  },
  {
   "cell_type": "code",
   "execution_count": 101,
   "id": "b639a313",
   "metadata": {},
   "outputs": [
    {
     "name": "stdout",
     "output_type": "stream",
     "text": [
      "p value is 0.11753778240278052\n",
      "Independent (H0 holds true)\n"
     ]
    }
   ],
   "source": [
    "chisquared(600, 1176, 291, 618)\n",
    "## Non-COVID Sex vs Matched COVID Sex"
   ]
  },
  {
   "cell_type": "markdown",
   "id": "3578a829",
   "metadata": {},
   "source": [
    "## Diabetes"
   ]
  },
  {
   "cell_type": "code",
   "execution_count": 102,
   "id": "b0f0e2ee",
   "metadata": {},
   "outputs": [
    {
     "name": "stdout",
     "output_type": "stream",
     "text": [
      "p value is 0.0\n",
      "Dependent (reject H0)\n"
     ]
    }
   ],
   "source": [
    "chisquared(564410, 1176, 493638, 495)\n",
    "## Non-COVID Diabetes vs Unmatched COVID Diabetes"
   ]
  },
  {
   "cell_type": "code",
   "execution_count": 103,
   "id": "10a53b0e",
   "metadata": {},
   "outputs": [
    {
     "name": "stdout",
     "output_type": "stream",
     "text": [
      "p value is 0.3240862915298277\n",
      "Independent (H0 holds true)\n"
     ]
    }
   ],
   "source": [
    "chisquared(600, 1176, 268, 495)\n",
    "## Non-COVID Diabetes vs Matched COVID Diabetes"
   ]
  },
  {
   "cell_type": "markdown",
   "id": "5172e861",
   "metadata": {},
   "source": [
    "## Hypertension"
   ]
  },
  {
   "cell_type": "code",
   "execution_count": 104,
   "id": "4b1fe18c",
   "metadata": {},
   "outputs": [
    {
     "name": "stdout",
     "output_type": "stream",
     "text": [
      "p value is 7.914862618240452e-28\n",
      "Dependent (reject H0)\n"
     ]
    }
   ],
   "source": [
    "chisquared(564410, 1176, 472008, 844)\n",
    "## Non-COVID Hypertension vs Unmatched COVID Hypertension"
   ]
  },
  {
   "cell_type": "code",
   "execution_count": 105,
   "id": "be5e959d",
   "metadata": {},
   "outputs": [
    {
     "name": "stdout",
     "output_type": "stream",
     "text": [
      "p value is 0.3869639237305297\n",
      "Independent (H0 holds true)\n"
     ]
    }
   ],
   "source": [
    "chisquared(600, 1176, 443, 844)\n",
    "## Non-COVID Hypertension vs Matched COVID Hypertension"
   ]
  },
  {
   "cell_type": "markdown",
   "id": "ea042f1a",
   "metadata": {},
   "source": [
    "## Mortality"
   ]
  },
  {
   "cell_type": "code",
   "execution_count": 106,
   "id": "2e9bcbd2",
   "metadata": {},
   "outputs": [
    {
     "name": "stdout",
     "output_type": "stream",
     "text": [
      "p value is 1.7910684422580492e-23\n",
      "Dependent (reject H0)\n"
     ]
    }
   ],
   "source": [
    "chisquared(564410, 1176, 35888, 159)\n",
    "## Non-COVID Mortality vs Unmatched COVID Mortality"
   ]
  },
  {
   "cell_type": "code",
   "execution_count": 107,
   "id": "fbad59aa",
   "metadata": {},
   "outputs": [
    {
     "name": "stdout",
     "output_type": "stream",
     "text": [
      "p value is 1.8937686184907647e-24\n",
      "Dependent (reject H0)\n"
     ]
    }
   ],
   "source": [
    "chisquared(600, 1176, 206, 159)\n",
    "## Non-COVID Mortality vs Matched COVID Mortality"
   ]
  },
  {
   "cell_type": "markdown",
   "id": "db76419a",
   "metadata": {},
   "source": [
    "## Statistics Tables"
   ]
  },
  {
   "cell_type": "code",
   "execution_count": 108,
   "id": "a36ee8d2",
   "metadata": {},
   "outputs": [],
   "source": [
    "table = data_characteristics(covid, noncovid, matched_covid_result)\n",
    "covid_noncovid_table = table[['noncovid', 'covid']]\n",
    "covid_noncovid_table['significant'] = [\"True\", \"-\", \"False\", \"True\", \"True\", \"True\"]"
   ]
  },
  {
   "cell_type": "code",
   "execution_count": 109,
   "id": "7bd3e057",
   "metadata": {},
   "outputs": [
    {
     "data": {
      "text/html": [
       "<div>\n",
       "<style scoped>\n",
       "    .dataframe tbody tr th:only-of-type {\n",
       "        vertical-align: middle;\n",
       "    }\n",
       "\n",
       "    .dataframe tbody tr th {\n",
       "        vertical-align: top;\n",
       "    }\n",
       "\n",
       "    .dataframe thead th {\n",
       "        text-align: right;\n",
       "    }\n",
       "</style>\n",
       "<table border=\"1\" class=\"dataframe\">\n",
       "  <thead>\n",
       "    <tr style=\"text-align: right;\">\n",
       "      <th></th>\n",
       "      <th>noncovid</th>\n",
       "      <th>covid</th>\n",
       "      <th>significant</th>\n",
       "    </tr>\n",
       "  </thead>\n",
       "  <tbody>\n",
       "    <tr>\n",
       "      <th>Age - Mean</th>\n",
       "      <td>74.047619</td>\n",
       "      <td>42.601102</td>\n",
       "      <td>True</td>\n",
       "    </tr>\n",
       "    <tr>\n",
       "      <th>Age - Standard Deviation</th>\n",
       "      <td>13.437241</td>\n",
       "      <td>16.651157</td>\n",
       "      <td>-</td>\n",
       "    </tr>\n",
       "    <tr>\n",
       "      <th>Male</th>\n",
       "      <td>618 (52.55%)</td>\n",
       "      <td>285830 (50.64%)</td>\n",
       "      <td>False</td>\n",
       "    </tr>\n",
       "    <tr>\n",
       "      <th>Diabetes</th>\n",
       "      <td>495 (42.09%)</td>\n",
       "      <td>493638 (87.46%)</td>\n",
       "      <td>True</td>\n",
       "    </tr>\n",
       "    <tr>\n",
       "      <th>Hypertension</th>\n",
       "      <td>844 (71.77%)</td>\n",
       "      <td>472008 (83.63%)</td>\n",
       "      <td>True</td>\n",
       "    </tr>\n",
       "    <tr>\n",
       "      <th>Mortality</th>\n",
       "      <td>159 (13.52%)</td>\n",
       "      <td>35888 (6.36%)</td>\n",
       "      <td>True</td>\n",
       "    </tr>\n",
       "  </tbody>\n",
       "</table>\n",
       "</div>"
      ],
      "text/plain": [
       "                              noncovid            covid significant\n",
       "Age - Mean                   74.047619        42.601102        True\n",
       "Age - Standard Deviation     13.437241        16.651157           -\n",
       "Male                      618 (52.55%)  285830 (50.64%)       False\n",
       "Diabetes                  495 (42.09%)  493638 (87.46%)        True\n",
       "Hypertension              844 (71.77%)  472008 (83.63%)        True\n",
       "Mortality                 159 (13.52%)    35888 (6.36%)        True"
      ]
     },
     "execution_count": 109,
     "metadata": {},
     "output_type": "execute_result"
    }
   ],
   "source": [
    "covid_noncovid_table"
   ]
  },
  {
   "cell_type": "code",
   "execution_count": 110,
   "id": "34a42492",
   "metadata": {},
   "outputs": [],
   "source": [
    "table = data_characteristics(covid, noncovid, matched_covid_result)\n",
    "matchedcovid_noncovid_table = table[['noncovid', 'matched_covid']]\n",
    "matchedcovid_noncovid_table['significant'] = [\"False\", \"-\", \"False\", \"False\", \"False\", \"True\"]"
   ]
  },
  {
   "cell_type": "code",
   "execution_count": 111,
   "id": "eb4a9ea8",
   "metadata": {},
   "outputs": [
    {
     "data": {
      "text/html": [
       "<div>\n",
       "<style scoped>\n",
       "    .dataframe tbody tr th:only-of-type {\n",
       "        vertical-align: middle;\n",
       "    }\n",
       "\n",
       "    .dataframe tbody tr th {\n",
       "        vertical-align: top;\n",
       "    }\n",
       "\n",
       "    .dataframe thead th {\n",
       "        text-align: right;\n",
       "    }\n",
       "</style>\n",
       "<table border=\"1\" class=\"dataframe\">\n",
       "  <thead>\n",
       "    <tr style=\"text-align: right;\">\n",
       "      <th></th>\n",
       "      <th>noncovid</th>\n",
       "      <th>matched_covid</th>\n",
       "      <th>significant</th>\n",
       "    </tr>\n",
       "  </thead>\n",
       "  <tbody>\n",
       "    <tr>\n",
       "      <th>Age - Mean</th>\n",
       "      <td>74.047619</td>\n",
       "      <td>73.348333</td>\n",
       "      <td>False</td>\n",
       "    </tr>\n",
       "    <tr>\n",
       "      <th>Age - Standard Deviation</th>\n",
       "      <td>13.437241</td>\n",
       "      <td>13.39176</td>\n",
       "      <td>-</td>\n",
       "    </tr>\n",
       "    <tr>\n",
       "      <th>Male</th>\n",
       "      <td>618 (52.55%)</td>\n",
       "      <td>291.0 (48.5%)</td>\n",
       "      <td>False</td>\n",
       "    </tr>\n",
       "    <tr>\n",
       "      <th>Diabetes</th>\n",
       "      <td>495 (42.09%)</td>\n",
       "      <td>268.0 (44.67%)</td>\n",
       "      <td>False</td>\n",
       "    </tr>\n",
       "    <tr>\n",
       "      <th>Hypertension</th>\n",
       "      <td>844 (71.77%)</td>\n",
       "      <td>443.0 (73.83%)</td>\n",
       "      <td>False</td>\n",
       "    </tr>\n",
       "    <tr>\n",
       "      <th>Mortality</th>\n",
       "      <td>159 (13.52%)</td>\n",
       "      <td>206.0 (34.33%)</td>\n",
       "      <td>True</td>\n",
       "    </tr>\n",
       "  </tbody>\n",
       "</table>\n",
       "</div>"
      ],
      "text/plain": [
       "                              noncovid   matched_covid significant\n",
       "Age - Mean                   74.047619       73.348333       False\n",
       "Age - Standard Deviation     13.437241        13.39176           -\n",
       "Male                      618 (52.55%)   291.0 (48.5%)       False\n",
       "Diabetes                  495 (42.09%)  268.0 (44.67%)       False\n",
       "Hypertension              844 (71.77%)  443.0 (73.83%)       False\n",
       "Mortality                 159 (13.52%)  206.0 (34.33%)        True"
      ]
     },
     "execution_count": 111,
     "metadata": {},
     "output_type": "execute_result"
    }
   ],
   "source": [
    "matchedcovid_noncovid_table "
   ]
  },
  {
   "cell_type": "markdown",
   "id": "8b85f4c2",
   "metadata": {},
   "source": [
    "# Extra Credit Visualization"
   ]
  },
  {
   "cell_type": "code",
   "execution_count": 112,
   "id": "4e0f0a99",
   "metadata": {},
   "outputs": [],
   "source": [
    "import pandas as pd\n",
    "import numpy as np\n",
    "import matplotlib.pyplot as plt\n",
    "import matplotlib.ticker as ticker\n",
    "import matplotlib.animation as animation\n",
    "from IPython.display import HTML\n",
    "import plotly.express as px\n",
    "import plotly.graph_objects as go\n",
    "import seaborn as sns\n",
    "from plotly.subplots import make_subplots"
   ]
  },
  {
   "cell_type": "code",
   "execution_count": 113,
   "id": "9e76d242",
   "metadata": {},
   "outputs": [],
   "source": [
    "covid = pd.read_csv(r'C:\\Users\\jaimv\\Downloads\\covid.csv')\n",
    "noncovid = pd.read_csv(r'C:\\Users\\jaimv\\Downloads\\noncovid.csv')"
   ]
  },
  {
   "cell_type": "code",
   "execution_count": 114,
   "id": "72d82144",
   "metadata": {},
   "outputs": [],
   "source": [
    "noncovid.rename({'ID': 'id', 'gendera': 'sex', 'hypertensive': 'hypertension'}, axis=1, inplace=True)\n",
    "noncovid = noncovid.dropna()"
   ]
  },
  {
   "cell_type": "code",
   "execution_count": 115,
   "id": "dd58a646",
   "metadata": {},
   "outputs": [
    {
     "data": {
      "application/vnd.plotly.v1+json": {
       "config": {
        "plotlyServerURL": "https://plot.ly"
       },
       "data": [
        {
         "hovertemplate": "age=%{x}<br>heart_rate=%{y}<br>sex=%{marker.color}<extra></extra>",
         "legendgroup": "",
         "marker": {
          "color": [
           1,
           2,
           2,
           1,
           1,
           2,
           2,
           1,
           2,
           2,
           2,
           1,
           2,
           2,
           2,
           2,
           1,
           2,
           2,
           1,
           1,
           1,
           2,
           1,
           1,
           2,
           1,
           1,
           1,
           2,
           1,
           2,
           2,
           1,
           2,
           1,
           1,
           2,
           1,
           2,
           1,
           1,
           1,
           1,
           1,
           2,
           1,
           2,
           2,
           1,
           1,
           1,
           2,
           1,
           2,
           2,
           1,
           2,
           1,
           2,
           2,
           1,
           2,
           2,
           1,
           2,
           1,
           2,
           1,
           2,
           2,
           1,
           1,
           1,
           2,
           1,
           2,
           2,
           2,
           2,
           1,
           2,
           2,
           2,
           2,
           1,
           1,
           1,
           1,
           1,
           2,
           1,
           2,
           2,
           2,
           2,
           1,
           2,
           2,
           1,
           2,
           1,
           1,
           1,
           1,
           2,
           2,
           1,
           2,
           2,
           1,
           2,
           2,
           1,
           1,
           1,
           2,
           1,
           1,
           1,
           1,
           2,
           1,
           2,
           2,
           1,
           2,
           1,
           1,
           1,
           2,
           1,
           2,
           1,
           1,
           2,
           1,
           2,
           2,
           2,
           1,
           2,
           1,
           1,
           1,
           1,
           2,
           2,
           1,
           1,
           1,
           2,
           1,
           2,
           1,
           1,
           2,
           1,
           1,
           2,
           2,
           2,
           1,
           1,
           2,
           2,
           1,
           2,
           1,
           1,
           2,
           1,
           1,
           2,
           2,
           1,
           2,
           2,
           1,
           2,
           2,
           2,
           2,
           1,
           1,
           1,
           2,
           2,
           2,
           1,
           1,
           1,
           2,
           1,
           1,
           2,
           2,
           1,
           1,
           1,
           2,
           2,
           1,
           2,
           1,
           1,
           2,
           2,
           1,
           1,
           1,
           1,
           2,
           1,
           1,
           1,
           1,
           2,
           2,
           1,
           2,
           2,
           1,
           2,
           1,
           2,
           1,
           1,
           2,
           1,
           2,
           2,
           2,
           2,
           1,
           1,
           2,
           1,
           1,
           2,
           2,
           1,
           1,
           1,
           1,
           2,
           2,
           2,
           2,
           1,
           1,
           1,
           1,
           2,
           2,
           2,
           2,
           1,
           1,
           1,
           1,
           1,
           1,
           2,
           1,
           2,
           2,
           2,
           2,
           2,
           2,
           2,
           1,
           2,
           1,
           2,
           2,
           2,
           1,
           1,
           2,
           2,
           2,
           1,
           2,
           2,
           2,
           2,
           1,
           1,
           2,
           1,
           1,
           2,
           1,
           2,
           2,
           2,
           1,
           1,
           1,
           2,
           1,
           2,
           1,
           2,
           2,
           2,
           1,
           2,
           2,
           2,
           1,
           2,
           1,
           2,
           2,
           1,
           1,
           1,
           2,
           2,
           1,
           1,
           1,
           2,
           1,
           1,
           2,
           2,
           1,
           2,
           1,
           1,
           1,
           2,
           1,
           1,
           2,
           1,
           2,
           2,
           2,
           2,
           2,
           2,
           1,
           2,
           2,
           1,
           2,
           2,
           1,
           2,
           2,
           2,
           2,
           2,
           2,
           1,
           2,
           1,
           1,
           1,
           1,
           2,
           2,
           2,
           1,
           2,
           2,
           2,
           1,
           2,
           2,
           2,
           1,
           1,
           1,
           2,
           2,
           1,
           1,
           2,
           1,
           2,
           1,
           1,
           2,
           1,
           2,
           2,
           1,
           1,
           2,
           2,
           1,
           2,
           2,
           1,
           2,
           1,
           2,
           1,
           2,
           2,
           1,
           2,
           2,
           2,
           1,
           2,
           1,
           1,
           2,
           2,
           2,
           2,
           2,
           2,
           1,
           1,
           2,
           1,
           1,
           1,
           2,
           1
          ],
          "coloraxis": "coloraxis",
          "opacity": 0.65,
          "symbol": "circle"
         },
         "mode": "markers",
         "name": "",
         "orientation": "v",
         "showlegend": false,
         "type": "scatter",
         "x": [
          72,
          83,
          43,
          76,
          72,
          61,
          83,
          83,
          69,
          56,
          78,
          58,
          66,
          89,
          79,
          72,
          69,
          64,
          64,
          76,
          84,
          89,
          80,
          83,
          63,
          74,
          56,
          53,
          82,
          60,
          57,
          89,
          80,
          81,
          74,
          71,
          64,
          61,
          84,
          65,
          53,
          94,
          70,
          68,
          78,
          72,
          82,
          76,
          82,
          56,
          48,
          51,
          87,
          67,
          53,
          61,
          79,
          73,
          69,
          66,
          86,
          60,
          89,
          86,
          68,
          78,
          49,
          55,
          76,
          91,
          89,
          72,
          48,
          64,
          84,
          65,
          45,
          89,
          46,
          86,
          66,
          89,
          81,
          89,
          58,
          57,
          40,
          64,
          66,
          89,
          58,
          71,
          63,
          80,
          83,
          77,
          48,
          85,
          46,
          78,
          86,
          68,
          72,
          63,
          89,
          77,
          77,
          50,
          80,
          64,
          66,
          89,
          69,
          84,
          81,
          72,
          76,
          66,
          89,
          78,
          77,
          66,
          51,
          83,
          57,
          62,
          82,
          85,
          88,
          83,
          58,
          68,
          60,
          67,
          68,
          73,
          63,
          79,
          89,
          74,
          66,
          51,
          69,
          58,
          81,
          81,
          93,
          60,
          55,
          72,
          84,
          67,
          90,
          66,
          45,
          78,
          81,
          85,
          69,
          89,
          84,
          89,
          71,
          86,
          96,
          53,
          53,
          71,
          87,
          89,
          86,
          85,
          74,
          70,
          83,
          67,
          89,
          54,
          57,
          78,
          88,
          60,
          89,
          70,
          50,
          78,
          85,
          89,
          64,
          89,
          82,
          89,
          89,
          58,
          82,
          57,
          80,
          68,
          67,
          52,
          68,
          84,
          84,
          65,
          71,
          61,
          69,
          50,
          77,
          53,
          84,
          81,
          87,
          80,
          60,
          76,
          89,
          51,
          47,
          68,
          64,
          70,
          72,
          59,
          39,
          78,
          81,
          65,
          44,
          84,
          61,
          53,
          87,
          73,
          75,
          87,
          87,
          72,
          64,
          89,
          70,
          78,
          89,
          52,
          85,
          84,
          67,
          80,
          84,
          60,
          74,
          84,
          89,
          92,
          77,
          81,
          73,
          53,
          79,
          62,
          88,
          80,
          89,
          92,
          71,
          63,
          88,
          94,
          76,
          62,
          86,
          47,
          96,
          83,
          38,
          64,
          55,
          46,
          98,
          48,
          99,
          72,
          90,
          80,
          89,
          83,
          75,
          62,
          92,
          60,
          79,
          86,
          89,
          75,
          79,
          78,
          70,
          79,
          80,
          56,
          52,
          66,
          58,
          65,
          60,
          85,
          67,
          75,
          65,
          68,
          65,
          69,
          65,
          69,
          87,
          75,
          86,
          78,
          89,
          73,
          82,
          35,
          85,
          35,
          86,
          43,
          48,
          84,
          63,
          84,
          89,
          71,
          81,
          64,
          61,
          56,
          67,
          62,
          54,
          93,
          75,
          84,
          79,
          73,
          88,
          86,
          85,
          71,
          76,
          66,
          89,
          83,
          89,
          79,
          76,
          60,
          66,
          89,
          72,
          47,
          81,
          89,
          86,
          71,
          54,
          78,
          61,
          72,
          73,
          96,
          86,
          55,
          78,
          89,
          77,
          59,
          74,
          89,
          77,
          89,
          76,
          84,
          82,
          83,
          80,
          60,
          77,
          74,
          66,
          83,
          81,
          48,
          78,
          69,
          89,
          56,
          63,
          62,
          75,
          84,
          54,
          54,
          80,
          74,
          56,
          81,
          68,
          87,
          63,
          75,
          51,
          80,
          76,
          57,
          85,
          82,
          89,
          71,
          55,
          75,
          89,
          62,
          88,
          83,
          37,
          61,
          71,
          37
         ],
         "xaxis": "x",
         "y": [
          68.83783784,
          72.31818182,
          94.5,
          74.18181818,
          69.63636364,
          91.91666667,
          65.16,
          65.86956522,
          98.54411765,
          64.6,
          76.38461538,
          84.95833333,
          103.16,
          80.38888889,
          99.33333333,
          61.16,
          68.72,
          85.76190476,
          71.52380952,
          73.78125,
          73.07407407,
          36,
          61.35135135,
          68.76923077,
          80.88,
          70.04,
          114.9615385,
          107.8484848,
          60.79166667,
          76.7037037,
          80.38095238,
          82.58333333,
          63.34615385,
          70.59259259,
          81.23076923,
          75.9375,
          50.25,
          76.7037037,
          109.1153846,
          93.56,
          103.84,
          81.38888889,
          108.6923077,
          90.03703704,
          81.16,
          72.05263158,
          117.3478261,
          90.43478261,
          113.7333333,
          78.40540541,
          94.5,
          61.45454545,
          82.90909091,
          92.68,
          97.45454545,
          86.06896552,
          101.173913,
          87.36,
          87.609375,
          82.875,
          55.58333333,
          78.8,
          61.70833333,
          80.04545455,
          78.30769231,
          67.84210526,
          83.78571429,
          115.2162162,
          70.24,
          57.79166667,
          55.39285714,
          59.66666667,
          73.31578947,
          83.32,
          69.08,
          95.07894737,
          92.15625,
          103.76,
          86.13636364,
          59.08333333,
          65.41666667,
          92.68571429,
          85,
          69.88461538,
          101.1351351,
          86.11111111,
          86.20454545,
          103.28,
          105.2857143,
          65.75,
          83.78947368,
          65.52,
          65.80769231,
          88.79166667,
          65.2,
          77.9,
          98.5625,
          73.47826087,
          80.92307692,
          81.79166667,
          74.34782609,
          67.72,
          79.25806452,
          85.25925926,
          82.40909091,
          56.6,
          76.16666667,
          77.52,
          68.11764706,
          71.82758621,
          110.0294118,
          80.95652174,
          90.27586207,
          69.92,
          66.9,
          75.66666667,
          77.83333333,
          101.2727273,
          107.6521739,
          85,
          80.45833333,
          92.94871795,
          116.0714286,
          77.16666667,
          97.29166667,
          60.23636364,
          71.10714286,
          60.95833333,
          93.9,
          71.92,
          84.95833333,
          85.71875,
          75.13636364,
          78.45454545,
          63.2,
          85.41176471,
          104.7916667,
          112.2307692,
          81.33333333,
          93.11764706,
          104.862069,
          90.82758621,
          126.3793103,
          77.125,
          60.05555556,
          80.2962963,
          114.2,
          86.13043478,
          76.95833333,
          85.43478261,
          76.30434783,
          66.7,
          101.3461538,
          79.70833333,
          102.6086957,
          97.93333333,
          83.79310345,
          60.48148148,
          93.45833333,
          86.95833333,
          96.82608696,
          82.45833333,
          69.96,
          82.12,
          97.26829268,
          81.19230769,
          103.6785714,
          74.68,
          94.125,
          63.86956522,
          107.8478261,
          93.32,
          67.26086957,
          109.84,
          81.96428571,
          87.42424242,
          93.94444444,
          56.76923077,
          99.41666667,
          75.32,
          71.32,
          65.38888889,
          58.13043478,
          80.91111111,
          91.02,
          98.13207547,
          56.4,
          39.32142857,
          78.70833333,
          64.6,
          89.33333333,
          93.13043478,
          74.56,
          75.27272727,
          98.33333333,
          63.73529412,
          112.4347826,
          95.03225806,
          66.08695652,
          99.6,
          96.88,
          67.8,
          91.24137931,
          85.77419355,
          108.7407407,
          80.48,
          81.64,
          85.29166667,
          96.43478261,
          97.69565217,
          86.80952381,
          100.09375,
          74.66666667,
          94.46153846,
          93.38461538,
          70.39285714,
          93.29166667,
          84.32,
          117.75,
          91.25925926,
          110.6296296,
          92.55319149,
          69.52173913,
          87.28571429,
          71.16,
          72.75,
          93.46153846,
          79.65217391,
          133.0689655,
          76.42307692,
          94.32,
          80.72,
          112.1395349,
          75.04761905,
          85.95652174,
          82.07407407,
          100.75,
          73.68518519,
          98.3015873,
          78.04166667,
          89.70588235,
          95.60869565,
          85.56521739,
          69.91304348,
          90.21428571,
          69.56,
          70.12,
          88.26666667,
          72.65384615,
          90.57142857,
          64.32142857,
          60.16,
          79.44736842,
          70.26923077,
          114.0952381,
          86.18181818,
          104.72,
          116.675,
          134.5652174,
          107.8181818,
          101.0967742,
          77.77777778,
          93.84615385,
          83.7826087,
          70.41666667,
          84.48,
          61.15384615,
          61,
          78.06666667,
          100.6964286,
          85.80645161,
          65.7027027,
          97,
          103.5833333,
          110.84,
          75.58823529,
          106.7142857,
          121,
          80.9047619,
          94.125,
          88.68421053,
          73.95454545,
          88.65384615,
          92.55172414,
          67.52631579,
          121.8,
          113.6818182,
          87.03846154,
          95.28571429,
          93.79166667,
          80.41666667,
          96.37142857,
          100.72,
          70.96153846,
          99.73913043,
          99.82608696,
          108.4545455,
          108.2727273,
          62.94736842,
          135.7083333,
          105.6764706,
          85.04166667,
          73.21875,
          104.1851852,
          81.5,
          70.55555556,
          93.32352941,
          67.52941176,
          91.53846154,
          69.61111111,
          71.39130435,
          65.7037037,
          71.12,
          89.33333333,
          67.63636364,
          98.43478261,
          92,
          86.63934426,
          89.26829268,
          65.22222222,
          65,
          121.6071429,
          74.8,
          114.7368421,
          81.91304348,
          67.44736842,
          91,
          99.375,
          108.8076923,
          84.54166667,
          62.68181818,
          79.82608696,
          98.53846154,
          82.37037037,
          54.17857143,
          75.92,
          59.18181818,
          85.03448276,
          67.96,
          72.32142857,
          88,
          56.40740741,
          77.39130435,
          76.91304348,
          62.54545455,
          95.64,
          78.57894737,
          101.9310345,
          69.36,
          57.44,
          81.80769231,
          77,
          107.0357143,
          94.0625,
          114.5862069,
          96.75,
          86.71875,
          93.62790698,
          88.07317073,
          74.5862069,
          78.34615385,
          79.24137931,
          77.59090909,
          83.03448276,
          93.8,
          101.6129032,
          68.03125,
          60.56521739,
          92.33333333,
          84,
          67.29166667,
          88.32258065,
          103.2916667,
          66.44736842,
          114.7272727,
          91.62962963,
          76.61904762,
          87.875,
          64.27272727,
          72.81481481,
          92.63636364,
          96.94117647,
          96.8,
          97.02325581,
          93.92307692,
          70.91666667,
          105.0416667,
          90.36363636,
          83.60869565,
          65.43478261,
          84.47058824,
          97.3125,
          102.6538462,
          72.51851852,
          73.65217391,
          96.33333333,
          109.40625,
          118.5185185,
          96.96969697,
          99.08695652,
          100.1818182,
          88.19444444,
          59.64285714,
          88,
          86.82142857,
          99.03571429,
          90.73076923,
          96.36,
          91.23529412,
          85.03125,
          115.0416667,
          63.65217391,
          111.962963,
          118.2307692,
          92.09090909,
          80.41666667,
          78.1,
          99.96666667,
          104.047619,
          65.28571429,
          99.08695652,
          89.35714286,
          105.2222222,
          81.73333333,
          92.4,
          83.7826087,
          80.42857143,
          107.4
         ],
         "yaxis": "y"
        },
        {
         "name": "Weights: Uniform",
         "type": "scatter",
         "x": [
          35,
          35.64646464646464,
          36.292929292929294,
          36.93939393939394,
          37.58585858585859,
          38.23232323232323,
          38.878787878787875,
          39.525252525252526,
          40.17171717171717,
          40.81818181818182,
          41.464646464646464,
          42.111111111111114,
          42.75757575757576,
          43.4040404040404,
          44.05050505050505,
          44.696969696969695,
          45.343434343434346,
          45.98989898989899,
          46.63636363636364,
          47.282828282828284,
          47.92929292929293,
          48.57575757575758,
          49.22222222222222,
          49.86868686868687,
          50.515151515151516,
          51.161616161616166,
          51.80808080808081,
          52.45454545454545,
          53.101010101010104,
          53.74747474747475,
          54.39393939393939,
          55.04040404040404,
          55.68686868686869,
          56.333333333333336,
          56.97979797979798,
          57.62626262626263,
          58.27272727272727,
          58.91919191919192,
          59.56565656565657,
          60.21212121212122,
          60.85858585858586,
          61.505050505050505,
          62.151515151515156,
          62.7979797979798,
          63.44444444444444,
          64.0909090909091,
          64.73737373737374,
          65.3838383838384,
          66.03030303030303,
          66.67676767676768,
          67.32323232323233,
          67.96969696969697,
          68.61616161616162,
          69.26262626262627,
          69.9090909090909,
          70.55555555555556,
          71.20202020202021,
          71.84848484848484,
          72.4949494949495,
          73.14141414141415,
          73.78787878787878,
          74.43434343434345,
          75.08080808080808,
          75.72727272727273,
          76.37373737373738,
          77.02020202020202,
          77.66666666666667,
          78.31313131313132,
          78.95959595959596,
          79.60606060606061,
          80.25252525252526,
          80.8989898989899,
          81.54545454545455,
          82.1919191919192,
          82.83838383838383,
          83.4848484848485,
          84.13131313131314,
          84.77777777777777,
          85.42424242424244,
          86.07070707070707,
          86.71717171717172,
          87.36363636363637,
          88.01010101010101,
          88.65656565656566,
          89.30303030303031,
          89.94949494949495,
          90.5959595959596,
          91.24242424242425,
          91.88888888888889,
          92.53535353535355,
          93.18181818181819,
          93.82828282828282,
          94.47474747474749,
          95.12121212121212,
          95.76767676767678,
          96.41414141414143,
          97.06060606060606,
          97.70707070707071,
          98.35353535353536,
          99
         ],
         "y": [
          99.936486437,
          99.936486437,
          99.936486437,
          99.936486437,
          99.936486437,
          99.936486437,
          99.936486437,
          99.936486437,
          95.778582507,
          95.778582507,
          95.778582507,
          93.520526563,
          93.520526563,
          98.179526563,
          96.129342288,
          96.129342288,
          96.843226136,
          94.724805083,
          90.660163963,
          88.777777599,
          89.064041336,
          88.643317043,
          88.643317043,
          87.86483973899999,
          89.105993711,
          91.144474104,
          94.820777129,
          94.76190755899998,
          91.383379228,
          89.47750549199999,
          89.81645282899999,
          97.175574066,
          92.20785720899998,
          92.98393248300002,
          89.98001988600001,
          84.42414828700001,
          83.975404901,
          83.607680033,
          83.81571016299999,
          83.81571016299999,
          80.55700851,
          89.52548576199999,
          90.96741330800002,
          88.026136119,
          88.48658112700001,
          83.597322109,
          87.47574817300001,
          85.06656505400001,
          86.935795637,
          76.610650865,
          77.29503512400001,
          82.849687701,
          87.41825539,
          87.41825539,
          95.313282246,
          81.04750830200001,
          81.04750830200001,
          73.778955126,
          73.778955126,
          81.448705842,
          79.141278217,
          81.44194310200001,
          84.209073403,
          83.30414588599999,
          83.30414588599999,
          86.10166873799999,
          89.70618945999999,
          89.70618945999999,
          98.25055616799997,
          79.756816661,
          79.756816661,
          82.258242271,
          87.786330226,
          85.80233022600001,
          82.207340447,
          82.207340447,
          80.95528171199999,
          75.08777734099999,
          75.08777734099999,
          80.804651092,
          87.405809089,
          87.29113505400002,
          81.64956655199998,
          82.359047591,
          80.67060885600002,
          83.536067788,
          82.512899454,
          85.09606083000001,
          82.603953784,
          82.60395378400001,
          81.73078305700001,
          85.65161639,
          85.65161639,
          86.715169503,
          87.205329686,
          87.205329686,
          87.205329686,
          87.205329686,
          87.205329686,
          87.205329686
         ]
        },
        {
         "name": "Weights: Distance",
         "type": "scatter",
         "x": [
          35,
          35.64646464646464,
          36.292929292929294,
          36.93939393939394,
          37.58585858585859,
          38.23232323232323,
          38.878787878787875,
          39.525252525252526,
          40.17171717171717,
          40.81818181818182,
          41.464646464646464,
          42.111111111111114,
          42.75757575757576,
          43.4040404040404,
          44.05050505050505,
          44.696969696969695,
          45.343434343434346,
          45.98989898989899,
          46.63636363636364,
          47.282828282828284,
          47.92929292929293,
          48.57575757575758,
          49.22222222222222,
          49.86868686868687,
          50.515151515151516,
          51.161616161616166,
          51.80808080808081,
          52.45454545454545,
          53.101010101010104,
          53.74747474747475,
          54.39393939393939,
          55.04040404040404,
          55.68686868686869,
          56.333333333333336,
          56.97979797979798,
          57.62626262626263,
          58.27272727272727,
          58.91919191919192,
          59.56565656565657,
          60.21212121212122,
          60.85858585858586,
          61.505050505050505,
          62.151515151515156,
          62.7979797979798,
          63.44444444444444,
          64.0909090909091,
          64.73737373737374,
          65.3838383838384,
          66.03030303030303,
          66.67676767676768,
          67.32323232323233,
          67.96969696969697,
          68.61616161616162,
          69.26262626262627,
          69.9090909090909,
          70.55555555555556,
          71.20202020202021,
          71.84848484848484,
          72.4949494949495,
          73.14141414141415,
          73.78787878787878,
          74.43434343434345,
          75.08080808080808,
          75.72727272727273,
          76.37373737373738,
          77.02020202020202,
          77.66666666666667,
          78.31313131313132,
          78.95959595959596,
          79.60606060606061,
          80.25252525252526,
          80.8989898989899,
          81.54545454545455,
          82.1919191919192,
          82.83838383838383,
          83.4848484848485,
          84.13131313131314,
          84.77777777777777,
          85.42424242424244,
          86.07070707070707,
          86.71717171717172,
          87.36363636363637,
          88.01010101010101,
          88.65656565656566,
          89.30303030303031,
          89.94949494949495,
          90.5959595959596,
          91.24242424242425,
          91.88888888888889,
          92.53535353535355,
          93.18181818181819,
          93.82828282828282,
          94.47474747474749,
          95.12121212121212,
          95.76767676767678,
          96.41414141414143,
          97.06060606060606,
          97.70707070707071,
          98.35353535353536,
          99
         ],
         "y": [
          118.1719925,
          108.06191434417339,
          103.0554400562199,
          100.15340255529291,
          101.44352495448565,
          101.12361457312261,
          81.5469037080648,
          89.18217629463392,
          88.42438538987724,
          91.46149711640717,
          92.3533534808549,
          90.87197633781363,
          87.0403735293338,
          95.24509811952322,
          123.10253581724994,
          99.30544245126998,
          97.27162363340454,
          95.95498125864415,
          89.73928179037888,
          88.12309423594004,
          91.19081245051318,
          89.28190382451676,
          86.86880052709252,
          85.73256978613182,
          89.89071782375302,
          92.92341223306202,
          92.98724824382238,
          94.59028098169811,
          97.6469921886475,
          85.47019303048484,
          88.02713528266662,
          98.1648386600404,
          92.68222703314586,
          93.09349199647056,
          90.83121035927118,
          83.94197923658714,
          83.46956906421526,
          87.6082628221119,
          83.815710163,
          83.815710163,
          79.65704319042374,
          89.56979396997988,
          92.26758767061608,
          90.34915275373514,
          88.9610645785417,
          83.59732210899999,
          86.92108022518866,
          85.54645538418436,
          86.93579563699998,
          76.67399416016667,
          77.03899909830002,
          82.84968770099998,
          87.41825539000001,
          87.41825539000001,
          97.88353384078123,
          81.04750830200001,
          81.04750830199998,
          73.778955126,
          73.77895512599999,
          83.32870580215068,
          78.95497317558558,
          80.94087961271545,
          85.61104812180169,
          83.304145886,
          83.304145886,
          87.27224991526859,
          89.70618945999999,
          89.70618946,
          100.67975362002328,
          79.756816661,
          79.756816661,
          82.25824227099999,
          87.83355616203391,
          87.50623028525031,
          82.207340447,
          82.20734044699999,
          80.95528171200002,
          75.08777734099999,
          75.08777734099999,
          80.804651092,
          88.19236849854168,
          87.86918113640621,
          82.52467987199323,
          82.359047591,
          80.67060885599999,
          92.48597975855257,
          80.67179634288365,
          76.86233190434365,
          82.83306499641986,
          84.70862134333692,
          87.55715679184246,
          77.20143801740788,
          81.11463599090733,
          86.56035138451287,
          90.86069498805595,
          90.12612842312342,
          87.87860624408707,
          85.05134110658187,
          85.35608988265894,
          88.68421053
         ]
        }
       ],
       "layout": {
        "coloraxis": {
         "colorbar": {
          "title": {
           "text": "sex"
          }
         },
         "colorscale": [
          [
           0,
           "#0d0887"
          ],
          [
           0.1111111111111111,
           "#46039f"
          ],
          [
           0.2222222222222222,
           "#7201a8"
          ],
          [
           0.3333333333333333,
           "#9c179e"
          ],
          [
           0.4444444444444444,
           "#bd3786"
          ],
          [
           0.5555555555555556,
           "#d8576b"
          ],
          [
           0.6666666666666666,
           "#ed7953"
          ],
          [
           0.7777777777777778,
           "#fb9f3a"
          ],
          [
           0.8888888888888888,
           "#fdca26"
          ],
          [
           1,
           "#f0f921"
          ]
         ]
        },
        "legend": {
         "tracegroupgap": 0
        },
        "margin": {
         "t": 60
        },
        "template": {
         "data": {
          "bar": [
           {
            "error_x": {
             "color": "#2a3f5f"
            },
            "error_y": {
             "color": "#2a3f5f"
            },
            "marker": {
             "line": {
              "color": "#E5ECF6",
              "width": 0.5
             },
             "pattern": {
              "fillmode": "overlay",
              "size": 10,
              "solidity": 0.2
             }
            },
            "type": "bar"
           }
          ],
          "barpolar": [
           {
            "marker": {
             "line": {
              "color": "#E5ECF6",
              "width": 0.5
             },
             "pattern": {
              "fillmode": "overlay",
              "size": 10,
              "solidity": 0.2
             }
            },
            "type": "barpolar"
           }
          ],
          "carpet": [
           {
            "aaxis": {
             "endlinecolor": "#2a3f5f",
             "gridcolor": "white",
             "linecolor": "white",
             "minorgridcolor": "white",
             "startlinecolor": "#2a3f5f"
            },
            "baxis": {
             "endlinecolor": "#2a3f5f",
             "gridcolor": "white",
             "linecolor": "white",
             "minorgridcolor": "white",
             "startlinecolor": "#2a3f5f"
            },
            "type": "carpet"
           }
          ],
          "choropleth": [
           {
            "colorbar": {
             "outlinewidth": 0,
             "ticks": ""
            },
            "type": "choropleth"
           }
          ],
          "contour": [
           {
            "colorbar": {
             "outlinewidth": 0,
             "ticks": ""
            },
            "colorscale": [
             [
              0,
              "#0d0887"
             ],
             [
              0.1111111111111111,
              "#46039f"
             ],
             [
              0.2222222222222222,
              "#7201a8"
             ],
             [
              0.3333333333333333,
              "#9c179e"
             ],
             [
              0.4444444444444444,
              "#bd3786"
             ],
             [
              0.5555555555555556,
              "#d8576b"
             ],
             [
              0.6666666666666666,
              "#ed7953"
             ],
             [
              0.7777777777777778,
              "#fb9f3a"
             ],
             [
              0.8888888888888888,
              "#fdca26"
             ],
             [
              1,
              "#f0f921"
             ]
            ],
            "type": "contour"
           }
          ],
          "contourcarpet": [
           {
            "colorbar": {
             "outlinewidth": 0,
             "ticks": ""
            },
            "type": "contourcarpet"
           }
          ],
          "heatmap": [
           {
            "colorbar": {
             "outlinewidth": 0,
             "ticks": ""
            },
            "colorscale": [
             [
              0,
              "#0d0887"
             ],
             [
              0.1111111111111111,
              "#46039f"
             ],
             [
              0.2222222222222222,
              "#7201a8"
             ],
             [
              0.3333333333333333,
              "#9c179e"
             ],
             [
              0.4444444444444444,
              "#bd3786"
             ],
             [
              0.5555555555555556,
              "#d8576b"
             ],
             [
              0.6666666666666666,
              "#ed7953"
             ],
             [
              0.7777777777777778,
              "#fb9f3a"
             ],
             [
              0.8888888888888888,
              "#fdca26"
             ],
             [
              1,
              "#f0f921"
             ]
            ],
            "type": "heatmap"
           }
          ],
          "heatmapgl": [
           {
            "colorbar": {
             "outlinewidth": 0,
             "ticks": ""
            },
            "colorscale": [
             [
              0,
              "#0d0887"
             ],
             [
              0.1111111111111111,
              "#46039f"
             ],
             [
              0.2222222222222222,
              "#7201a8"
             ],
             [
              0.3333333333333333,
              "#9c179e"
             ],
             [
              0.4444444444444444,
              "#bd3786"
             ],
             [
              0.5555555555555556,
              "#d8576b"
             ],
             [
              0.6666666666666666,
              "#ed7953"
             ],
             [
              0.7777777777777778,
              "#fb9f3a"
             ],
             [
              0.8888888888888888,
              "#fdca26"
             ],
             [
              1,
              "#f0f921"
             ]
            ],
            "type": "heatmapgl"
           }
          ],
          "histogram": [
           {
            "marker": {
             "pattern": {
              "fillmode": "overlay",
              "size": 10,
              "solidity": 0.2
             }
            },
            "type": "histogram"
           }
          ],
          "histogram2d": [
           {
            "colorbar": {
             "outlinewidth": 0,
             "ticks": ""
            },
            "colorscale": [
             [
              0,
              "#0d0887"
             ],
             [
              0.1111111111111111,
              "#46039f"
             ],
             [
              0.2222222222222222,
              "#7201a8"
             ],
             [
              0.3333333333333333,
              "#9c179e"
             ],
             [
              0.4444444444444444,
              "#bd3786"
             ],
             [
              0.5555555555555556,
              "#d8576b"
             ],
             [
              0.6666666666666666,
              "#ed7953"
             ],
             [
              0.7777777777777778,
              "#fb9f3a"
             ],
             [
              0.8888888888888888,
              "#fdca26"
             ],
             [
              1,
              "#f0f921"
             ]
            ],
            "type": "histogram2d"
           }
          ],
          "histogram2dcontour": [
           {
            "colorbar": {
             "outlinewidth": 0,
             "ticks": ""
            },
            "colorscale": [
             [
              0,
              "#0d0887"
             ],
             [
              0.1111111111111111,
              "#46039f"
             ],
             [
              0.2222222222222222,
              "#7201a8"
             ],
             [
              0.3333333333333333,
              "#9c179e"
             ],
             [
              0.4444444444444444,
              "#bd3786"
             ],
             [
              0.5555555555555556,
              "#d8576b"
             ],
             [
              0.6666666666666666,
              "#ed7953"
             ],
             [
              0.7777777777777778,
              "#fb9f3a"
             ],
             [
              0.8888888888888888,
              "#fdca26"
             ],
             [
              1,
              "#f0f921"
             ]
            ],
            "type": "histogram2dcontour"
           }
          ],
          "mesh3d": [
           {
            "colorbar": {
             "outlinewidth": 0,
             "ticks": ""
            },
            "type": "mesh3d"
           }
          ],
          "parcoords": [
           {
            "line": {
             "colorbar": {
              "outlinewidth": 0,
              "ticks": ""
             }
            },
            "type": "parcoords"
           }
          ],
          "pie": [
           {
            "automargin": true,
            "type": "pie"
           }
          ],
          "scatter": [
           {
            "fillpattern": {
             "fillmode": "overlay",
             "size": 10,
             "solidity": 0.2
            },
            "type": "scatter"
           }
          ],
          "scatter3d": [
           {
            "line": {
             "colorbar": {
              "outlinewidth": 0,
              "ticks": ""
             }
            },
            "marker": {
             "colorbar": {
              "outlinewidth": 0,
              "ticks": ""
             }
            },
            "type": "scatter3d"
           }
          ],
          "scattercarpet": [
           {
            "marker": {
             "colorbar": {
              "outlinewidth": 0,
              "ticks": ""
             }
            },
            "type": "scattercarpet"
           }
          ],
          "scattergeo": [
           {
            "marker": {
             "colorbar": {
              "outlinewidth": 0,
              "ticks": ""
             }
            },
            "type": "scattergeo"
           }
          ],
          "scattergl": [
           {
            "marker": {
             "colorbar": {
              "outlinewidth": 0,
              "ticks": ""
             }
            },
            "type": "scattergl"
           }
          ],
          "scattermapbox": [
           {
            "marker": {
             "colorbar": {
              "outlinewidth": 0,
              "ticks": ""
             }
            },
            "type": "scattermapbox"
           }
          ],
          "scatterpolar": [
           {
            "marker": {
             "colorbar": {
              "outlinewidth": 0,
              "ticks": ""
             }
            },
            "type": "scatterpolar"
           }
          ],
          "scatterpolargl": [
           {
            "marker": {
             "colorbar": {
              "outlinewidth": 0,
              "ticks": ""
             }
            },
            "type": "scatterpolargl"
           }
          ],
          "scatterternary": [
           {
            "marker": {
             "colorbar": {
              "outlinewidth": 0,
              "ticks": ""
             }
            },
            "type": "scatterternary"
           }
          ],
          "surface": [
           {
            "colorbar": {
             "outlinewidth": 0,
             "ticks": ""
            },
            "colorscale": [
             [
              0,
              "#0d0887"
             ],
             [
              0.1111111111111111,
              "#46039f"
             ],
             [
              0.2222222222222222,
              "#7201a8"
             ],
             [
              0.3333333333333333,
              "#9c179e"
             ],
             [
              0.4444444444444444,
              "#bd3786"
             ],
             [
              0.5555555555555556,
              "#d8576b"
             ],
             [
              0.6666666666666666,
              "#ed7953"
             ],
             [
              0.7777777777777778,
              "#fb9f3a"
             ],
             [
              0.8888888888888888,
              "#fdca26"
             ],
             [
              1,
              "#f0f921"
             ]
            ],
            "type": "surface"
           }
          ],
          "table": [
           {
            "cells": {
             "fill": {
              "color": "#EBF0F8"
             },
             "line": {
              "color": "white"
             }
            },
            "header": {
             "fill": {
              "color": "#C8D4E3"
             },
             "line": {
              "color": "white"
             }
            },
            "type": "table"
           }
          ]
         },
         "layout": {
          "annotationdefaults": {
           "arrowcolor": "#2a3f5f",
           "arrowhead": 0,
           "arrowwidth": 1
          },
          "autotypenumbers": "strict",
          "coloraxis": {
           "colorbar": {
            "outlinewidth": 0,
            "ticks": ""
           }
          },
          "colorscale": {
           "diverging": [
            [
             0,
             "#8e0152"
            ],
            [
             0.1,
             "#c51b7d"
            ],
            [
             0.2,
             "#de77ae"
            ],
            [
             0.3,
             "#f1b6da"
            ],
            [
             0.4,
             "#fde0ef"
            ],
            [
             0.5,
             "#f7f7f7"
            ],
            [
             0.6,
             "#e6f5d0"
            ],
            [
             0.7,
             "#b8e186"
            ],
            [
             0.8,
             "#7fbc41"
            ],
            [
             0.9,
             "#4d9221"
            ],
            [
             1,
             "#276419"
            ]
           ],
           "sequential": [
            [
             0,
             "#0d0887"
            ],
            [
             0.1111111111111111,
             "#46039f"
            ],
            [
             0.2222222222222222,
             "#7201a8"
            ],
            [
             0.3333333333333333,
             "#9c179e"
            ],
            [
             0.4444444444444444,
             "#bd3786"
            ],
            [
             0.5555555555555556,
             "#d8576b"
            ],
            [
             0.6666666666666666,
             "#ed7953"
            ],
            [
             0.7777777777777778,
             "#fb9f3a"
            ],
            [
             0.8888888888888888,
             "#fdca26"
            ],
            [
             1,
             "#f0f921"
            ]
           ],
           "sequentialminus": [
            [
             0,
             "#0d0887"
            ],
            [
             0.1111111111111111,
             "#46039f"
            ],
            [
             0.2222222222222222,
             "#7201a8"
            ],
            [
             0.3333333333333333,
             "#9c179e"
            ],
            [
             0.4444444444444444,
             "#bd3786"
            ],
            [
             0.5555555555555556,
             "#d8576b"
            ],
            [
             0.6666666666666666,
             "#ed7953"
            ],
            [
             0.7777777777777778,
             "#fb9f3a"
            ],
            [
             0.8888888888888888,
             "#fdca26"
            ],
            [
             1,
             "#f0f921"
            ]
           ]
          },
          "colorway": [
           "#636efa",
           "#EF553B",
           "#00cc96",
           "#ab63fa",
           "#FFA15A",
           "#19d3f3",
           "#FF6692",
           "#B6E880",
           "#FF97FF",
           "#FECB52"
          ],
          "font": {
           "color": "#2a3f5f"
          },
          "geo": {
           "bgcolor": "white",
           "lakecolor": "white",
           "landcolor": "#E5ECF6",
           "showlakes": true,
           "showland": true,
           "subunitcolor": "white"
          },
          "hoverlabel": {
           "align": "left"
          },
          "hovermode": "closest",
          "mapbox": {
           "style": "light"
          },
          "paper_bgcolor": "white",
          "plot_bgcolor": "#E5ECF6",
          "polar": {
           "angularaxis": {
            "gridcolor": "white",
            "linecolor": "white",
            "ticks": ""
           },
           "bgcolor": "#E5ECF6",
           "radialaxis": {
            "gridcolor": "white",
            "linecolor": "white",
            "ticks": ""
           }
          },
          "scene": {
           "xaxis": {
            "backgroundcolor": "#E5ECF6",
            "gridcolor": "white",
            "gridwidth": 2,
            "linecolor": "white",
            "showbackground": true,
            "ticks": "",
            "zerolinecolor": "white"
           },
           "yaxis": {
            "backgroundcolor": "#E5ECF6",
            "gridcolor": "white",
            "gridwidth": 2,
            "linecolor": "white",
            "showbackground": true,
            "ticks": "",
            "zerolinecolor": "white"
           },
           "zaxis": {
            "backgroundcolor": "#E5ECF6",
            "gridcolor": "white",
            "gridwidth": 2,
            "linecolor": "white",
            "showbackground": true,
            "ticks": "",
            "zerolinecolor": "white"
           }
          },
          "shapedefaults": {
           "line": {
            "color": "#2a3f5f"
           }
          },
          "ternary": {
           "aaxis": {
            "gridcolor": "white",
            "linecolor": "white",
            "ticks": ""
           },
           "baxis": {
            "gridcolor": "white",
            "linecolor": "white",
            "ticks": ""
           },
           "bgcolor": "#E5ECF6",
           "caxis": {
            "gridcolor": "white",
            "linecolor": "white",
            "ticks": ""
           }
          },
          "title": {
           "x": 0.05
          },
          "xaxis": {
           "automargin": true,
           "gridcolor": "white",
           "linecolor": "white",
           "ticks": "",
           "title": {
            "standoff": 15
           },
           "zerolinecolor": "white",
           "zerolinewidth": 2
          },
          "yaxis": {
           "automargin": true,
           "gridcolor": "white",
           "linecolor": "white",
           "ticks": "",
           "title": {
            "standoff": 15
           },
           "zerolinecolor": "white",
           "zerolinewidth": 2
          }
         }
        },
        "xaxis": {
         "anchor": "y",
         "domain": [
          0,
          1
         ],
         "title": {
          "text": "age"
         }
        },
        "yaxis": {
         "anchor": "x",
         "domain": [
          0,
          1
         ],
         "title": {
          "text": "heart_rate"
         }
        }
       }
      },
      "text/html": [
       "<div>                            <div id=\"56cf3f18-5f6d-4e74-a938-b9337469406c\" class=\"plotly-graph-div\" style=\"height:525px; width:100%;\"></div>            <script type=\"text/javascript\">                require([\"plotly\"], function(Plotly) {                    window.PLOTLYENV=window.PLOTLYENV || {};                                    if (document.getElementById(\"56cf3f18-5f6d-4e74-a938-b9337469406c\")) {                    Plotly.newPlot(                        \"56cf3f18-5f6d-4e74-a938-b9337469406c\",                        [{\"hovertemplate\":\"age=%{x}<br>heart_rate=%{y}<br>sex=%{marker.color}<extra></extra>\",\"legendgroup\":\"\",\"marker\":{\"color\":[1,2,2,1,1,2,2,1,2,2,2,1,2,2,2,2,1,2,2,1,1,1,2,1,1,2,1,1,1,2,1,2,2,1,2,1,1,2,1,2,1,1,1,1,1,2,1,2,2,1,1,1,2,1,2,2,1,2,1,2,2,1,2,2,1,2,1,2,1,2,2,1,1,1,2,1,2,2,2,2,1,2,2,2,2,1,1,1,1,1,2,1,2,2,2,2,1,2,2,1,2,1,1,1,1,2,2,1,2,2,1,2,2,1,1,1,2,1,1,1,1,2,1,2,2,1,2,1,1,1,2,1,2,1,1,2,1,2,2,2,1,2,1,1,1,1,2,2,1,1,1,2,1,2,1,1,2,1,1,2,2,2,1,1,2,2,1,2,1,1,2,1,1,2,2,1,2,2,1,2,2,2,2,1,1,1,2,2,2,1,1,1,2,1,1,2,2,1,1,1,2,2,1,2,1,1,2,2,1,1,1,1,2,1,1,1,1,2,2,1,2,2,1,2,1,2,1,1,2,1,2,2,2,2,1,1,2,1,1,2,2,1,1,1,1,2,2,2,2,1,1,1,1,2,2,2,2,1,1,1,1,1,1,2,1,2,2,2,2,2,2,2,1,2,1,2,2,2,1,1,2,2,2,1,2,2,2,2,1,1,2,1,1,2,1,2,2,2,1,1,1,2,1,2,1,2,2,2,1,2,2,2,1,2,1,2,2,1,1,1,2,2,1,1,1,2,1,1,2,2,1,2,1,1,1,2,1,1,2,1,2,2,2,2,2,2,1,2,2,1,2,2,1,2,2,2,2,2,2,1,2,1,1,1,1,2,2,2,1,2,2,2,1,2,2,2,1,1,1,2,2,1,1,2,1,2,1,1,2,1,2,2,1,1,2,2,1,2,2,1,2,1,2,1,2,2,1,2,2,2,1,2,1,1,2,2,2,2,2,2,1,1,2,1,1,1,2,1],\"coloraxis\":\"coloraxis\",\"opacity\":0.65,\"symbol\":\"circle\"},\"mode\":\"markers\",\"name\":\"\",\"orientation\":\"v\",\"showlegend\":false,\"x\":[72,83,43,76,72,61,83,83,69,56,78,58,66,89,79,72,69,64,64,76,84,89,80,83,63,74,56,53,82,60,57,89,80,81,74,71,64,61,84,65,53,94,70,68,78,72,82,76,82,56,48,51,87,67,53,61,79,73,69,66,86,60,89,86,68,78,49,55,76,91,89,72,48,64,84,65,45,89,46,86,66,89,81,89,58,57,40,64,66,89,58,71,63,80,83,77,48,85,46,78,86,68,72,63,89,77,77,50,80,64,66,89,69,84,81,72,76,66,89,78,77,66,51,83,57,62,82,85,88,83,58,68,60,67,68,73,63,79,89,74,66,51,69,58,81,81,93,60,55,72,84,67,90,66,45,78,81,85,69,89,84,89,71,86,96,53,53,71,87,89,86,85,74,70,83,67,89,54,57,78,88,60,89,70,50,78,85,89,64,89,82,89,89,58,82,57,80,68,67,52,68,84,84,65,71,61,69,50,77,53,84,81,87,80,60,76,89,51,47,68,64,70,72,59,39,78,81,65,44,84,61,53,87,73,75,87,87,72,64,89,70,78,89,52,85,84,67,80,84,60,74,84,89,92,77,81,73,53,79,62,88,80,89,92,71,63,88,94,76,62,86,47,96,83,38,64,55,46,98,48,99,72,90,80,89,83,75,62,92,60,79,86,89,75,79,78,70,79,80,56,52,66,58,65,60,85,67,75,65,68,65,69,65,69,87,75,86,78,89,73,82,35,85,35,86,43,48,84,63,84,89,71,81,64,61,56,67,62,54,93,75,84,79,73,88,86,85,71,76,66,89,83,89,79,76,60,66,89,72,47,81,89,86,71,54,78,61,72,73,96,86,55,78,89,77,59,74,89,77,89,76,84,82,83,80,60,77,74,66,83,81,48,78,69,89,56,63,62,75,84,54,54,80,74,56,81,68,87,63,75,51,80,76,57,85,82,89,71,55,75,89,62,88,83,37,61,71,37],\"xaxis\":\"x\",\"y\":[68.83783784,72.31818182,94.5,74.18181818,69.63636364,91.91666667,65.16,65.86956522,98.54411765,64.6,76.38461538,84.95833333,103.16,80.38888889,99.33333333,61.16,68.72,85.76190476,71.52380952,73.78125,73.07407407,36.0,61.35135135,68.76923077,80.88,70.04,114.9615385,107.8484848,60.79166667,76.7037037,80.38095238,82.58333333,63.34615385,70.59259259,81.23076923,75.9375,50.25,76.7037037,109.1153846,93.56,103.84,81.38888889,108.6923077,90.03703704,81.16,72.05263158,117.3478261,90.43478261,113.7333333,78.40540541,94.5,61.45454545,82.90909091,92.68,97.45454545,86.06896552,101.173913,87.36,87.609375,82.875,55.58333333,78.8,61.70833333,80.04545455,78.30769231,67.84210526,83.78571429,115.2162162,70.24,57.79166667,55.39285714,59.66666667,73.31578947,83.32,69.08,95.07894737,92.15625,103.76,86.13636364,59.08333333,65.41666667,92.68571429,85.0,69.88461538,101.1351351,86.11111111,86.20454545,103.28,105.2857143,65.75,83.78947368,65.52,65.80769231,88.79166667,65.2,77.9,98.5625,73.47826087,80.92307692,81.79166667,74.34782609,67.72,79.25806452,85.25925926,82.40909091,56.6,76.16666667,77.52,68.11764706,71.82758621,110.0294118,80.95652174,90.27586207,69.92,66.9,75.66666667,77.83333333,101.2727273,107.6521739,85.0,80.45833333,92.94871795,116.0714286,77.16666667,97.29166667,60.23636364,71.10714286,60.95833333,93.9,71.92,84.95833333,85.71875,75.13636364,78.45454545,63.2,85.41176471,104.7916667,112.2307692,81.33333333,93.11764706,104.862069,90.82758621,126.3793103,77.125,60.05555556,80.2962963,114.2,86.13043478,76.95833333,85.43478261,76.30434783,66.7,101.3461538,79.70833333,102.6086957,97.93333333,83.79310345,60.48148148,93.45833333,86.95833333,96.82608696,82.45833333,69.96,82.12,97.26829268,81.19230769,103.6785714,74.68,94.125,63.86956522,107.8478261,93.32,67.26086957,109.84,81.96428571,87.42424242,93.94444444,56.76923077,99.41666667,75.32,71.32,65.38888889,58.13043478,80.91111111,91.02,98.13207547,56.4,39.32142857,78.70833333,64.6,89.33333333,93.13043478,74.56,75.27272727,98.33333333,63.73529412,112.4347826,95.03225806,66.08695652,99.6,96.88,67.8,91.24137931,85.77419355,108.7407407,80.48,81.64,85.29166667,96.43478261,97.69565217,86.80952381,100.09375,74.66666667,94.46153846,93.38461538,70.39285714,93.29166667,84.32,117.75,91.25925926,110.6296296,92.55319149,69.52173913,87.28571429,71.16,72.75,93.46153846,79.65217391,133.0689655,76.42307692,94.32,80.72,112.1395349,75.04761905,85.95652174,82.07407407,100.75,73.68518519,98.3015873,78.04166667,89.70588235,95.60869565,85.56521739,69.91304348,90.21428571,69.56,70.12,88.26666667,72.65384615,90.57142857,64.32142857,60.16,79.44736842,70.26923077,114.0952381,86.18181818,104.72,116.675,134.5652174,107.8181818,101.0967742,77.77777778,93.84615385,83.7826087,70.41666667,84.48,61.15384615,61.0,78.06666667,100.6964286,85.80645161,65.7027027,97.0,103.5833333,110.84,75.58823529,106.7142857,121.0,80.9047619,94.125,88.68421053,73.95454545,88.65384615,92.55172414,67.52631579,121.8,113.6818182,87.03846154,95.28571429,93.79166667,80.41666667,96.37142857,100.72,70.96153846,99.73913043,99.82608696,108.4545455,108.2727273,62.94736842,135.7083333,105.6764706,85.04166667,73.21875,104.1851852,81.5,70.55555556,93.32352941,67.52941176,91.53846154,69.61111111,71.39130435,65.7037037,71.12,89.33333333,67.63636364,98.43478261,92.0,86.63934426,89.26829268,65.22222222,65.0,121.6071429,74.8,114.7368421,81.91304348,67.44736842,91.0,99.375,108.8076923,84.54166667,62.68181818,79.82608696,98.53846154,82.37037037,54.17857143,75.92,59.18181818,85.03448276,67.96,72.32142857,88.0,56.40740741,77.39130435,76.91304348,62.54545455,95.64,78.57894737,101.9310345,69.36,57.44,81.80769231,77.0,107.0357143,94.0625,114.5862069,96.75,86.71875,93.62790698,88.07317073,74.5862069,78.34615385,79.24137931,77.59090909,83.03448276,93.8,101.6129032,68.03125,60.56521739,92.33333333,84.0,67.29166667,88.32258065,103.2916667,66.44736842,114.7272727,91.62962963,76.61904762,87.875,64.27272727,72.81481481,92.63636364,96.94117647,96.8,97.02325581,93.92307692,70.91666667,105.0416667,90.36363636,83.60869565,65.43478261,84.47058824,97.3125,102.6538462,72.51851852,73.65217391,96.33333333,109.40625,118.5185185,96.96969697,99.08695652,100.1818182,88.19444444,59.64285714,88.0,86.82142857,99.03571429,90.73076923,96.36,91.23529412,85.03125,115.0416667,63.65217391,111.962963,118.2307692,92.09090909,80.41666667,78.1,99.96666667,104.047619,65.28571429,99.08695652,89.35714286,105.2222222,81.73333333,92.4,83.7826087,80.42857143,107.4],\"yaxis\":\"y\",\"type\":\"scatter\"},{\"name\":\"Weights: Uniform\",\"x\":[35.0,35.64646464646464,36.292929292929294,36.93939393939394,37.58585858585859,38.23232323232323,38.878787878787875,39.525252525252526,40.17171717171717,40.81818181818182,41.464646464646464,42.111111111111114,42.75757575757576,43.4040404040404,44.05050505050505,44.696969696969695,45.343434343434346,45.98989898989899,46.63636363636364,47.282828282828284,47.92929292929293,48.57575757575758,49.22222222222222,49.86868686868687,50.515151515151516,51.161616161616166,51.80808080808081,52.45454545454545,53.101010101010104,53.74747474747475,54.39393939393939,55.04040404040404,55.68686868686869,56.333333333333336,56.97979797979798,57.62626262626263,58.27272727272727,58.91919191919192,59.56565656565657,60.21212121212122,60.85858585858586,61.505050505050505,62.151515151515156,62.7979797979798,63.44444444444444,64.0909090909091,64.73737373737374,65.3838383838384,66.03030303030303,66.67676767676768,67.32323232323233,67.96969696969697,68.61616161616162,69.26262626262627,69.9090909090909,70.55555555555556,71.20202020202021,71.84848484848484,72.4949494949495,73.14141414141415,73.78787878787878,74.43434343434345,75.08080808080808,75.72727272727273,76.37373737373738,77.02020202020202,77.66666666666667,78.31313131313132,78.95959595959596,79.60606060606061,80.25252525252526,80.8989898989899,81.54545454545455,82.1919191919192,82.83838383838383,83.4848484848485,84.13131313131314,84.77777777777777,85.42424242424244,86.07070707070707,86.71717171717172,87.36363636363637,88.01010101010101,88.65656565656566,89.30303030303031,89.94949494949495,90.5959595959596,91.24242424242425,91.88888888888889,92.53535353535355,93.18181818181819,93.82828282828282,94.47474747474749,95.12121212121212,95.76767676767678,96.41414141414143,97.06060606060606,97.70707070707071,98.35353535353536,99.0],\"y\":[99.936486437,99.936486437,99.936486437,99.936486437,99.936486437,99.936486437,99.936486437,99.936486437,95.778582507,95.778582507,95.778582507,93.520526563,93.520526563,98.179526563,96.129342288,96.129342288,96.843226136,94.724805083,90.660163963,88.777777599,89.064041336,88.643317043,88.643317043,87.86483973899999,89.105993711,91.144474104,94.820777129,94.76190755899998,91.383379228,89.47750549199999,89.81645282899999,97.175574066,92.20785720899998,92.98393248300002,89.98001988600001,84.42414828700001,83.975404901,83.607680033,83.81571016299999,83.81571016299999,80.55700851,89.52548576199999,90.96741330800002,88.026136119,88.48658112700001,83.597322109,87.47574817300001,85.06656505400001,86.935795637,76.610650865,77.29503512400001,82.849687701,87.41825539,87.41825539,95.313282246,81.04750830200001,81.04750830200001,73.778955126,73.778955126,81.448705842,79.141278217,81.44194310200001,84.209073403,83.30414588599999,83.30414588599999,86.10166873799999,89.70618945999999,89.70618945999999,98.25055616799997,79.756816661,79.756816661,82.258242271,87.786330226,85.80233022600001,82.207340447,82.207340447,80.95528171199999,75.08777734099999,75.08777734099999,80.804651092,87.405809089,87.29113505400002,81.64956655199998,82.359047591,80.67060885600002,83.536067788,82.512899454,85.09606083000001,82.603953784,82.60395378400001,81.73078305700001,85.65161639,85.65161639,86.715169503,87.205329686,87.205329686,87.205329686,87.205329686,87.205329686,87.205329686],\"type\":\"scatter\"},{\"name\":\"Weights: Distance\",\"x\":[35.0,35.64646464646464,36.292929292929294,36.93939393939394,37.58585858585859,38.23232323232323,38.878787878787875,39.525252525252526,40.17171717171717,40.81818181818182,41.464646464646464,42.111111111111114,42.75757575757576,43.4040404040404,44.05050505050505,44.696969696969695,45.343434343434346,45.98989898989899,46.63636363636364,47.282828282828284,47.92929292929293,48.57575757575758,49.22222222222222,49.86868686868687,50.515151515151516,51.161616161616166,51.80808080808081,52.45454545454545,53.101010101010104,53.74747474747475,54.39393939393939,55.04040404040404,55.68686868686869,56.333333333333336,56.97979797979798,57.62626262626263,58.27272727272727,58.91919191919192,59.56565656565657,60.21212121212122,60.85858585858586,61.505050505050505,62.151515151515156,62.7979797979798,63.44444444444444,64.0909090909091,64.73737373737374,65.3838383838384,66.03030303030303,66.67676767676768,67.32323232323233,67.96969696969697,68.61616161616162,69.26262626262627,69.9090909090909,70.55555555555556,71.20202020202021,71.84848484848484,72.4949494949495,73.14141414141415,73.78787878787878,74.43434343434345,75.08080808080808,75.72727272727273,76.37373737373738,77.02020202020202,77.66666666666667,78.31313131313132,78.95959595959596,79.60606060606061,80.25252525252526,80.8989898989899,81.54545454545455,82.1919191919192,82.83838383838383,83.4848484848485,84.13131313131314,84.77777777777777,85.42424242424244,86.07070707070707,86.71717171717172,87.36363636363637,88.01010101010101,88.65656565656566,89.30303030303031,89.94949494949495,90.5959595959596,91.24242424242425,91.88888888888889,92.53535353535355,93.18181818181819,93.82828282828282,94.47474747474749,95.12121212121212,95.76767676767678,96.41414141414143,97.06060606060606,97.70707070707071,98.35353535353536,99.0],\"y\":[118.1719925,108.06191434417339,103.0554400562199,100.15340255529291,101.44352495448565,101.12361457312261,81.5469037080648,89.18217629463392,88.42438538987724,91.46149711640717,92.3533534808549,90.87197633781363,87.0403735293338,95.24509811952322,123.10253581724994,99.30544245126998,97.27162363340454,95.95498125864415,89.73928179037888,88.12309423594004,91.19081245051318,89.28190382451676,86.86880052709252,85.73256978613182,89.89071782375302,92.92341223306202,92.98724824382238,94.59028098169811,97.6469921886475,85.47019303048484,88.02713528266662,98.1648386600404,92.68222703314586,93.09349199647056,90.83121035927118,83.94197923658714,83.46956906421526,87.6082628221119,83.815710163,83.815710163,79.65704319042374,89.56979396997988,92.26758767061608,90.34915275373514,88.9610645785417,83.59732210899999,86.92108022518866,85.54645538418436,86.93579563699998,76.67399416016667,77.03899909830002,82.84968770099998,87.41825539000001,87.41825539000001,97.88353384078123,81.04750830200001,81.04750830199998,73.778955126,73.77895512599999,83.32870580215068,78.95497317558558,80.94087961271545,85.61104812180169,83.304145886,83.304145886,87.27224991526859,89.70618945999999,89.70618946,100.67975362002328,79.756816661,79.756816661,82.25824227099999,87.83355616203391,87.50623028525031,82.207340447,82.20734044699999,80.95528171200002,75.08777734099999,75.08777734099999,80.804651092,88.19236849854168,87.86918113640621,82.52467987199323,82.359047591,80.67060885599999,92.48597975855257,80.67179634288365,76.86233190434365,82.83306499641986,84.70862134333692,87.55715679184246,77.20143801740788,81.11463599090733,86.56035138451287,90.86069498805595,90.12612842312342,87.87860624408707,85.05134110658187,85.35608988265894,88.68421053],\"type\":\"scatter\"}],                        {\"template\":{\"data\":{\"histogram2dcontour\":[{\"type\":\"histogram2dcontour\",\"colorbar\":{\"outlinewidth\":0,\"ticks\":\"\"},\"colorscale\":[[0.0,\"#0d0887\"],[0.1111111111111111,\"#46039f\"],[0.2222222222222222,\"#7201a8\"],[0.3333333333333333,\"#9c179e\"],[0.4444444444444444,\"#bd3786\"],[0.5555555555555556,\"#d8576b\"],[0.6666666666666666,\"#ed7953\"],[0.7777777777777778,\"#fb9f3a\"],[0.8888888888888888,\"#fdca26\"],[1.0,\"#f0f921\"]]}],\"choropleth\":[{\"type\":\"choropleth\",\"colorbar\":{\"outlinewidth\":0,\"ticks\":\"\"}}],\"histogram2d\":[{\"type\":\"histogram2d\",\"colorbar\":{\"outlinewidth\":0,\"ticks\":\"\"},\"colorscale\":[[0.0,\"#0d0887\"],[0.1111111111111111,\"#46039f\"],[0.2222222222222222,\"#7201a8\"],[0.3333333333333333,\"#9c179e\"],[0.4444444444444444,\"#bd3786\"],[0.5555555555555556,\"#d8576b\"],[0.6666666666666666,\"#ed7953\"],[0.7777777777777778,\"#fb9f3a\"],[0.8888888888888888,\"#fdca26\"],[1.0,\"#f0f921\"]]}],\"heatmap\":[{\"type\":\"heatmap\",\"colorbar\":{\"outlinewidth\":0,\"ticks\":\"\"},\"colorscale\":[[0.0,\"#0d0887\"],[0.1111111111111111,\"#46039f\"],[0.2222222222222222,\"#7201a8\"],[0.3333333333333333,\"#9c179e\"],[0.4444444444444444,\"#bd3786\"],[0.5555555555555556,\"#d8576b\"],[0.6666666666666666,\"#ed7953\"],[0.7777777777777778,\"#fb9f3a\"],[0.8888888888888888,\"#fdca26\"],[1.0,\"#f0f921\"]]}],\"heatmapgl\":[{\"type\":\"heatmapgl\",\"colorbar\":{\"outlinewidth\":0,\"ticks\":\"\"},\"colorscale\":[[0.0,\"#0d0887\"],[0.1111111111111111,\"#46039f\"],[0.2222222222222222,\"#7201a8\"],[0.3333333333333333,\"#9c179e\"],[0.4444444444444444,\"#bd3786\"],[0.5555555555555556,\"#d8576b\"],[0.6666666666666666,\"#ed7953\"],[0.7777777777777778,\"#fb9f3a\"],[0.8888888888888888,\"#fdca26\"],[1.0,\"#f0f921\"]]}],\"contourcarpet\":[{\"type\":\"contourcarpet\",\"colorbar\":{\"outlinewidth\":0,\"ticks\":\"\"}}],\"contour\":[{\"type\":\"contour\",\"colorbar\":{\"outlinewidth\":0,\"ticks\":\"\"},\"colorscale\":[[0.0,\"#0d0887\"],[0.1111111111111111,\"#46039f\"],[0.2222222222222222,\"#7201a8\"],[0.3333333333333333,\"#9c179e\"],[0.4444444444444444,\"#bd3786\"],[0.5555555555555556,\"#d8576b\"],[0.6666666666666666,\"#ed7953\"],[0.7777777777777778,\"#fb9f3a\"],[0.8888888888888888,\"#fdca26\"],[1.0,\"#f0f921\"]]}],\"surface\":[{\"type\":\"surface\",\"colorbar\":{\"outlinewidth\":0,\"ticks\":\"\"},\"colorscale\":[[0.0,\"#0d0887\"],[0.1111111111111111,\"#46039f\"],[0.2222222222222222,\"#7201a8\"],[0.3333333333333333,\"#9c179e\"],[0.4444444444444444,\"#bd3786\"],[0.5555555555555556,\"#d8576b\"],[0.6666666666666666,\"#ed7953\"],[0.7777777777777778,\"#fb9f3a\"],[0.8888888888888888,\"#fdca26\"],[1.0,\"#f0f921\"]]}],\"mesh3d\":[{\"type\":\"mesh3d\",\"colorbar\":{\"outlinewidth\":0,\"ticks\":\"\"}}],\"scatter\":[{\"fillpattern\":{\"fillmode\":\"overlay\",\"size\":10,\"solidity\":0.2},\"type\":\"scatter\"}],\"parcoords\":[{\"type\":\"parcoords\",\"line\":{\"colorbar\":{\"outlinewidth\":0,\"ticks\":\"\"}}}],\"scatterpolargl\":[{\"type\":\"scatterpolargl\",\"marker\":{\"colorbar\":{\"outlinewidth\":0,\"ticks\":\"\"}}}],\"bar\":[{\"error_x\":{\"color\":\"#2a3f5f\"},\"error_y\":{\"color\":\"#2a3f5f\"},\"marker\":{\"line\":{\"color\":\"#E5ECF6\",\"width\":0.5},\"pattern\":{\"fillmode\":\"overlay\",\"size\":10,\"solidity\":0.2}},\"type\":\"bar\"}],\"scattergeo\":[{\"type\":\"scattergeo\",\"marker\":{\"colorbar\":{\"outlinewidth\":0,\"ticks\":\"\"}}}],\"scatterpolar\":[{\"type\":\"scatterpolar\",\"marker\":{\"colorbar\":{\"outlinewidth\":0,\"ticks\":\"\"}}}],\"histogram\":[{\"marker\":{\"pattern\":{\"fillmode\":\"overlay\",\"size\":10,\"solidity\":0.2}},\"type\":\"histogram\"}],\"scattergl\":[{\"type\":\"scattergl\",\"marker\":{\"colorbar\":{\"outlinewidth\":0,\"ticks\":\"\"}}}],\"scatter3d\":[{\"type\":\"scatter3d\",\"line\":{\"colorbar\":{\"outlinewidth\":0,\"ticks\":\"\"}},\"marker\":{\"colorbar\":{\"outlinewidth\":0,\"ticks\":\"\"}}}],\"scattermapbox\":[{\"type\":\"scattermapbox\",\"marker\":{\"colorbar\":{\"outlinewidth\":0,\"ticks\":\"\"}}}],\"scatterternary\":[{\"type\":\"scatterternary\",\"marker\":{\"colorbar\":{\"outlinewidth\":0,\"ticks\":\"\"}}}],\"scattercarpet\":[{\"type\":\"scattercarpet\",\"marker\":{\"colorbar\":{\"outlinewidth\":0,\"ticks\":\"\"}}}],\"carpet\":[{\"aaxis\":{\"endlinecolor\":\"#2a3f5f\",\"gridcolor\":\"white\",\"linecolor\":\"white\",\"minorgridcolor\":\"white\",\"startlinecolor\":\"#2a3f5f\"},\"baxis\":{\"endlinecolor\":\"#2a3f5f\",\"gridcolor\":\"white\",\"linecolor\":\"white\",\"minorgridcolor\":\"white\",\"startlinecolor\":\"#2a3f5f\"},\"type\":\"carpet\"}],\"table\":[{\"cells\":{\"fill\":{\"color\":\"#EBF0F8\"},\"line\":{\"color\":\"white\"}},\"header\":{\"fill\":{\"color\":\"#C8D4E3\"},\"line\":{\"color\":\"white\"}},\"type\":\"table\"}],\"barpolar\":[{\"marker\":{\"line\":{\"color\":\"#E5ECF6\",\"width\":0.5},\"pattern\":{\"fillmode\":\"overlay\",\"size\":10,\"solidity\":0.2}},\"type\":\"barpolar\"}],\"pie\":[{\"automargin\":true,\"type\":\"pie\"}]},\"layout\":{\"autotypenumbers\":\"strict\",\"colorway\":[\"#636efa\",\"#EF553B\",\"#00cc96\",\"#ab63fa\",\"#FFA15A\",\"#19d3f3\",\"#FF6692\",\"#B6E880\",\"#FF97FF\",\"#FECB52\"],\"font\":{\"color\":\"#2a3f5f\"},\"hovermode\":\"closest\",\"hoverlabel\":{\"align\":\"left\"},\"paper_bgcolor\":\"white\",\"plot_bgcolor\":\"#E5ECF6\",\"polar\":{\"bgcolor\":\"#E5ECF6\",\"angularaxis\":{\"gridcolor\":\"white\",\"linecolor\":\"white\",\"ticks\":\"\"},\"radialaxis\":{\"gridcolor\":\"white\",\"linecolor\":\"white\",\"ticks\":\"\"}},\"ternary\":{\"bgcolor\":\"#E5ECF6\",\"aaxis\":{\"gridcolor\":\"white\",\"linecolor\":\"white\",\"ticks\":\"\"},\"baxis\":{\"gridcolor\":\"white\",\"linecolor\":\"white\",\"ticks\":\"\"},\"caxis\":{\"gridcolor\":\"white\",\"linecolor\":\"white\",\"ticks\":\"\"}},\"coloraxis\":{\"colorbar\":{\"outlinewidth\":0,\"ticks\":\"\"}},\"colorscale\":{\"sequential\":[[0.0,\"#0d0887\"],[0.1111111111111111,\"#46039f\"],[0.2222222222222222,\"#7201a8\"],[0.3333333333333333,\"#9c179e\"],[0.4444444444444444,\"#bd3786\"],[0.5555555555555556,\"#d8576b\"],[0.6666666666666666,\"#ed7953\"],[0.7777777777777778,\"#fb9f3a\"],[0.8888888888888888,\"#fdca26\"],[1.0,\"#f0f921\"]],\"sequentialminus\":[[0.0,\"#0d0887\"],[0.1111111111111111,\"#46039f\"],[0.2222222222222222,\"#7201a8\"],[0.3333333333333333,\"#9c179e\"],[0.4444444444444444,\"#bd3786\"],[0.5555555555555556,\"#d8576b\"],[0.6666666666666666,\"#ed7953\"],[0.7777777777777778,\"#fb9f3a\"],[0.8888888888888888,\"#fdca26\"],[1.0,\"#f0f921\"]],\"diverging\":[[0,\"#8e0152\"],[0.1,\"#c51b7d\"],[0.2,\"#de77ae\"],[0.3,\"#f1b6da\"],[0.4,\"#fde0ef\"],[0.5,\"#f7f7f7\"],[0.6,\"#e6f5d0\"],[0.7,\"#b8e186\"],[0.8,\"#7fbc41\"],[0.9,\"#4d9221\"],[1,\"#276419\"]]},\"xaxis\":{\"gridcolor\":\"white\",\"linecolor\":\"white\",\"ticks\":\"\",\"title\":{\"standoff\":15},\"zerolinecolor\":\"white\",\"automargin\":true,\"zerolinewidth\":2},\"yaxis\":{\"gridcolor\":\"white\",\"linecolor\":\"white\",\"ticks\":\"\",\"title\":{\"standoff\":15},\"zerolinecolor\":\"white\",\"automargin\":true,\"zerolinewidth\":2},\"scene\":{\"xaxis\":{\"backgroundcolor\":\"#E5ECF6\",\"gridcolor\":\"white\",\"linecolor\":\"white\",\"showbackground\":true,\"ticks\":\"\",\"zerolinecolor\":\"white\",\"gridwidth\":2},\"yaxis\":{\"backgroundcolor\":\"#E5ECF6\",\"gridcolor\":\"white\",\"linecolor\":\"white\",\"showbackground\":true,\"ticks\":\"\",\"zerolinecolor\":\"white\",\"gridwidth\":2},\"zaxis\":{\"backgroundcolor\":\"#E5ECF6\",\"gridcolor\":\"white\",\"linecolor\":\"white\",\"showbackground\":true,\"ticks\":\"\",\"zerolinecolor\":\"white\",\"gridwidth\":2}},\"shapedefaults\":{\"line\":{\"color\":\"#2a3f5f\"}},\"annotationdefaults\":{\"arrowcolor\":\"#2a3f5f\",\"arrowhead\":0,\"arrowwidth\":1},\"geo\":{\"bgcolor\":\"white\",\"landcolor\":\"#E5ECF6\",\"subunitcolor\":\"white\",\"showland\":true,\"showlakes\":true,\"lakecolor\":\"white\"},\"title\":{\"x\":0.05},\"mapbox\":{\"style\":\"light\"}}},\"xaxis\":{\"anchor\":\"y\",\"domain\":[0.0,1.0],\"title\":{\"text\":\"age\"}},\"yaxis\":{\"anchor\":\"x\",\"domain\":[0.0,1.0],\"title\":{\"text\":\"heart_rate\"}},\"coloraxis\":{\"colorbar\":{\"title\":{\"text\":\"sex\"}},\"colorscale\":[[0.0,\"#0d0887\"],[0.1111111111111111,\"#46039f\"],[0.2222222222222222,\"#7201a8\"],[0.3333333333333333,\"#9c179e\"],[0.4444444444444444,\"#bd3786\"],[0.5555555555555556,\"#d8576b\"],[0.6666666666666666,\"#ed7953\"],[0.7777777777777778,\"#fb9f3a\"],[0.8888888888888888,\"#fdca26\"],[1.0,\"#f0f921\"]]},\"legend\":{\"tracegroupgap\":0},\"margin\":{\"t\":60}},                        {\"responsive\": true}                    ).then(function(){\n",
       "                            \n",
       "var gd = document.getElementById('56cf3f18-5f6d-4e74-a938-b9337469406c');\n",
       "var x = new MutationObserver(function (mutations, observer) {{\n",
       "        var display = window.getComputedStyle(gd).display;\n",
       "        if (!display || display === 'none') {{\n",
       "            console.log([gd, 'removed!']);\n",
       "            Plotly.purge(gd);\n",
       "            observer.disconnect();\n",
       "        }}\n",
       "}});\n",
       "\n",
       "// Listen for the removal of the full notebook cells\n",
       "var notebookContainer = gd.closest('#notebook-container');\n",
       "if (notebookContainer) {{\n",
       "    x.observe(notebookContainer, {childList: true});\n",
       "}}\n",
       "\n",
       "// Listen for the clearing of the current output cell\n",
       "var outputEl = gd.closest('.output');\n",
       "if (outputEl) {{\n",
       "    x.observe(outputEl, {childList: true});\n",
       "}}\n",
       "\n",
       "                        })                };                });            </script>        </div>"
      ]
     },
     "metadata": {},
     "output_type": "display_data"
    }
   ],
   "source": [
    "import numpy as np\n",
    "import plotly.express as px\n",
    "import plotly.graph_objects as go\n",
    "from sklearn.neighbors import KNeighborsRegressor\n",
    "\n",
    "df = noncovid\n",
    "X = df.age.values.reshape(-1, 1)\n",
    "x_range = np.linspace(X.min(), X.max(), 100)\n",
    "\n",
    "# Model #1\n",
    "knn_dist = KNeighborsRegressor(10, weights='distance')\n",
    "knn_dist.fit(X, df.heart_rate)\n",
    "y_dist = knn_dist.predict(x_range.reshape(-1, 1))\n",
    "\n",
    "# Model #2\n",
    "knn_uni = KNeighborsRegressor(10, weights='uniform')\n",
    "knn_uni.fit(X, df.heart_rate)\n",
    "y_uni = knn_uni.predict(x_range.reshape(-1, 1))\n",
    "\n",
    "fig = px.scatter(df, x='age', y='heart_rate', color='sex', opacity=0.65)\n",
    "fig.add_traces(go.Scatter(x=x_range, y=y_uni, name='Weights: Uniform'))\n",
    "fig.add_traces(go.Scatter(x=x_range, y=y_dist, name='Weights: Distance'))\n",
    "fig.show()\n"
   ]
  },
  {
   "cell_type": "code",
   "execution_count": 116,
   "id": "2ed505cb",
   "metadata": {},
   "outputs": [
    {
     "data": {
      "application/vnd.plotly.v1+json": {
       "config": {
        "plotlyServerURL": "https://plot.ly"
       },
       "data": [
        {
         "hovertemplate": "age=%{x}<br>glucose=%{y}<br>sex=%{marker.color}<extra></extra>",
         "legendgroup": "",
         "marker": {
          "color": [
           1,
           2,
           2,
           1,
           1,
           2,
           2,
           1,
           2,
           2,
           2,
           1,
           2,
           2,
           2,
           2,
           1,
           2,
           2,
           1,
           1,
           1,
           2,
           1,
           1,
           2,
           1,
           1,
           1,
           2,
           1,
           2,
           2,
           1,
           2,
           1,
           1,
           2,
           1,
           2,
           1,
           1,
           1,
           1,
           1,
           2,
           1,
           2,
           2,
           1,
           1,
           1,
           2,
           1,
           2,
           2,
           1,
           2,
           1,
           2,
           2,
           1,
           2,
           2,
           1,
           2,
           1,
           2,
           1,
           2,
           2,
           1,
           1,
           1,
           2,
           1,
           2,
           2,
           2,
           2,
           1,
           2,
           2,
           2,
           2,
           1,
           1,
           1,
           1,
           1,
           2,
           1,
           2,
           2,
           2,
           2,
           1,
           2,
           2,
           1,
           2,
           1,
           1,
           1,
           1,
           2,
           2,
           1,
           2,
           2,
           1,
           2,
           2,
           1,
           1,
           1,
           2,
           1,
           1,
           1,
           1,
           2,
           1,
           2,
           2,
           1,
           2,
           1,
           1,
           1,
           2,
           1,
           2,
           1,
           1,
           2,
           1,
           2,
           2,
           2,
           1,
           2,
           1,
           1,
           1,
           1,
           2,
           2,
           1,
           1,
           1,
           2,
           1,
           2,
           1,
           1,
           2,
           1,
           1,
           2,
           2,
           2,
           1,
           1,
           2,
           2,
           1,
           2,
           1,
           1,
           2,
           1,
           1,
           2,
           2,
           1,
           2,
           2,
           1,
           2,
           2,
           2,
           2,
           1,
           1,
           1,
           2,
           2,
           2,
           1,
           1,
           1,
           2,
           1,
           1,
           2,
           2,
           1,
           1,
           1,
           2,
           2,
           1,
           2,
           1,
           1,
           2,
           2,
           1,
           1,
           1,
           1,
           2,
           1,
           1,
           1,
           1,
           2,
           2,
           1,
           2,
           2,
           1,
           2,
           1,
           2,
           1,
           1,
           2,
           1,
           2,
           2,
           2,
           2,
           1,
           1,
           2,
           1,
           1,
           2,
           2,
           1,
           1,
           1,
           1,
           2,
           2,
           2,
           2,
           1,
           1,
           1,
           1,
           2,
           2,
           2,
           2,
           1,
           1,
           1,
           1,
           1,
           1,
           2,
           1,
           2,
           2,
           2,
           2,
           2,
           2,
           2,
           1,
           2,
           1,
           2,
           2,
           2,
           1,
           1,
           2,
           2,
           2,
           1,
           2,
           2,
           2,
           2,
           1,
           1,
           2,
           1,
           1,
           2,
           1,
           2,
           2,
           2,
           1,
           1,
           1,
           2,
           1,
           2,
           1,
           2,
           2,
           2,
           1,
           2,
           2,
           2,
           1,
           2,
           1,
           2,
           2,
           1,
           1,
           1,
           2,
           2,
           1,
           1,
           1,
           2,
           1,
           1,
           2,
           2,
           1,
           2,
           1,
           1,
           1,
           2,
           1,
           1,
           2,
           1,
           2,
           2,
           2,
           2,
           2,
           2,
           1,
           2,
           2,
           1,
           2,
           2,
           1,
           2,
           2,
           2,
           2,
           2,
           2,
           1,
           2,
           1,
           1,
           1,
           1,
           2,
           2,
           2,
           1,
           2,
           2,
           2,
           1,
           2,
           2,
           2,
           1,
           1,
           1,
           2,
           2,
           1,
           1,
           2,
           1,
           2,
           1,
           1,
           2,
           1,
           2,
           2,
           1,
           1,
           2,
           2,
           1,
           2,
           2,
           1,
           2,
           1,
           2,
           1,
           2,
           2,
           1,
           2,
           2,
           2,
           1,
           2,
           1,
           1,
           2,
           2,
           2,
           2,
           2,
           2,
           1,
           1,
           2,
           1,
           1,
           1,
           2,
           1
          ],
          "coloraxis": "coloraxis",
          "opacity": 0.65,
          "symbol": "circle"
         },
         "mode": "markers",
         "name": "",
         "orientation": "v",
         "showlegend": false,
         "type": "scatter",
         "x": [
          72,
          83,
          43,
          76,
          72,
          61,
          83,
          83,
          69,
          56,
          78,
          58,
          66,
          89,
          79,
          72,
          69,
          64,
          64,
          76,
          84,
          89,
          80,
          83,
          63,
          74,
          56,
          53,
          82,
          60,
          57,
          89,
          80,
          81,
          74,
          71,
          64,
          61,
          84,
          65,
          53,
          94,
          70,
          68,
          78,
          72,
          82,
          76,
          82,
          56,
          48,
          51,
          87,
          67,
          53,
          61,
          79,
          73,
          69,
          66,
          86,
          60,
          89,
          86,
          68,
          78,
          49,
          55,
          76,
          91,
          89,
          72,
          48,
          64,
          84,
          65,
          45,
          89,
          46,
          86,
          66,
          89,
          81,
          89,
          58,
          57,
          40,
          64,
          66,
          89,
          58,
          71,
          63,
          80,
          83,
          77,
          48,
          85,
          46,
          78,
          86,
          68,
          72,
          63,
          89,
          77,
          77,
          50,
          80,
          64,
          66,
          89,
          69,
          84,
          81,
          72,
          76,
          66,
          89,
          78,
          77,
          66,
          51,
          83,
          57,
          62,
          82,
          85,
          88,
          83,
          58,
          68,
          60,
          67,
          68,
          73,
          63,
          79,
          89,
          74,
          66,
          51,
          69,
          58,
          81,
          81,
          93,
          60,
          55,
          72,
          84,
          67,
          90,
          66,
          45,
          78,
          81,
          85,
          69,
          89,
          84,
          89,
          71,
          86,
          96,
          53,
          53,
          71,
          87,
          89,
          86,
          85,
          74,
          70,
          83,
          67,
          89,
          54,
          57,
          78,
          88,
          60,
          89,
          70,
          50,
          78,
          85,
          89,
          64,
          89,
          82,
          89,
          89,
          58,
          82,
          57,
          80,
          68,
          67,
          52,
          68,
          84,
          84,
          65,
          71,
          61,
          69,
          50,
          77,
          53,
          84,
          81,
          87,
          80,
          60,
          76,
          89,
          51,
          47,
          68,
          64,
          70,
          72,
          59,
          39,
          78,
          81,
          65,
          44,
          84,
          61,
          53,
          87,
          73,
          75,
          87,
          87,
          72,
          64,
          89,
          70,
          78,
          89,
          52,
          85,
          84,
          67,
          80,
          84,
          60,
          74,
          84,
          89,
          92,
          77,
          81,
          73,
          53,
          79,
          62,
          88,
          80,
          89,
          92,
          71,
          63,
          88,
          94,
          76,
          62,
          86,
          47,
          96,
          83,
          38,
          64,
          55,
          46,
          98,
          48,
          99,
          72,
          90,
          80,
          89,
          83,
          75,
          62,
          92,
          60,
          79,
          86,
          89,
          75,
          79,
          78,
          70,
          79,
          80,
          56,
          52,
          66,
          58,
          65,
          60,
          85,
          67,
          75,
          65,
          68,
          65,
          69,
          65,
          69,
          87,
          75,
          86,
          78,
          89,
          73,
          82,
          35,
          85,
          35,
          86,
          43,
          48,
          84,
          63,
          84,
          89,
          71,
          81,
          64,
          61,
          56,
          67,
          62,
          54,
          93,
          75,
          84,
          79,
          73,
          88,
          86,
          85,
          71,
          76,
          66,
          89,
          83,
          89,
          79,
          76,
          60,
          66,
          89,
          72,
          47,
          81,
          89,
          86,
          71,
          54,
          78,
          61,
          72,
          73,
          96,
          86,
          55,
          78,
          89,
          77,
          59,
          74,
          89,
          77,
          89,
          76,
          84,
          82,
          83,
          80,
          60,
          77,
          74,
          66,
          83,
          81,
          48,
          78,
          69,
          89,
          56,
          63,
          62,
          75,
          84,
          54,
          54,
          80,
          74,
          56,
          81,
          68,
          87,
          63,
          75,
          51,
          80,
          76,
          57,
          85,
          82,
          89,
          71,
          55,
          75,
          89,
          62,
          88,
          83,
          37,
          61,
          71,
          37
         ],
         "xaxis": "x",
         "y": [
          114.6363636,
          149,
          128.25,
          98.33333333,
          105.6,
          98.42857143,
          111.6666667,
          119.4,
          120.5,
          143.8,
          88,
          137.6666667,
          109,
          120.5,
          142,
          137.875,
          151,
          149.6666667,
          118.75,
          137.5714286,
          104.75,
          132.5,
          99,
          120,
          125,
          157.8333333,
          108,
          210.5714286,
          88.5,
          299.6666667,
          100.4,
          137.4,
          141.25,
          82.2,
          286.5,
          117.3076923,
          142.8333333,
          134.1111111,
          112.3333333,
          176,
          109.9090909,
          136.4,
          94.16666667,
          299.8888889,
          160,
          145.375,
          93,
          270.875,
          150,
          255.2,
          138.8,
          118.3636364,
          108,
          211.3333333,
          146,
          125,
          166.2,
          131,
          146.3333333,
          137.8,
          97,
          182.4,
          185.5,
          158.8571429,
          148,
          84.5,
          133.7142857,
          119,
          93.16666667,
          113.25,
          153.5,
          134.4,
          116,
          121.8571429,
          170.5,
          99.5,
          140.7777778,
          127,
          188.4,
          92,
          140.6,
          120.1666667,
          150.6666667,
          88.5,
          153.3,
          143.75,
          123.8,
          171,
          160,
          113.5,
          148,
          129.6666667,
          75.4,
          110,
          218.4444444,
          133.4545455,
          99.875,
          103,
          230.1428571,
          162.25,
          133.3333333,
          138.1666667,
          171,
          166.1428571,
          124,
          75,
          207.6666667,
          204.8,
          218,
          146,
          141.5,
          243.5,
          111.8,
          113.1666667,
          129,
          119.7142857,
          200.6363636,
          117.6666667,
          124.5,
          125.6666667,
          219.5,
          141.7,
          145.5,
          115.8571429,
          239.25,
          170.6666667,
          161.8461538,
          165.8,
          178.75,
          123,
          133.3333333,
          258.5454545,
          173.2,
          147.75,
          112.2,
          154.4285714,
          131.25,
          119.2,
          157.8333333,
          140,
          168.8333333,
          282,
          230.2105263,
          172.3333333,
          95,
          158.5,
          141.5,
          105.3333333,
          141,
          132.5,
          101.1666667,
          96.66666667,
          140,
          95,
          95,
          107.25,
          268.5,
          116.5,
          108.5,
          150.6,
          167.3,
          92,
          134.5714286,
          195.7142857,
          205,
          126.5384615,
          369,
          100,
          125,
          112.75,
          133.3333333,
          109.4761905,
          158,
          175,
          122,
          167,
          94,
          163.6666667,
          102.5,
          143.25,
          123,
          222.6666667,
          130.7142857,
          129.2857143,
          153.5,
          300.8888889,
          145.2222222,
          111,
          182.75,
          146.2857143,
          84.15384615,
          158.25,
          92,
          138.3333333,
          99,
          339.9090909,
          126,
          201.75,
          197.8,
          185,
          124.5,
          178.6666667,
          201.4285714,
          194.8,
          138,
          157.5,
          136.8,
          218,
          152,
          226.8333333,
          130,
          263.4375,
          145.25,
          147.4,
          144.5,
          163.75,
          140,
          160.3333333,
          112,
          206.3333333,
          107,
          94.5,
          229.6666667,
          338.8461538,
          102.6666667,
          110.3333333,
          94,
          161.5,
          116.6666667,
          190,
          197.8571429,
          96.30769231,
          109.8333333,
          227.2,
          186.8333333,
          136.1428571,
          103.5,
          166,
          204.1428571,
          136,
          213.625,
          143,
          145,
          189,
          157,
          177.4,
          252.8333333,
          147,
          169.5,
          92.125,
          190.7419355,
          121.5,
          140.5,
          125,
          342.5,
          156,
          192.6666667,
          188.4482759,
          142,
          248.875,
          149.3333333,
          283.2,
          182.5714286,
          205.5714286,
          190.2,
          165,
          131,
          192.1818182,
          191,
          163.8,
          132.875,
          167.75,
          228.1666667,
          176.6,
          97.5,
          138.4,
          157.75,
          107,
          99.5,
          243.4,
          149.7142857,
          119.25,
          143,
          179.8333333,
          120.1428571,
          269.25,
          77.125,
          129.1666667,
          144.8,
          209.8,
          251.8,
          278.5555556,
          281.3333333,
          120,
          118.3333333,
          159.6666667,
          251.3684211,
          275.4,
          169.3333333,
          242,
          77.33333333,
          98.69230769,
          128.7142857,
          109.6666667,
          69.1,
          136,
          119.5,
          79.75,
          81,
          111.1666667,
          212.6,
          141,
          135.5,
          96,
          171.875,
          183,
          182.6666667,
          184,
          163.5,
          208.3333333,
          219.6,
          115,
          129.8888889,
          152,
          152.6,
          107.3333333,
          126.75,
          137.375,
          168.6666667,
          119.4,
          78.42857143,
          93,
          142,
          217.3333333,
          266,
          216.6666667,
          148,
          117.2857143,
          144.25,
          114.3333333,
          184,
          145,
          110,
          251.1666667,
          115,
          165.3333333,
          203.6666667,
          178.8571429,
          191.5,
          183.5714286,
          159.3333333,
          91.42857143,
          88.85714286,
          167.8333333,
          169.5,
          110,
          183.4285714,
          102.7142857,
          209.5,
          128.3333333,
          151.8,
          135.1538462,
          97,
          114.5,
          161.6666667,
          159.4,
          150,
          270.1428571,
          131.1666667,
          172.125,
          237.5,
          122.25,
          281,
          146.125,
          157.6,
          226.6,
          118.6,
          110.5714286,
          94.4,
          164.8,
          210,
          172,
          282.875,
          189.3333333,
          118,
          345.2,
          149.8888889,
          136.6666667,
          173.5,
          111.5,
          152.7,
          150.4285714,
          132,
          166.6666667,
          173.4,
          156,
          162.6923077,
          294,
          153.5,
          140.6,
          330.8571429,
          146.8888889,
          232.5714286,
          240,
          125.4,
          103.7058824,
          209.5,
          178,
          149.125,
          172.6666667,
          126,
          113.3333333,
          296,
          121.3333333,
          159.375,
          154,
          123,
          150,
          118.5,
          153.3333333,
          98,
          242.5,
          230,
          158.25,
          107,
          223.25,
          191.6470588,
          140.5
         ],
         "yaxis": "y"
        },
        {
         "name": "Weights: Uniform",
         "type": "scatter",
         "x": [
          35,
          35.64646464646464,
          36.292929292929294,
          36.93939393939394,
          37.58585858585859,
          38.23232323232323,
          38.878787878787875,
          39.525252525252526,
          40.17171717171717,
          40.81818181818182,
          41.464646464646464,
          42.111111111111114,
          42.75757575757576,
          43.4040404040404,
          44.05050505050505,
          44.696969696969695,
          45.343434343434346,
          45.98989898989899,
          46.63636363636364,
          47.282828282828284,
          47.92929292929293,
          48.57575757575758,
          49.22222222222222,
          49.86868686868687,
          50.515151515151516,
          51.161616161616166,
          51.80808080808081,
          52.45454545454545,
          53.101010101010104,
          53.74747474747475,
          54.39393939393939,
          55.04040404040404,
          55.68686868686869,
          56.333333333333336,
          56.97979797979798,
          57.62626262626263,
          58.27272727272727,
          58.91919191919192,
          59.56565656565657,
          60.21212121212122,
          60.85858585858586,
          61.505050505050505,
          62.151515151515156,
          62.7979797979798,
          63.44444444444444,
          64.0909090909091,
          64.73737373737374,
          65.3838383838384,
          66.03030303030303,
          66.67676767676768,
          67.32323232323233,
          67.96969696969697,
          68.61616161616162,
          69.26262626262627,
          69.9090909090909,
          70.55555555555556,
          71.20202020202021,
          71.84848484848484,
          72.4949494949495,
          73.14141414141415,
          73.78787878787878,
          74.43434343434345,
          75.08080808080808,
          75.72727272727273,
          76.37373737373738,
          77.02020202020202,
          77.66666666666667,
          78.31313131313132,
          78.95959595959596,
          79.60606060606061,
          80.25252525252526,
          80.8989898989899,
          81.54545454545455,
          82.1919191919192,
          82.83838383838383,
          83.4848484848485,
          84.13131313131314,
          84.77777777777777,
          85.42424242424244,
          86.07070707070707,
          86.71717171717172,
          87.36363636363637,
          88.01010101010101,
          88.65656565656566,
          89.30303030303031,
          89.94949494949495,
          90.5959595959596,
          91.24242424242425,
          91.88888888888889,
          92.53535353535355,
          93.18181818181819,
          93.82828282828282,
          94.47474747474749,
          95.12121212121212,
          95.76767676767678,
          96.41414141414143,
          97.06060606060606,
          97.70707070707071,
          98.35353535353536,
          99
         ],
         "y": [
          119.07166666999998,
          119.07166666999998,
          119.07166666999998,
          119.07166666999998,
          119.07166666999998,
          119.07166666999998,
          119.07166667000001,
          119.07166667000001,
          115.94944444999999,
          115.94944444999999,
          115.94944445000002,
          134.00373015999998,
          134.00373015999998,
          134.93706348999999,
          139.33206349,
          139.33206348999997,
          141.43206349,
          140.20706349,
          153.17011904,
          151.34797618,
          141.70511904,
          158.52678571,
          158.52678571,
          165.82112554,
          178.24969697,
          164.18303030299998,
          164.01017316300002,
          173.649333994,
          178.15249492100003,
          202.62725886,
          160.58293652,
          153.29000000000002,
          162.88166667000002,
          168.92166667,
          190.48090909,
          149.50809523,
          167.75271061000004,
          187.67937728,
          160.87916667,
          160.87916667,
          179.631349213,
          184.86551588,
          184.65619048,
          155.64434982,
          150.66101648,
          156.13333332999997,
          142.35666667,
          145.28666667,
          142.699230769,
          166.491190467,
          168.538333327,
          181.00510101,
          140.88105262999997,
          140.88105262999997,
          141.97458020699997,
          138.77499892999998,
          138.77499892999998,
          145.02506493,
          145.02506493,
          178.45371735999998,
          180.99705069,
          178.40086022,
          140.337499997,
          175.14577921999998,
          175.14577921999998,
          167.52601011,
          152.00666667000002,
          152.00666667000002,
          163.60166666,
          154.13880952000002,
          154.13880952000002,
          125.70725491,
          148.364166665,
          144.464166665,
          146.317857143,
          146.317857143,
          149.13452381000002,
          142.59289683,
          142.59289683,
          151.58797619,
          130.74761904,
          135.79345237,
          145.58083333,
          131.80964286,
          139.49964286,
          131.39964286,
          144.64928572000002,
          142.69547619,
          145.60365801,
          145.60365801,
          155.01615801,
          166.50782468,
          166.50782468,
          163.95782468,
          158.37211039000002,
          158.37211039,
          158.37211039,
          158.37211039000002,
          158.37211039000002,
          158.37211039000002
         ]
        },
        {
         "name": "Weights: Distance",
         "type": "scatter",
         "x": [
          35,
          35.64646464646464,
          36.292929292929294,
          36.93939393939394,
          37.58585858585859,
          38.23232323232323,
          38.878787878787875,
          39.525252525252526,
          40.17171717171717,
          40.81818181818182,
          41.464646464646464,
          42.111111111111114,
          42.75757575757576,
          43.4040404040404,
          44.05050505050505,
          44.696969696969695,
          45.343434343434346,
          45.98989898989899,
          46.63636363636364,
          47.282828282828284,
          47.92929292929293,
          48.57575757575758,
          49.22222222222222,
          49.86868686868687,
          50.515151515151516,
          51.161616161616166,
          51.80808080808081,
          52.45454545454545,
          53.101010101010104,
          53.74747474747475,
          54.39393939393939,
          55.04040404040404,
          55.68686868686869,
          56.333333333333336,
          56.97979797979798,
          57.62626262626263,
          58.27272727272727,
          58.91919191919192,
          59.56565656565657,
          60.21212121212122,
          60.85858585858586,
          61.505050505050505,
          62.151515151515156,
          62.7979797979798,
          63.44444444444444,
          64.0909090909091,
          64.73737373737374,
          65.3838383838384,
          66.03030303030303,
          66.67676767676768,
          67.32323232323233,
          67.96969696969697,
          68.61616161616162,
          69.26262626262627,
          69.9090909090909,
          70.55555555555556,
          71.20202020202021,
          71.84848484848484,
          72.4949494949495,
          73.14141414141415,
          73.78787878787878,
          74.43434343434345,
          75.08080808080808,
          75.72727272727273,
          76.37373737373738,
          77.02020202020202,
          77.66666666666667,
          78.31313131313132,
          78.95959595959596,
          79.60606060606061,
          80.25252525252526,
          80.8989898989899,
          81.54545454545455,
          82.1919191919192,
          82.83838383838383,
          83.4848484848485,
          84.13131313131314,
          84.77777777777777,
          85.42424242424244,
          86.07070707070707,
          86.71717171717172,
          87.36363636363637,
          88.01010101010101,
          88.65656565656566,
          89.30303030303031,
          89.94949494949495,
          90.5959595959596,
          91.24242424242425,
          91.88888888888889,
          92.53535353535355,
          93.18181818181819,
          93.82828282828282,
          94.47474747474749,
          95.12121212121212,
          95.76767676767678,
          96.41414141414143,
          97.06060606060606,
          97.70707070707071,
          98.35353535353536,
          99
         ],
         "y": [
          133.5,
          125.48546738312773,
          121.96414592830105,
          122.98105953968897,
          114.77426775662845,
          108.41577696257299,
          107.56160754991545,
          115.09964684577687,
          119.56655254966672,
          116.56197872049682,
          116.41908297607525,
          126.07386983110702,
          122.17688317180748,
          124.52624190912937,
          120.91218190660881,
          129.93094043936247,
          140.18012630059238,
          174.22090318515492,
          150.12754764827008,
          143.9129154576536,
          145.39087454941517,
          150.49113444073419,
          155.1900880991189,
          184.45475143637526,
          176.5709213652599,
          165.4638702190247,
          156.64460521904152,
          172.33584967981128,
          183.37473198140705,
          196.1130375955555,
          166.7096200242426,
          133.44464646464652,
          169.83265964077347,
          172.72254902352933,
          175.06465844203393,
          147.90829182128437,
          156.35269631973097,
          251.5807218476362,
          160.87916667,
          160.87916667,
          171.11696821377114,
          185.010858810664,
          192.68991763554493,
          146.6997068787202,
          149.36911438958333,
          156.13333333,
          144.70026205833338,
          145.62405437712764,
          142.69923076899997,
          167.01349602315003,
          168.10530554848336,
          181.00510100999998,
          140.88105263,
          140.88105263000003,
          156.8946565734374,
          138.77499893,
          138.77499892999998,
          145.02506493,
          145.02506492999998,
          183.66847044144424,
          179.31662307567566,
          178.42849261441947,
          145.07169487746071,
          175.14577921999995,
          175.14577921999998,
          170.16169120765716,
          152.00666667000002,
          152.00666667000002,
          165.75766394295692,
          154.13880952,
          154.13880952,
          125.70725490999999,
          148.32514124067797,
          147.1714027920162,
          146.317857143,
          146.31785714299997,
          149.13452381,
          142.59289683,
          142.59289683,
          151.58797619,
          132.9265777538462,
          135.38346353125004,
          154.3629926746621,
          131.80964285999997,
          139.49964286,
          139.28500939912274,
          138.81449012008565,
          136.59749965493572,
          154.75359214886006,
          145.37597018956765,
          139.73862337323249,
          161.61951508138304,
          166.26891585331228,
          175.24738521838802,
          190.82049969260058,
          184.41157153167848,
          165.6365908667414,
          138.10996663314785,
          137.98196167990784,
          149.7142857
         ]
        }
       ],
       "layout": {
        "coloraxis": {
         "colorbar": {
          "title": {
           "text": "sex"
          }
         },
         "colorscale": [
          [
           0,
           "#0d0887"
          ],
          [
           0.1111111111111111,
           "#46039f"
          ],
          [
           0.2222222222222222,
           "#7201a8"
          ],
          [
           0.3333333333333333,
           "#9c179e"
          ],
          [
           0.4444444444444444,
           "#bd3786"
          ],
          [
           0.5555555555555556,
           "#d8576b"
          ],
          [
           0.6666666666666666,
           "#ed7953"
          ],
          [
           0.7777777777777778,
           "#fb9f3a"
          ],
          [
           0.8888888888888888,
           "#fdca26"
          ],
          [
           1,
           "#f0f921"
          ]
         ]
        },
        "legend": {
         "tracegroupgap": 0
        },
        "margin": {
         "t": 60
        },
        "template": {
         "data": {
          "bar": [
           {
            "error_x": {
             "color": "#2a3f5f"
            },
            "error_y": {
             "color": "#2a3f5f"
            },
            "marker": {
             "line": {
              "color": "#E5ECF6",
              "width": 0.5
             },
             "pattern": {
              "fillmode": "overlay",
              "size": 10,
              "solidity": 0.2
             }
            },
            "type": "bar"
           }
          ],
          "barpolar": [
           {
            "marker": {
             "line": {
              "color": "#E5ECF6",
              "width": 0.5
             },
             "pattern": {
              "fillmode": "overlay",
              "size": 10,
              "solidity": 0.2
             }
            },
            "type": "barpolar"
           }
          ],
          "carpet": [
           {
            "aaxis": {
             "endlinecolor": "#2a3f5f",
             "gridcolor": "white",
             "linecolor": "white",
             "minorgridcolor": "white",
             "startlinecolor": "#2a3f5f"
            },
            "baxis": {
             "endlinecolor": "#2a3f5f",
             "gridcolor": "white",
             "linecolor": "white",
             "minorgridcolor": "white",
             "startlinecolor": "#2a3f5f"
            },
            "type": "carpet"
           }
          ],
          "choropleth": [
           {
            "colorbar": {
             "outlinewidth": 0,
             "ticks": ""
            },
            "type": "choropleth"
           }
          ],
          "contour": [
           {
            "colorbar": {
             "outlinewidth": 0,
             "ticks": ""
            },
            "colorscale": [
             [
              0,
              "#0d0887"
             ],
             [
              0.1111111111111111,
              "#46039f"
             ],
             [
              0.2222222222222222,
              "#7201a8"
             ],
             [
              0.3333333333333333,
              "#9c179e"
             ],
             [
              0.4444444444444444,
              "#bd3786"
             ],
             [
              0.5555555555555556,
              "#d8576b"
             ],
             [
              0.6666666666666666,
              "#ed7953"
             ],
             [
              0.7777777777777778,
              "#fb9f3a"
             ],
             [
              0.8888888888888888,
              "#fdca26"
             ],
             [
              1,
              "#f0f921"
             ]
            ],
            "type": "contour"
           }
          ],
          "contourcarpet": [
           {
            "colorbar": {
             "outlinewidth": 0,
             "ticks": ""
            },
            "type": "contourcarpet"
           }
          ],
          "heatmap": [
           {
            "colorbar": {
             "outlinewidth": 0,
             "ticks": ""
            },
            "colorscale": [
             [
              0,
              "#0d0887"
             ],
             [
              0.1111111111111111,
              "#46039f"
             ],
             [
              0.2222222222222222,
              "#7201a8"
             ],
             [
              0.3333333333333333,
              "#9c179e"
             ],
             [
              0.4444444444444444,
              "#bd3786"
             ],
             [
              0.5555555555555556,
              "#d8576b"
             ],
             [
              0.6666666666666666,
              "#ed7953"
             ],
             [
              0.7777777777777778,
              "#fb9f3a"
             ],
             [
              0.8888888888888888,
              "#fdca26"
             ],
             [
              1,
              "#f0f921"
             ]
            ],
            "type": "heatmap"
           }
          ],
          "heatmapgl": [
           {
            "colorbar": {
             "outlinewidth": 0,
             "ticks": ""
            },
            "colorscale": [
             [
              0,
              "#0d0887"
             ],
             [
              0.1111111111111111,
              "#46039f"
             ],
             [
              0.2222222222222222,
              "#7201a8"
             ],
             [
              0.3333333333333333,
              "#9c179e"
             ],
             [
              0.4444444444444444,
              "#bd3786"
             ],
             [
              0.5555555555555556,
              "#d8576b"
             ],
             [
              0.6666666666666666,
              "#ed7953"
             ],
             [
              0.7777777777777778,
              "#fb9f3a"
             ],
             [
              0.8888888888888888,
              "#fdca26"
             ],
             [
              1,
              "#f0f921"
             ]
            ],
            "type": "heatmapgl"
           }
          ],
          "histogram": [
           {
            "marker": {
             "pattern": {
              "fillmode": "overlay",
              "size": 10,
              "solidity": 0.2
             }
            },
            "type": "histogram"
           }
          ],
          "histogram2d": [
           {
            "colorbar": {
             "outlinewidth": 0,
             "ticks": ""
            },
            "colorscale": [
             [
              0,
              "#0d0887"
             ],
             [
              0.1111111111111111,
              "#46039f"
             ],
             [
              0.2222222222222222,
              "#7201a8"
             ],
             [
              0.3333333333333333,
              "#9c179e"
             ],
             [
              0.4444444444444444,
              "#bd3786"
             ],
             [
              0.5555555555555556,
              "#d8576b"
             ],
             [
              0.6666666666666666,
              "#ed7953"
             ],
             [
              0.7777777777777778,
              "#fb9f3a"
             ],
             [
              0.8888888888888888,
              "#fdca26"
             ],
             [
              1,
              "#f0f921"
             ]
            ],
            "type": "histogram2d"
           }
          ],
          "histogram2dcontour": [
           {
            "colorbar": {
             "outlinewidth": 0,
             "ticks": ""
            },
            "colorscale": [
             [
              0,
              "#0d0887"
             ],
             [
              0.1111111111111111,
              "#46039f"
             ],
             [
              0.2222222222222222,
              "#7201a8"
             ],
             [
              0.3333333333333333,
              "#9c179e"
             ],
             [
              0.4444444444444444,
              "#bd3786"
             ],
             [
              0.5555555555555556,
              "#d8576b"
             ],
             [
              0.6666666666666666,
              "#ed7953"
             ],
             [
              0.7777777777777778,
              "#fb9f3a"
             ],
             [
              0.8888888888888888,
              "#fdca26"
             ],
             [
              1,
              "#f0f921"
             ]
            ],
            "type": "histogram2dcontour"
           }
          ],
          "mesh3d": [
           {
            "colorbar": {
             "outlinewidth": 0,
             "ticks": ""
            },
            "type": "mesh3d"
           }
          ],
          "parcoords": [
           {
            "line": {
             "colorbar": {
              "outlinewidth": 0,
              "ticks": ""
             }
            },
            "type": "parcoords"
           }
          ],
          "pie": [
           {
            "automargin": true,
            "type": "pie"
           }
          ],
          "scatter": [
           {
            "fillpattern": {
             "fillmode": "overlay",
             "size": 10,
             "solidity": 0.2
            },
            "type": "scatter"
           }
          ],
          "scatter3d": [
           {
            "line": {
             "colorbar": {
              "outlinewidth": 0,
              "ticks": ""
             }
            },
            "marker": {
             "colorbar": {
              "outlinewidth": 0,
              "ticks": ""
             }
            },
            "type": "scatter3d"
           }
          ],
          "scattercarpet": [
           {
            "marker": {
             "colorbar": {
              "outlinewidth": 0,
              "ticks": ""
             }
            },
            "type": "scattercarpet"
           }
          ],
          "scattergeo": [
           {
            "marker": {
             "colorbar": {
              "outlinewidth": 0,
              "ticks": ""
             }
            },
            "type": "scattergeo"
           }
          ],
          "scattergl": [
           {
            "marker": {
             "colorbar": {
              "outlinewidth": 0,
              "ticks": ""
             }
            },
            "type": "scattergl"
           }
          ],
          "scattermapbox": [
           {
            "marker": {
             "colorbar": {
              "outlinewidth": 0,
              "ticks": ""
             }
            },
            "type": "scattermapbox"
           }
          ],
          "scatterpolar": [
           {
            "marker": {
             "colorbar": {
              "outlinewidth": 0,
              "ticks": ""
             }
            },
            "type": "scatterpolar"
           }
          ],
          "scatterpolargl": [
           {
            "marker": {
             "colorbar": {
              "outlinewidth": 0,
              "ticks": ""
             }
            },
            "type": "scatterpolargl"
           }
          ],
          "scatterternary": [
           {
            "marker": {
             "colorbar": {
              "outlinewidth": 0,
              "ticks": ""
             }
            },
            "type": "scatterternary"
           }
          ],
          "surface": [
           {
            "colorbar": {
             "outlinewidth": 0,
             "ticks": ""
            },
            "colorscale": [
             [
              0,
              "#0d0887"
             ],
             [
              0.1111111111111111,
              "#46039f"
             ],
             [
              0.2222222222222222,
              "#7201a8"
             ],
             [
              0.3333333333333333,
              "#9c179e"
             ],
             [
              0.4444444444444444,
              "#bd3786"
             ],
             [
              0.5555555555555556,
              "#d8576b"
             ],
             [
              0.6666666666666666,
              "#ed7953"
             ],
             [
              0.7777777777777778,
              "#fb9f3a"
             ],
             [
              0.8888888888888888,
              "#fdca26"
             ],
             [
              1,
              "#f0f921"
             ]
            ],
            "type": "surface"
           }
          ],
          "table": [
           {
            "cells": {
             "fill": {
              "color": "#EBF0F8"
             },
             "line": {
              "color": "white"
             }
            },
            "header": {
             "fill": {
              "color": "#C8D4E3"
             },
             "line": {
              "color": "white"
             }
            },
            "type": "table"
           }
          ]
         },
         "layout": {
          "annotationdefaults": {
           "arrowcolor": "#2a3f5f",
           "arrowhead": 0,
           "arrowwidth": 1
          },
          "autotypenumbers": "strict",
          "coloraxis": {
           "colorbar": {
            "outlinewidth": 0,
            "ticks": ""
           }
          },
          "colorscale": {
           "diverging": [
            [
             0,
             "#8e0152"
            ],
            [
             0.1,
             "#c51b7d"
            ],
            [
             0.2,
             "#de77ae"
            ],
            [
             0.3,
             "#f1b6da"
            ],
            [
             0.4,
             "#fde0ef"
            ],
            [
             0.5,
             "#f7f7f7"
            ],
            [
             0.6,
             "#e6f5d0"
            ],
            [
             0.7,
             "#b8e186"
            ],
            [
             0.8,
             "#7fbc41"
            ],
            [
             0.9,
             "#4d9221"
            ],
            [
             1,
             "#276419"
            ]
           ],
           "sequential": [
            [
             0,
             "#0d0887"
            ],
            [
             0.1111111111111111,
             "#46039f"
            ],
            [
             0.2222222222222222,
             "#7201a8"
            ],
            [
             0.3333333333333333,
             "#9c179e"
            ],
            [
             0.4444444444444444,
             "#bd3786"
            ],
            [
             0.5555555555555556,
             "#d8576b"
            ],
            [
             0.6666666666666666,
             "#ed7953"
            ],
            [
             0.7777777777777778,
             "#fb9f3a"
            ],
            [
             0.8888888888888888,
             "#fdca26"
            ],
            [
             1,
             "#f0f921"
            ]
           ],
           "sequentialminus": [
            [
             0,
             "#0d0887"
            ],
            [
             0.1111111111111111,
             "#46039f"
            ],
            [
             0.2222222222222222,
             "#7201a8"
            ],
            [
             0.3333333333333333,
             "#9c179e"
            ],
            [
             0.4444444444444444,
             "#bd3786"
            ],
            [
             0.5555555555555556,
             "#d8576b"
            ],
            [
             0.6666666666666666,
             "#ed7953"
            ],
            [
             0.7777777777777778,
             "#fb9f3a"
            ],
            [
             0.8888888888888888,
             "#fdca26"
            ],
            [
             1,
             "#f0f921"
            ]
           ]
          },
          "colorway": [
           "#636efa",
           "#EF553B",
           "#00cc96",
           "#ab63fa",
           "#FFA15A",
           "#19d3f3",
           "#FF6692",
           "#B6E880",
           "#FF97FF",
           "#FECB52"
          ],
          "font": {
           "color": "#2a3f5f"
          },
          "geo": {
           "bgcolor": "white",
           "lakecolor": "white",
           "landcolor": "#E5ECF6",
           "showlakes": true,
           "showland": true,
           "subunitcolor": "white"
          },
          "hoverlabel": {
           "align": "left"
          },
          "hovermode": "closest",
          "mapbox": {
           "style": "light"
          },
          "paper_bgcolor": "white",
          "plot_bgcolor": "#E5ECF6",
          "polar": {
           "angularaxis": {
            "gridcolor": "white",
            "linecolor": "white",
            "ticks": ""
           },
           "bgcolor": "#E5ECF6",
           "radialaxis": {
            "gridcolor": "white",
            "linecolor": "white",
            "ticks": ""
           }
          },
          "scene": {
           "xaxis": {
            "backgroundcolor": "#E5ECF6",
            "gridcolor": "white",
            "gridwidth": 2,
            "linecolor": "white",
            "showbackground": true,
            "ticks": "",
            "zerolinecolor": "white"
           },
           "yaxis": {
            "backgroundcolor": "#E5ECF6",
            "gridcolor": "white",
            "gridwidth": 2,
            "linecolor": "white",
            "showbackground": true,
            "ticks": "",
            "zerolinecolor": "white"
           },
           "zaxis": {
            "backgroundcolor": "#E5ECF6",
            "gridcolor": "white",
            "gridwidth": 2,
            "linecolor": "white",
            "showbackground": true,
            "ticks": "",
            "zerolinecolor": "white"
           }
          },
          "shapedefaults": {
           "line": {
            "color": "#2a3f5f"
           }
          },
          "ternary": {
           "aaxis": {
            "gridcolor": "white",
            "linecolor": "white",
            "ticks": ""
           },
           "baxis": {
            "gridcolor": "white",
            "linecolor": "white",
            "ticks": ""
           },
           "bgcolor": "#E5ECF6",
           "caxis": {
            "gridcolor": "white",
            "linecolor": "white",
            "ticks": ""
           }
          },
          "title": {
           "x": 0.05
          },
          "xaxis": {
           "automargin": true,
           "gridcolor": "white",
           "linecolor": "white",
           "ticks": "",
           "title": {
            "standoff": 15
           },
           "zerolinecolor": "white",
           "zerolinewidth": 2
          },
          "yaxis": {
           "automargin": true,
           "gridcolor": "white",
           "linecolor": "white",
           "ticks": "",
           "title": {
            "standoff": 15
           },
           "zerolinecolor": "white",
           "zerolinewidth": 2
          }
         }
        },
        "xaxis": {
         "anchor": "y",
         "domain": [
          0,
          1
         ],
         "title": {
          "text": "age"
         }
        },
        "yaxis": {
         "anchor": "x",
         "domain": [
          0,
          1
         ],
         "title": {
          "text": "glucose"
         }
        }
       }
      },
      "text/html": [
       "<div>                            <div id=\"5130c181-70e1-4819-8131-c054499844f1\" class=\"plotly-graph-div\" style=\"height:525px; width:100%;\"></div>            <script type=\"text/javascript\">                require([\"plotly\"], function(Plotly) {                    window.PLOTLYENV=window.PLOTLYENV || {};                                    if (document.getElementById(\"5130c181-70e1-4819-8131-c054499844f1\")) {                    Plotly.newPlot(                        \"5130c181-70e1-4819-8131-c054499844f1\",                        [{\"hovertemplate\":\"age=%{x}<br>glucose=%{y}<br>sex=%{marker.color}<extra></extra>\",\"legendgroup\":\"\",\"marker\":{\"color\":[1,2,2,1,1,2,2,1,2,2,2,1,2,2,2,2,1,2,2,1,1,1,2,1,1,2,1,1,1,2,1,2,2,1,2,1,1,2,1,2,1,1,1,1,1,2,1,2,2,1,1,1,2,1,2,2,1,2,1,2,2,1,2,2,1,2,1,2,1,2,2,1,1,1,2,1,2,2,2,2,1,2,2,2,2,1,1,1,1,1,2,1,2,2,2,2,1,2,2,1,2,1,1,1,1,2,2,1,2,2,1,2,2,1,1,1,2,1,1,1,1,2,1,2,2,1,2,1,1,1,2,1,2,1,1,2,1,2,2,2,1,2,1,1,1,1,2,2,1,1,1,2,1,2,1,1,2,1,1,2,2,2,1,1,2,2,1,2,1,1,2,1,1,2,2,1,2,2,1,2,2,2,2,1,1,1,2,2,2,1,1,1,2,1,1,2,2,1,1,1,2,2,1,2,1,1,2,2,1,1,1,1,2,1,1,1,1,2,2,1,2,2,1,2,1,2,1,1,2,1,2,2,2,2,1,1,2,1,1,2,2,1,1,1,1,2,2,2,2,1,1,1,1,2,2,2,2,1,1,1,1,1,1,2,1,2,2,2,2,2,2,2,1,2,1,2,2,2,1,1,2,2,2,1,2,2,2,2,1,1,2,1,1,2,1,2,2,2,1,1,1,2,1,2,1,2,2,2,1,2,2,2,1,2,1,2,2,1,1,1,2,2,1,1,1,2,1,1,2,2,1,2,1,1,1,2,1,1,2,1,2,2,2,2,2,2,1,2,2,1,2,2,1,2,2,2,2,2,2,1,2,1,1,1,1,2,2,2,1,2,2,2,1,2,2,2,1,1,1,2,2,1,1,2,1,2,1,1,2,1,2,2,1,1,2,2,1,2,2,1,2,1,2,1,2,2,1,2,2,2,1,2,1,1,2,2,2,2,2,2,1,1,2,1,1,1,2,1],\"coloraxis\":\"coloraxis\",\"opacity\":0.65,\"symbol\":\"circle\"},\"mode\":\"markers\",\"name\":\"\",\"orientation\":\"v\",\"showlegend\":false,\"x\":[72,83,43,76,72,61,83,83,69,56,78,58,66,89,79,72,69,64,64,76,84,89,80,83,63,74,56,53,82,60,57,89,80,81,74,71,64,61,84,65,53,94,70,68,78,72,82,76,82,56,48,51,87,67,53,61,79,73,69,66,86,60,89,86,68,78,49,55,76,91,89,72,48,64,84,65,45,89,46,86,66,89,81,89,58,57,40,64,66,89,58,71,63,80,83,77,48,85,46,78,86,68,72,63,89,77,77,50,80,64,66,89,69,84,81,72,76,66,89,78,77,66,51,83,57,62,82,85,88,83,58,68,60,67,68,73,63,79,89,74,66,51,69,58,81,81,93,60,55,72,84,67,90,66,45,78,81,85,69,89,84,89,71,86,96,53,53,71,87,89,86,85,74,70,83,67,89,54,57,78,88,60,89,70,50,78,85,89,64,89,82,89,89,58,82,57,80,68,67,52,68,84,84,65,71,61,69,50,77,53,84,81,87,80,60,76,89,51,47,68,64,70,72,59,39,78,81,65,44,84,61,53,87,73,75,87,87,72,64,89,70,78,89,52,85,84,67,80,84,60,74,84,89,92,77,81,73,53,79,62,88,80,89,92,71,63,88,94,76,62,86,47,96,83,38,64,55,46,98,48,99,72,90,80,89,83,75,62,92,60,79,86,89,75,79,78,70,79,80,56,52,66,58,65,60,85,67,75,65,68,65,69,65,69,87,75,86,78,89,73,82,35,85,35,86,43,48,84,63,84,89,71,81,64,61,56,67,62,54,93,75,84,79,73,88,86,85,71,76,66,89,83,89,79,76,60,66,89,72,47,81,89,86,71,54,78,61,72,73,96,86,55,78,89,77,59,74,89,77,89,76,84,82,83,80,60,77,74,66,83,81,48,78,69,89,56,63,62,75,84,54,54,80,74,56,81,68,87,63,75,51,80,76,57,85,82,89,71,55,75,89,62,88,83,37,61,71,37],\"xaxis\":\"x\",\"y\":[114.6363636,149.0,128.25,98.33333333,105.6,98.42857143,111.6666667,119.4,120.5,143.8,88.0,137.6666667,109.0,120.5,142.0,137.875,151.0,149.6666667,118.75,137.5714286,104.75,132.5,99.0,120.0,125.0,157.8333333,108.0,210.5714286,88.5,299.6666667,100.4,137.4,141.25,82.2,286.5,117.3076923,142.8333333,134.1111111,112.3333333,176.0,109.9090909,136.4,94.16666667,299.8888889,160.0,145.375,93.0,270.875,150.0,255.2,138.8,118.3636364,108.0,211.3333333,146.0,125.0,166.2,131.0,146.3333333,137.8,97.0,182.4,185.5,158.8571429,148.0,84.5,133.7142857,119.0,93.16666667,113.25,153.5,134.4,116.0,121.8571429,170.5,99.5,140.7777778,127.0,188.4,92.0,140.6,120.1666667,150.6666667,88.5,153.3,143.75,123.8,171.0,160.0,113.5,148.0,129.6666667,75.4,110.0,218.4444444,133.4545455,99.875,103.0,230.1428571,162.25,133.3333333,138.1666667,171.0,166.1428571,124.0,75.0,207.6666667,204.8,218.0,146.0,141.5,243.5,111.8,113.1666667,129.0,119.7142857,200.6363636,117.6666667,124.5,125.6666667,219.5,141.7,145.5,115.8571429,239.25,170.6666667,161.8461538,165.8,178.75,123.0,133.3333333,258.5454545,173.2,147.75,112.2,154.4285714,131.25,119.2,157.8333333,140.0,168.8333333,282.0,230.2105263,172.3333333,95.0,158.5,141.5,105.3333333,141.0,132.5,101.1666667,96.66666667,140.0,95.0,95.0,107.25,268.5,116.5,108.5,150.6,167.3,92.0,134.5714286,195.7142857,205.0,126.5384615,369.0,100.0,125.0,112.75,133.3333333,109.4761905,158.0,175.0,122.0,167.0,94.0,163.6666667,102.5,143.25,123.0,222.6666667,130.7142857,129.2857143,153.5,300.8888889,145.2222222,111.0,182.75,146.2857143,84.15384615,158.25,92.0,138.3333333,99.0,339.9090909,126.0,201.75,197.8,185.0,124.5,178.6666667,201.4285714,194.8,138.0,157.5,136.8,218.0,152.0,226.8333333,130.0,263.4375,145.25,147.4,144.5,163.75,140.0,160.3333333,112.0,206.3333333,107.0,94.5,229.6666667,338.8461538,102.6666667,110.3333333,94.0,161.5,116.6666667,190.0,197.8571429,96.30769231,109.8333333,227.2,186.8333333,136.1428571,103.5,166.0,204.1428571,136.0,213.625,143.0,145.0,189.0,157.0,177.4,252.8333333,147.0,169.5,92.125,190.7419355,121.5,140.5,125.0,342.5,156.0,192.6666667,188.4482759,142.0,248.875,149.3333333,283.2,182.5714286,205.5714286,190.2,165.0,131.0,192.1818182,191.0,163.8,132.875,167.75,228.1666667,176.6,97.5,138.4,157.75,107.0,99.5,243.4,149.7142857,119.25,143.0,179.8333333,120.1428571,269.25,77.125,129.1666667,144.8,209.8,251.8,278.5555556,281.3333333,120.0,118.3333333,159.6666667,251.3684211,275.4,169.3333333,242.0,77.33333333,98.69230769,128.7142857,109.6666667,69.1,136.0,119.5,79.75,81.0,111.1666667,212.6,141.0,135.5,96.0,171.875,183.0,182.6666667,184.0,163.5,208.3333333,219.6,115.0,129.8888889,152.0,152.6,107.3333333,126.75,137.375,168.6666667,119.4,78.42857143,93.0,142.0,217.3333333,266.0,216.6666667,148.0,117.2857143,144.25,114.3333333,184.0,145.0,110.0,251.1666667,115.0,165.3333333,203.6666667,178.8571429,191.5,183.5714286,159.3333333,91.42857143,88.85714286,167.8333333,169.5,110.0,183.4285714,102.7142857,209.5,128.3333333,151.8,135.1538462,97.0,114.5,161.6666667,159.4,150.0,270.1428571,131.1666667,172.125,237.5,122.25,281.0,146.125,157.6,226.6,118.6,110.5714286,94.4,164.8,210.0,172.0,282.875,189.3333333,118.0,345.2,149.8888889,136.6666667,173.5,111.5,152.7,150.4285714,132.0,166.6666667,173.4,156.0,162.6923077,294.0,153.5,140.6,330.8571429,146.8888889,232.5714286,240.0,125.4,103.7058824,209.5,178.0,149.125,172.6666667,126.0,113.3333333,296.0,121.3333333,159.375,154.0,123.0,150.0,118.5,153.3333333,98.0,242.5,230.0,158.25,107.0,223.25,191.6470588,140.5],\"yaxis\":\"y\",\"type\":\"scatter\"},{\"name\":\"Weights: Uniform\",\"x\":[35.0,35.64646464646464,36.292929292929294,36.93939393939394,37.58585858585859,38.23232323232323,38.878787878787875,39.525252525252526,40.17171717171717,40.81818181818182,41.464646464646464,42.111111111111114,42.75757575757576,43.4040404040404,44.05050505050505,44.696969696969695,45.343434343434346,45.98989898989899,46.63636363636364,47.282828282828284,47.92929292929293,48.57575757575758,49.22222222222222,49.86868686868687,50.515151515151516,51.161616161616166,51.80808080808081,52.45454545454545,53.101010101010104,53.74747474747475,54.39393939393939,55.04040404040404,55.68686868686869,56.333333333333336,56.97979797979798,57.62626262626263,58.27272727272727,58.91919191919192,59.56565656565657,60.21212121212122,60.85858585858586,61.505050505050505,62.151515151515156,62.7979797979798,63.44444444444444,64.0909090909091,64.73737373737374,65.3838383838384,66.03030303030303,66.67676767676768,67.32323232323233,67.96969696969697,68.61616161616162,69.26262626262627,69.9090909090909,70.55555555555556,71.20202020202021,71.84848484848484,72.4949494949495,73.14141414141415,73.78787878787878,74.43434343434345,75.08080808080808,75.72727272727273,76.37373737373738,77.02020202020202,77.66666666666667,78.31313131313132,78.95959595959596,79.60606060606061,80.25252525252526,80.8989898989899,81.54545454545455,82.1919191919192,82.83838383838383,83.4848484848485,84.13131313131314,84.77777777777777,85.42424242424244,86.07070707070707,86.71717171717172,87.36363636363637,88.01010101010101,88.65656565656566,89.30303030303031,89.94949494949495,90.5959595959596,91.24242424242425,91.88888888888889,92.53535353535355,93.18181818181819,93.82828282828282,94.47474747474749,95.12121212121212,95.76767676767678,96.41414141414143,97.06060606060606,97.70707070707071,98.35353535353536,99.0],\"y\":[119.07166666999998,119.07166666999998,119.07166666999998,119.07166666999998,119.07166666999998,119.07166666999998,119.07166667000001,119.07166667000001,115.94944444999999,115.94944444999999,115.94944445000002,134.00373015999998,134.00373015999998,134.93706348999999,139.33206349,139.33206348999997,141.43206349,140.20706349,153.17011904,151.34797618,141.70511904,158.52678571,158.52678571,165.82112554,178.24969697,164.18303030299998,164.01017316300002,173.649333994,178.15249492100003,202.62725886,160.58293652,153.29000000000002,162.88166667000002,168.92166667,190.48090909,149.50809523,167.75271061000004,187.67937728,160.87916667,160.87916667,179.631349213,184.86551588,184.65619048,155.64434982,150.66101648,156.13333332999997,142.35666667,145.28666667,142.699230769,166.491190467,168.538333327,181.00510101,140.88105262999997,140.88105262999997,141.97458020699997,138.77499892999998,138.77499892999998,145.02506493,145.02506493,178.45371735999998,180.99705069,178.40086022,140.337499997,175.14577921999998,175.14577921999998,167.52601011,152.00666667000002,152.00666667000002,163.60166666,154.13880952000002,154.13880952000002,125.70725491,148.364166665,144.464166665,146.317857143,146.317857143,149.13452381000002,142.59289683,142.59289683,151.58797619,130.74761904,135.79345237,145.58083333,131.80964286,139.49964286,131.39964286,144.64928572000002,142.69547619,145.60365801,145.60365801,155.01615801,166.50782468,166.50782468,163.95782468,158.37211039000002,158.37211039,158.37211039,158.37211039000002,158.37211039000002,158.37211039000002],\"type\":\"scatter\"},{\"name\":\"Weights: Distance\",\"x\":[35.0,35.64646464646464,36.292929292929294,36.93939393939394,37.58585858585859,38.23232323232323,38.878787878787875,39.525252525252526,40.17171717171717,40.81818181818182,41.464646464646464,42.111111111111114,42.75757575757576,43.4040404040404,44.05050505050505,44.696969696969695,45.343434343434346,45.98989898989899,46.63636363636364,47.282828282828284,47.92929292929293,48.57575757575758,49.22222222222222,49.86868686868687,50.515151515151516,51.161616161616166,51.80808080808081,52.45454545454545,53.101010101010104,53.74747474747475,54.39393939393939,55.04040404040404,55.68686868686869,56.333333333333336,56.97979797979798,57.62626262626263,58.27272727272727,58.91919191919192,59.56565656565657,60.21212121212122,60.85858585858586,61.505050505050505,62.151515151515156,62.7979797979798,63.44444444444444,64.0909090909091,64.73737373737374,65.3838383838384,66.03030303030303,66.67676767676768,67.32323232323233,67.96969696969697,68.61616161616162,69.26262626262627,69.9090909090909,70.55555555555556,71.20202020202021,71.84848484848484,72.4949494949495,73.14141414141415,73.78787878787878,74.43434343434345,75.08080808080808,75.72727272727273,76.37373737373738,77.02020202020202,77.66666666666667,78.31313131313132,78.95959595959596,79.60606060606061,80.25252525252526,80.8989898989899,81.54545454545455,82.1919191919192,82.83838383838383,83.4848484848485,84.13131313131314,84.77777777777777,85.42424242424244,86.07070707070707,86.71717171717172,87.36363636363637,88.01010101010101,88.65656565656566,89.30303030303031,89.94949494949495,90.5959595959596,91.24242424242425,91.88888888888889,92.53535353535355,93.18181818181819,93.82828282828282,94.47474747474749,95.12121212121212,95.76767676767678,96.41414141414143,97.06060606060606,97.70707070707071,98.35353535353536,99.0],\"y\":[133.5,125.48546738312773,121.96414592830105,122.98105953968897,114.77426775662845,108.41577696257299,107.56160754991545,115.09964684577687,119.56655254966672,116.56197872049682,116.41908297607525,126.07386983110702,122.17688317180748,124.52624190912937,120.91218190660881,129.93094043936247,140.18012630059238,174.22090318515492,150.12754764827008,143.9129154576536,145.39087454941517,150.49113444073419,155.1900880991189,184.45475143637526,176.5709213652599,165.4638702190247,156.64460521904152,172.33584967981128,183.37473198140705,196.1130375955555,166.7096200242426,133.44464646464652,169.83265964077347,172.72254902352933,175.06465844203393,147.90829182128437,156.35269631973097,251.5807218476362,160.87916667,160.87916667,171.11696821377114,185.010858810664,192.68991763554493,146.6997068787202,149.36911438958333,156.13333333,144.70026205833338,145.62405437712764,142.69923076899997,167.01349602315003,168.10530554848336,181.00510100999998,140.88105263,140.88105263000003,156.8946565734374,138.77499893,138.77499892999998,145.02506493,145.02506492999998,183.66847044144424,179.31662307567566,178.42849261441947,145.07169487746071,175.14577921999995,175.14577921999998,170.16169120765716,152.00666667000002,152.00666667000002,165.75766394295692,154.13880952,154.13880952,125.70725490999999,148.32514124067797,147.1714027920162,146.317857143,146.31785714299997,149.13452381,142.59289683,142.59289683,151.58797619,132.9265777538462,135.38346353125004,154.3629926746621,131.80964285999997,139.49964286,139.28500939912274,138.81449012008565,136.59749965493572,154.75359214886006,145.37597018956765,139.73862337323249,161.61951508138304,166.26891585331228,175.24738521838802,190.82049969260058,184.41157153167848,165.6365908667414,138.10996663314785,137.98196167990784,149.7142857],\"type\":\"scatter\"}],                        {\"template\":{\"data\":{\"histogram2dcontour\":[{\"type\":\"histogram2dcontour\",\"colorbar\":{\"outlinewidth\":0,\"ticks\":\"\"},\"colorscale\":[[0.0,\"#0d0887\"],[0.1111111111111111,\"#46039f\"],[0.2222222222222222,\"#7201a8\"],[0.3333333333333333,\"#9c179e\"],[0.4444444444444444,\"#bd3786\"],[0.5555555555555556,\"#d8576b\"],[0.6666666666666666,\"#ed7953\"],[0.7777777777777778,\"#fb9f3a\"],[0.8888888888888888,\"#fdca26\"],[1.0,\"#f0f921\"]]}],\"choropleth\":[{\"type\":\"choropleth\",\"colorbar\":{\"outlinewidth\":0,\"ticks\":\"\"}}],\"histogram2d\":[{\"type\":\"histogram2d\",\"colorbar\":{\"outlinewidth\":0,\"ticks\":\"\"},\"colorscale\":[[0.0,\"#0d0887\"],[0.1111111111111111,\"#46039f\"],[0.2222222222222222,\"#7201a8\"],[0.3333333333333333,\"#9c179e\"],[0.4444444444444444,\"#bd3786\"],[0.5555555555555556,\"#d8576b\"],[0.6666666666666666,\"#ed7953\"],[0.7777777777777778,\"#fb9f3a\"],[0.8888888888888888,\"#fdca26\"],[1.0,\"#f0f921\"]]}],\"heatmap\":[{\"type\":\"heatmap\",\"colorbar\":{\"outlinewidth\":0,\"ticks\":\"\"},\"colorscale\":[[0.0,\"#0d0887\"],[0.1111111111111111,\"#46039f\"],[0.2222222222222222,\"#7201a8\"],[0.3333333333333333,\"#9c179e\"],[0.4444444444444444,\"#bd3786\"],[0.5555555555555556,\"#d8576b\"],[0.6666666666666666,\"#ed7953\"],[0.7777777777777778,\"#fb9f3a\"],[0.8888888888888888,\"#fdca26\"],[1.0,\"#f0f921\"]]}],\"heatmapgl\":[{\"type\":\"heatmapgl\",\"colorbar\":{\"outlinewidth\":0,\"ticks\":\"\"},\"colorscale\":[[0.0,\"#0d0887\"],[0.1111111111111111,\"#46039f\"],[0.2222222222222222,\"#7201a8\"],[0.3333333333333333,\"#9c179e\"],[0.4444444444444444,\"#bd3786\"],[0.5555555555555556,\"#d8576b\"],[0.6666666666666666,\"#ed7953\"],[0.7777777777777778,\"#fb9f3a\"],[0.8888888888888888,\"#fdca26\"],[1.0,\"#f0f921\"]]}],\"contourcarpet\":[{\"type\":\"contourcarpet\",\"colorbar\":{\"outlinewidth\":0,\"ticks\":\"\"}}],\"contour\":[{\"type\":\"contour\",\"colorbar\":{\"outlinewidth\":0,\"ticks\":\"\"},\"colorscale\":[[0.0,\"#0d0887\"],[0.1111111111111111,\"#46039f\"],[0.2222222222222222,\"#7201a8\"],[0.3333333333333333,\"#9c179e\"],[0.4444444444444444,\"#bd3786\"],[0.5555555555555556,\"#d8576b\"],[0.6666666666666666,\"#ed7953\"],[0.7777777777777778,\"#fb9f3a\"],[0.8888888888888888,\"#fdca26\"],[1.0,\"#f0f921\"]]}],\"surface\":[{\"type\":\"surface\",\"colorbar\":{\"outlinewidth\":0,\"ticks\":\"\"},\"colorscale\":[[0.0,\"#0d0887\"],[0.1111111111111111,\"#46039f\"],[0.2222222222222222,\"#7201a8\"],[0.3333333333333333,\"#9c179e\"],[0.4444444444444444,\"#bd3786\"],[0.5555555555555556,\"#d8576b\"],[0.6666666666666666,\"#ed7953\"],[0.7777777777777778,\"#fb9f3a\"],[0.8888888888888888,\"#fdca26\"],[1.0,\"#f0f921\"]]}],\"mesh3d\":[{\"type\":\"mesh3d\",\"colorbar\":{\"outlinewidth\":0,\"ticks\":\"\"}}],\"scatter\":[{\"fillpattern\":{\"fillmode\":\"overlay\",\"size\":10,\"solidity\":0.2},\"type\":\"scatter\"}],\"parcoords\":[{\"type\":\"parcoords\",\"line\":{\"colorbar\":{\"outlinewidth\":0,\"ticks\":\"\"}}}],\"scatterpolargl\":[{\"type\":\"scatterpolargl\",\"marker\":{\"colorbar\":{\"outlinewidth\":0,\"ticks\":\"\"}}}],\"bar\":[{\"error_x\":{\"color\":\"#2a3f5f\"},\"error_y\":{\"color\":\"#2a3f5f\"},\"marker\":{\"line\":{\"color\":\"#E5ECF6\",\"width\":0.5},\"pattern\":{\"fillmode\":\"overlay\",\"size\":10,\"solidity\":0.2}},\"type\":\"bar\"}],\"scattergeo\":[{\"type\":\"scattergeo\",\"marker\":{\"colorbar\":{\"outlinewidth\":0,\"ticks\":\"\"}}}],\"scatterpolar\":[{\"type\":\"scatterpolar\",\"marker\":{\"colorbar\":{\"outlinewidth\":0,\"ticks\":\"\"}}}],\"histogram\":[{\"marker\":{\"pattern\":{\"fillmode\":\"overlay\",\"size\":10,\"solidity\":0.2}},\"type\":\"histogram\"}],\"scattergl\":[{\"type\":\"scattergl\",\"marker\":{\"colorbar\":{\"outlinewidth\":0,\"ticks\":\"\"}}}],\"scatter3d\":[{\"type\":\"scatter3d\",\"line\":{\"colorbar\":{\"outlinewidth\":0,\"ticks\":\"\"}},\"marker\":{\"colorbar\":{\"outlinewidth\":0,\"ticks\":\"\"}}}],\"scattermapbox\":[{\"type\":\"scattermapbox\",\"marker\":{\"colorbar\":{\"outlinewidth\":0,\"ticks\":\"\"}}}],\"scatterternary\":[{\"type\":\"scatterternary\",\"marker\":{\"colorbar\":{\"outlinewidth\":0,\"ticks\":\"\"}}}],\"scattercarpet\":[{\"type\":\"scattercarpet\",\"marker\":{\"colorbar\":{\"outlinewidth\":0,\"ticks\":\"\"}}}],\"carpet\":[{\"aaxis\":{\"endlinecolor\":\"#2a3f5f\",\"gridcolor\":\"white\",\"linecolor\":\"white\",\"minorgridcolor\":\"white\",\"startlinecolor\":\"#2a3f5f\"},\"baxis\":{\"endlinecolor\":\"#2a3f5f\",\"gridcolor\":\"white\",\"linecolor\":\"white\",\"minorgridcolor\":\"white\",\"startlinecolor\":\"#2a3f5f\"},\"type\":\"carpet\"}],\"table\":[{\"cells\":{\"fill\":{\"color\":\"#EBF0F8\"},\"line\":{\"color\":\"white\"}},\"header\":{\"fill\":{\"color\":\"#C8D4E3\"},\"line\":{\"color\":\"white\"}},\"type\":\"table\"}],\"barpolar\":[{\"marker\":{\"line\":{\"color\":\"#E5ECF6\",\"width\":0.5},\"pattern\":{\"fillmode\":\"overlay\",\"size\":10,\"solidity\":0.2}},\"type\":\"barpolar\"}],\"pie\":[{\"automargin\":true,\"type\":\"pie\"}]},\"layout\":{\"autotypenumbers\":\"strict\",\"colorway\":[\"#636efa\",\"#EF553B\",\"#00cc96\",\"#ab63fa\",\"#FFA15A\",\"#19d3f3\",\"#FF6692\",\"#B6E880\",\"#FF97FF\",\"#FECB52\"],\"font\":{\"color\":\"#2a3f5f\"},\"hovermode\":\"closest\",\"hoverlabel\":{\"align\":\"left\"},\"paper_bgcolor\":\"white\",\"plot_bgcolor\":\"#E5ECF6\",\"polar\":{\"bgcolor\":\"#E5ECF6\",\"angularaxis\":{\"gridcolor\":\"white\",\"linecolor\":\"white\",\"ticks\":\"\"},\"radialaxis\":{\"gridcolor\":\"white\",\"linecolor\":\"white\",\"ticks\":\"\"}},\"ternary\":{\"bgcolor\":\"#E5ECF6\",\"aaxis\":{\"gridcolor\":\"white\",\"linecolor\":\"white\",\"ticks\":\"\"},\"baxis\":{\"gridcolor\":\"white\",\"linecolor\":\"white\",\"ticks\":\"\"},\"caxis\":{\"gridcolor\":\"white\",\"linecolor\":\"white\",\"ticks\":\"\"}},\"coloraxis\":{\"colorbar\":{\"outlinewidth\":0,\"ticks\":\"\"}},\"colorscale\":{\"sequential\":[[0.0,\"#0d0887\"],[0.1111111111111111,\"#46039f\"],[0.2222222222222222,\"#7201a8\"],[0.3333333333333333,\"#9c179e\"],[0.4444444444444444,\"#bd3786\"],[0.5555555555555556,\"#d8576b\"],[0.6666666666666666,\"#ed7953\"],[0.7777777777777778,\"#fb9f3a\"],[0.8888888888888888,\"#fdca26\"],[1.0,\"#f0f921\"]],\"sequentialminus\":[[0.0,\"#0d0887\"],[0.1111111111111111,\"#46039f\"],[0.2222222222222222,\"#7201a8\"],[0.3333333333333333,\"#9c179e\"],[0.4444444444444444,\"#bd3786\"],[0.5555555555555556,\"#d8576b\"],[0.6666666666666666,\"#ed7953\"],[0.7777777777777778,\"#fb9f3a\"],[0.8888888888888888,\"#fdca26\"],[1.0,\"#f0f921\"]],\"diverging\":[[0,\"#8e0152\"],[0.1,\"#c51b7d\"],[0.2,\"#de77ae\"],[0.3,\"#f1b6da\"],[0.4,\"#fde0ef\"],[0.5,\"#f7f7f7\"],[0.6,\"#e6f5d0\"],[0.7,\"#b8e186\"],[0.8,\"#7fbc41\"],[0.9,\"#4d9221\"],[1,\"#276419\"]]},\"xaxis\":{\"gridcolor\":\"white\",\"linecolor\":\"white\",\"ticks\":\"\",\"title\":{\"standoff\":15},\"zerolinecolor\":\"white\",\"automargin\":true,\"zerolinewidth\":2},\"yaxis\":{\"gridcolor\":\"white\",\"linecolor\":\"white\",\"ticks\":\"\",\"title\":{\"standoff\":15},\"zerolinecolor\":\"white\",\"automargin\":true,\"zerolinewidth\":2},\"scene\":{\"xaxis\":{\"backgroundcolor\":\"#E5ECF6\",\"gridcolor\":\"white\",\"linecolor\":\"white\",\"showbackground\":true,\"ticks\":\"\",\"zerolinecolor\":\"white\",\"gridwidth\":2},\"yaxis\":{\"backgroundcolor\":\"#E5ECF6\",\"gridcolor\":\"white\",\"linecolor\":\"white\",\"showbackground\":true,\"ticks\":\"\",\"zerolinecolor\":\"white\",\"gridwidth\":2},\"zaxis\":{\"backgroundcolor\":\"#E5ECF6\",\"gridcolor\":\"white\",\"linecolor\":\"white\",\"showbackground\":true,\"ticks\":\"\",\"zerolinecolor\":\"white\",\"gridwidth\":2}},\"shapedefaults\":{\"line\":{\"color\":\"#2a3f5f\"}},\"annotationdefaults\":{\"arrowcolor\":\"#2a3f5f\",\"arrowhead\":0,\"arrowwidth\":1},\"geo\":{\"bgcolor\":\"white\",\"landcolor\":\"#E5ECF6\",\"subunitcolor\":\"white\",\"showland\":true,\"showlakes\":true,\"lakecolor\":\"white\"},\"title\":{\"x\":0.05},\"mapbox\":{\"style\":\"light\"}}},\"xaxis\":{\"anchor\":\"y\",\"domain\":[0.0,1.0],\"title\":{\"text\":\"age\"}},\"yaxis\":{\"anchor\":\"x\",\"domain\":[0.0,1.0],\"title\":{\"text\":\"glucose\"}},\"coloraxis\":{\"colorbar\":{\"title\":{\"text\":\"sex\"}},\"colorscale\":[[0.0,\"#0d0887\"],[0.1111111111111111,\"#46039f\"],[0.2222222222222222,\"#7201a8\"],[0.3333333333333333,\"#9c179e\"],[0.4444444444444444,\"#bd3786\"],[0.5555555555555556,\"#d8576b\"],[0.6666666666666666,\"#ed7953\"],[0.7777777777777778,\"#fb9f3a\"],[0.8888888888888888,\"#fdca26\"],[1.0,\"#f0f921\"]]},\"legend\":{\"tracegroupgap\":0},\"margin\":{\"t\":60}},                        {\"responsive\": true}                    ).then(function(){\n",
       "                            \n",
       "var gd = document.getElementById('5130c181-70e1-4819-8131-c054499844f1');\n",
       "var x = new MutationObserver(function (mutations, observer) {{\n",
       "        var display = window.getComputedStyle(gd).display;\n",
       "        if (!display || display === 'none') {{\n",
       "            console.log([gd, 'removed!']);\n",
       "            Plotly.purge(gd);\n",
       "            observer.disconnect();\n",
       "        }}\n",
       "}});\n",
       "\n",
       "// Listen for the removal of the full notebook cells\n",
       "var notebookContainer = gd.closest('#notebook-container');\n",
       "if (notebookContainer) {{\n",
       "    x.observe(notebookContainer, {childList: true});\n",
       "}}\n",
       "\n",
       "// Listen for the clearing of the current output cell\n",
       "var outputEl = gd.closest('.output');\n",
       "if (outputEl) {{\n",
       "    x.observe(outputEl, {childList: true});\n",
       "}}\n",
       "\n",
       "                        })                };                });            </script>        </div>"
      ]
     },
     "metadata": {},
     "output_type": "display_data"
    }
   ],
   "source": [
    "X = df.age.values.reshape(-1, 1)\n",
    "x_range = np.linspace(X.min(), X.max(), 100)\n",
    "\n",
    "# Model #1\n",
    "knn_dist = KNeighborsRegressor(10, weights='distance')\n",
    "knn_dist.fit(X, df.glucose)\n",
    "y_dist = knn_dist.predict(x_range.reshape(-1, 1))\n",
    "\n",
    "# Model #2\n",
    "knn_uni = KNeighborsRegressor(10, weights='uniform')\n",
    "knn_uni.fit(X, df.glucose)\n",
    "y_uni = knn_uni.predict(x_range.reshape(-1, 1))\n",
    "\n",
    "fig = px.scatter(df, x='age', y='glucose', color='sex', opacity=0.65)\n",
    "fig.add_traces(go.Scatter(x=x_range, y=y_uni, name='Weights: Uniform'))\n",
    "fig.add_traces(go.Scatter(x=x_range, y=y_dist, name='Weights: Distance'))\n",
    "fig.show()\n",
    "\n"
   ]
  },
  {
   "cell_type": "code",
   "execution_count": 117,
   "id": "c1671d0c",
   "metadata": {},
   "outputs": [],
   "source": [
    "#pip freeze > requirements. txt"
   ]
  }
 ],
 "metadata": {
  "kernelspec": {
   "display_name": "Python 3 (ipykernel)",
   "language": "python",
   "name": "python3"
  },
  "language_info": {
   "codemirror_mode": {
    "name": "ipython",
    "version": 3
   },
   "file_extension": ".py",
   "mimetype": "text/x-python",
   "name": "python",
   "nbconvert_exporter": "python",
   "pygments_lexer": "ipython3",
   "version": "3.9.7"
  }
 },
 "nbformat": 4,
 "nbformat_minor": 5
}
