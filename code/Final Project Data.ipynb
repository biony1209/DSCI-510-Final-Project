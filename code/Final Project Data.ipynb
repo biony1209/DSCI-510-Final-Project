{
 "cells": [
  {
   "cell_type": "code",
   "execution_count": 38,
   "id": "92b4769a",
   "metadata": {},
   "outputs": [],
   "source": [
    "## Link to repository - https://github.com/biony1209/DSCI-510-Final-Project"
   ]
  },
  {
   "cell_type": "code",
   "execution_count": null,
   "id": "f68f6efa",
   "metadata": {},
   "outputs": [],
   "source": [
    "import pandas as pd\n",
    "import numpy as np\n",
    "import matplotlib.pyplot as plt"
   ]
  },
  {
   "cell_type": "code",
   "execution_count": 39,
   "id": "5610ae45",
   "metadata": {},
   "outputs": [],
   "source": [
    "covid = pd.read_csv(r'C:\\Users\\jaimv\\Downloads\\covid.csv')\n",
    "noncovid = pd.read_csv(r'C:\\Users\\jaimv\\Downloads\\noncovid.csv')"
   ]
  },
  {
   "cell_type": "code",
   "execution_count": 40,
   "id": "68d5fb1e",
   "metadata": {},
   "outputs": [],
   "source": [
    "covid.rename({'date_died': 'outcome'}, axis=1, inplace=True)"
   ]
  },
  {
   "cell_type": "code",
   "execution_count": 41,
   "id": "60ad4305",
   "metadata": {},
   "outputs": [],
   "source": [
    "noncovid = noncovid[[\"ID\", \"outcome\", \"age\", \"gendera\", \"hypertensive\", \"diabetes\"]]"
   ]
  },
  {
   "cell_type": "code",
   "execution_count": 42,
   "id": "ffb72652",
   "metadata": {},
   "outputs": [],
   "source": [
    "noncovid.rename({'ID': 'id', 'gendera': 'sex', 'hypertensive': 'hypertension'}, axis=1, inplace=True)"
   ]
  },
  {
   "cell_type": "code",
   "execution_count": 43,
   "id": "83ce4c84",
   "metadata": {},
   "outputs": [],
   "source": [
    "transform={2:1,1:0}\n",
    "covid = covid.replace({'sex':transform,'hypertension':transform, 'diabetes':transform})"
   ]
  },
  {
   "cell_type": "code",
   "execution_count": 44,
   "id": "b0cd7240",
   "metadata": {},
   "outputs": [],
   "source": [
    "noncovid = noncovid.replace({'sex':transform})"
   ]
  },
  {
   "cell_type": "code",
   "execution_count": 45,
   "id": "6e0a6fdf",
   "metadata": {},
   "outputs": [
    {
     "name": "stderr",
     "output_type": "stream",
     "text": [
      "C:\\Users\\jaimv\\AppData\\Local\\Temp/ipykernel_49076/4100060542.py:1: SettingWithCopyWarning: \n",
      "A value is trying to be set on a copy of a slice from a DataFrame\n",
      "\n",
      "See the caveats in the documentation: https://pandas.pydata.org/pandas-docs/stable/user_guide/indexing.html#returning-a-view-versus-a-copy\n",
      "  covid['outcome'][covid['outcome']!='9999-99-99']=1.0\n"
     ]
    }
   ],
   "source": [
    "covid['outcome'][covid['outcome']!='9999-99-99']=1.0"
   ]
  },
  {
   "cell_type": "code",
   "execution_count": 46,
   "id": "9bf71599",
   "metadata": {},
   "outputs": [
    {
     "name": "stderr",
     "output_type": "stream",
     "text": [
      "C:\\Users\\jaimv\\AppData\\Local\\Temp/ipykernel_49076/1287461197.py:1: SettingWithCopyWarning: \n",
      "A value is trying to be set on a copy of a slice from a DataFrame\n",
      "\n",
      "See the caveats in the documentation: https://pandas.pydata.org/pandas-docs/stable/user_guide/indexing.html#returning-a-view-versus-a-copy\n",
      "  covid['outcome'][covid['outcome']!=1]=0.0\n"
     ]
    }
   ],
   "source": [
    "covid['outcome'][covid['outcome']!=1]=0.0"
   ]
  },
  {
   "cell_type": "code",
   "execution_count": 47,
   "id": "bd421bc1",
   "metadata": {},
   "outputs": [],
   "source": [
    "covid = covid[[\"id\", \"outcome\", \"age\", \"sex\", \"hypertension\", \"diabetes\"]]"
   ]
  },
  {
   "cell_type": "code",
   "execution_count": 48,
   "id": "3c45394b",
   "metadata": {},
   "outputs": [],
   "source": [
    "covid['covid_status'] = 1\n",
    "noncovid['covid_status'] = 0"
   ]
  },
  {
   "cell_type": "code",
   "execution_count": 49,
   "id": "7042d3df",
   "metadata": {},
   "outputs": [],
   "source": [
    "covid['outcome'] = covid['outcome'].dropna().astype('uint8')"
   ]
  },
  {
   "cell_type": "code",
   "execution_count": 50,
   "id": "3742c821",
   "metadata": {},
   "outputs": [
    {
     "data": {
      "text/html": [
       "<div>\n",
       "<style scoped>\n",
       "    .dataframe tbody tr th:only-of-type {\n",
       "        vertical-align: middle;\n",
       "    }\n",
       "\n",
       "    .dataframe tbody tr th {\n",
       "        vertical-align: top;\n",
       "    }\n",
       "\n",
       "    .dataframe thead th {\n",
       "        text-align: right;\n",
       "    }\n",
       "</style>\n",
       "<table border=\"1\" class=\"dataframe\">\n",
       "  <thead>\n",
       "    <tr style=\"text-align: right;\">\n",
       "      <th></th>\n",
       "      <th>id</th>\n",
       "      <th>outcome</th>\n",
       "      <th>age</th>\n",
       "      <th>sex</th>\n",
       "      <th>hypertension</th>\n",
       "      <th>diabetes</th>\n",
       "      <th>covid_status</th>\n",
       "    </tr>\n",
       "  </thead>\n",
       "  <tbody>\n",
       "    <tr>\n",
       "      <th>0</th>\n",
       "      <td>16169f</td>\n",
       "      <td>0</td>\n",
       "      <td>27</td>\n",
       "      <td>1</td>\n",
       "      <td>1</td>\n",
       "      <td>1</td>\n",
       "      <td>1</td>\n",
       "    </tr>\n",
       "    <tr>\n",
       "      <th>1</th>\n",
       "      <td>1009bf</td>\n",
       "      <td>0</td>\n",
       "      <td>24</td>\n",
       "      <td>1</td>\n",
       "      <td>1</td>\n",
       "      <td>1</td>\n",
       "      <td>1</td>\n",
       "    </tr>\n",
       "    <tr>\n",
       "      <th>2</th>\n",
       "      <td>167386</td>\n",
       "      <td>0</td>\n",
       "      <td>54</td>\n",
       "      <td>0</td>\n",
       "      <td>1</td>\n",
       "      <td>1</td>\n",
       "      <td>1</td>\n",
       "    </tr>\n",
       "    <tr>\n",
       "      <th>3</th>\n",
       "      <td>0b5948</td>\n",
       "      <td>0</td>\n",
       "      <td>30</td>\n",
       "      <td>1</td>\n",
       "      <td>1</td>\n",
       "      <td>1</td>\n",
       "      <td>1</td>\n",
       "    </tr>\n",
       "    <tr>\n",
       "      <th>4</th>\n",
       "      <td>0d01b5</td>\n",
       "      <td>1</td>\n",
       "      <td>60</td>\n",
       "      <td>0</td>\n",
       "      <td>0</td>\n",
       "      <td>0</td>\n",
       "      <td>1</td>\n",
       "    </tr>\n",
       "    <tr>\n",
       "      <th>...</th>\n",
       "      <td>...</td>\n",
       "      <td>...</td>\n",
       "      <td>...</td>\n",
       "      <td>...</td>\n",
       "      <td>...</td>\n",
       "      <td>...</td>\n",
       "      <td>...</td>\n",
       "    </tr>\n",
       "    <tr>\n",
       "      <th>566597</th>\n",
       "      <td>01ff60</td>\n",
       "      <td>0</td>\n",
       "      <td>58</td>\n",
       "      <td>1</td>\n",
       "      <td>1</td>\n",
       "      <td>0</td>\n",
       "      <td>1</td>\n",
       "    </tr>\n",
       "    <tr>\n",
       "      <th>566598</th>\n",
       "      <td>047cd1</td>\n",
       "      <td>0</td>\n",
       "      <td>48</td>\n",
       "      <td>0</td>\n",
       "      <td>1</td>\n",
       "      <td>1</td>\n",
       "      <td>1</td>\n",
       "    </tr>\n",
       "    <tr>\n",
       "      <th>566599</th>\n",
       "      <td>1beb81</td>\n",
       "      <td>0</td>\n",
       "      <td>49</td>\n",
       "      <td>0</td>\n",
       "      <td>1</td>\n",
       "      <td>1</td>\n",
       "      <td>1</td>\n",
       "    </tr>\n",
       "    <tr>\n",
       "      <th>566600</th>\n",
       "      <td>16fb02</td>\n",
       "      <td>0</td>\n",
       "      <td>43</td>\n",
       "      <td>0</td>\n",
       "      <td>1</td>\n",
       "      <td>1</td>\n",
       "      <td>1</td>\n",
       "    </tr>\n",
       "    <tr>\n",
       "      <th>566601</th>\n",
       "      <td>0021c9</td>\n",
       "      <td>0</td>\n",
       "      <td>65</td>\n",
       "      <td>1</td>\n",
       "      <td>0</td>\n",
       "      <td>0</td>\n",
       "      <td>1</td>\n",
       "    </tr>\n",
       "  </tbody>\n",
       "</table>\n",
       "<p>566602 rows × 7 columns</p>\n",
       "</div>"
      ],
      "text/plain": [
       "            id  outcome  age  sex  hypertension  diabetes  covid_status\n",
       "0       16169f        0   27    1             1         1             1\n",
       "1       1009bf        0   24    1             1         1             1\n",
       "2       167386        0   54    0             1         1             1\n",
       "3       0b5948        0   30    1             1         1             1\n",
       "4       0d01b5        1   60    0             0         0             1\n",
       "...        ...      ...  ...  ...           ...       ...           ...\n",
       "566597  01ff60        0   58    1             1         0             1\n",
       "566598  047cd1        0   48    0             1         1             1\n",
       "566599  1beb81        0   49    0             1         1             1\n",
       "566600  16fb02        0   43    0             1         1             1\n",
       "566601  0021c9        0   65    1             0         0             1\n",
       "\n",
       "[566602 rows x 7 columns]"
      ]
     },
     "execution_count": 50,
     "metadata": {},
     "output_type": "execute_result"
    }
   ],
   "source": [
    "covid"
   ]
  },
  {
   "cell_type": "code",
   "execution_count": 51,
   "id": "3c0e5987",
   "metadata": {},
   "outputs": [],
   "source": [
    "noncovid = noncovid.dropna()\n",
    "covid = covid.dropna()"
   ]
  },
  {
   "cell_type": "code",
   "execution_count": 52,
   "id": "77c697b9",
   "metadata": {},
   "outputs": [],
   "source": [
    "noncovid['outcome'] = noncovid['outcome'].astype(int)\n",
    "covid['outcome'] = covid['outcome'].astype(int)"
   ]
  },
  {
   "cell_type": "code",
   "execution_count": 53,
   "id": "fdc9584c",
   "metadata": {},
   "outputs": [
    {
     "data": {
      "text/html": [
       "<div>\n",
       "<style scoped>\n",
       "    .dataframe tbody tr th:only-of-type {\n",
       "        vertical-align: middle;\n",
       "    }\n",
       "\n",
       "    .dataframe tbody tr th {\n",
       "        vertical-align: top;\n",
       "    }\n",
       "\n",
       "    .dataframe thead th {\n",
       "        text-align: right;\n",
       "    }\n",
       "</style>\n",
       "<table border=\"1\" class=\"dataframe\">\n",
       "  <thead>\n",
       "    <tr style=\"text-align: right;\">\n",
       "      <th></th>\n",
       "      <th>id</th>\n",
       "      <th>outcome</th>\n",
       "      <th>age</th>\n",
       "      <th>sex</th>\n",
       "      <th>hypertension</th>\n",
       "      <th>diabetes</th>\n",
       "      <th>covid_status</th>\n",
       "    </tr>\n",
       "  </thead>\n",
       "  <tbody>\n",
       "    <tr>\n",
       "      <th>0</th>\n",
       "      <td>125047</td>\n",
       "      <td>0</td>\n",
       "      <td>72</td>\n",
       "      <td>0</td>\n",
       "      <td>0</td>\n",
       "      <td>1</td>\n",
       "      <td>0</td>\n",
       "    </tr>\n",
       "    <tr>\n",
       "      <th>1</th>\n",
       "      <td>139812</td>\n",
       "      <td>0</td>\n",
       "      <td>75</td>\n",
       "      <td>1</td>\n",
       "      <td>0</td>\n",
       "      <td>0</td>\n",
       "      <td>0</td>\n",
       "    </tr>\n",
       "    <tr>\n",
       "      <th>2</th>\n",
       "      <td>109787</td>\n",
       "      <td>0</td>\n",
       "      <td>83</td>\n",
       "      <td>1</td>\n",
       "      <td>0</td>\n",
       "      <td>0</td>\n",
       "      <td>0</td>\n",
       "    </tr>\n",
       "    <tr>\n",
       "      <th>3</th>\n",
       "      <td>130587</td>\n",
       "      <td>0</td>\n",
       "      <td>43</td>\n",
       "      <td>1</td>\n",
       "      <td>0</td>\n",
       "      <td>0</td>\n",
       "      <td>0</td>\n",
       "    </tr>\n",
       "    <tr>\n",
       "      <th>4</th>\n",
       "      <td>138290</td>\n",
       "      <td>0</td>\n",
       "      <td>75</td>\n",
       "      <td>1</td>\n",
       "      <td>1</td>\n",
       "      <td>0</td>\n",
       "      <td>0</td>\n",
       "    </tr>\n",
       "    <tr>\n",
       "      <th>...</th>\n",
       "      <td>...</td>\n",
       "      <td>...</td>\n",
       "      <td>...</td>\n",
       "      <td>...</td>\n",
       "      <td>...</td>\n",
       "      <td>...</td>\n",
       "      <td>...</td>\n",
       "    </tr>\n",
       "    <tr>\n",
       "      <th>1172</th>\n",
       "      <td>171130</td>\n",
       "      <td>0</td>\n",
       "      <td>62</td>\n",
       "      <td>0</td>\n",
       "      <td>1</td>\n",
       "      <td>1</td>\n",
       "      <td>0</td>\n",
       "    </tr>\n",
       "    <tr>\n",
       "      <th>1173</th>\n",
       "      <td>101659</td>\n",
       "      <td>0</td>\n",
       "      <td>78</td>\n",
       "      <td>0</td>\n",
       "      <td>0</td>\n",
       "      <td>1</td>\n",
       "      <td>0</td>\n",
       "    </tr>\n",
       "    <tr>\n",
       "      <th>1174</th>\n",
       "      <td>162069</td>\n",
       "      <td>0</td>\n",
       "      <td>85</td>\n",
       "      <td>1</td>\n",
       "      <td>1</td>\n",
       "      <td>1</td>\n",
       "      <td>0</td>\n",
       "    </tr>\n",
       "    <tr>\n",
       "      <th>1175</th>\n",
       "      <td>120967</td>\n",
       "      <td>0</td>\n",
       "      <td>79</td>\n",
       "      <td>1</td>\n",
       "      <td>0</td>\n",
       "      <td>1</td>\n",
       "      <td>0</td>\n",
       "    </tr>\n",
       "    <tr>\n",
       "      <th>1176</th>\n",
       "      <td>107636</td>\n",
       "      <td>0</td>\n",
       "      <td>47</td>\n",
       "      <td>0</td>\n",
       "      <td>1</td>\n",
       "      <td>1</td>\n",
       "      <td>0</td>\n",
       "    </tr>\n",
       "  </tbody>\n",
       "</table>\n",
       "<p>1176 rows × 7 columns</p>\n",
       "</div>"
      ],
      "text/plain": [
       "          id  outcome  age  sex  hypertension  diabetes  covid_status\n",
       "0     125047        0   72    0             0         1             0\n",
       "1     139812        0   75    1             0         0             0\n",
       "2     109787        0   83    1             0         0             0\n",
       "3     130587        0   43    1             0         0             0\n",
       "4     138290        0   75    1             1         0             0\n",
       "...      ...      ...  ...  ...           ...       ...           ...\n",
       "1172  171130        0   62    0             1         1             0\n",
       "1173  101659        0   78    0             0         1             0\n",
       "1174  162069        0   85    1             1         1             0\n",
       "1175  120967        0   79    1             0         1             0\n",
       "1176  107636        0   47    0             1         1             0\n",
       "\n",
       "[1176 rows x 7 columns]"
      ]
     },
     "execution_count": 53,
     "metadata": {},
     "output_type": "execute_result"
    }
   ],
   "source": [
    "noncovid"
   ]
  }
 ],
 "metadata": {
  "kernelspec": {
   "display_name": "Python 3 (ipykernel)",
   "language": "python",
   "name": "python3"
  },
  "language_info": {
   "codemirror_mode": {
    "name": "ipython",
    "version": 3
   },
   "file_extension": ".py",
   "mimetype": "text/x-python",
   "name": "python",
   "nbconvert_exporter": "python",
   "pygments_lexer": "ipython3",
   "version": "3.9.7"
  }
 },
 "nbformat": 4,
 "nbformat_minor": 5
}
