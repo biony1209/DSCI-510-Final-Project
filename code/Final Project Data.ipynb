{
 "cells": [
  {
   "cell_type": "code",
   "execution_count": 38,
   "id": "92b4769a",
   "metadata": {},
   "outputs": [],
   "source": [
    "## Link to repository - https://github.com/biony1209/DSCI-510-Final-Project"
   ]
  },
  {
   "cell_type": "markdown",
   "id": "89eb94e1",
   "metadata": {},
   "source": [
    "## Data Collection and Preparation"
   ]
  },
  {
   "cell_type": "code",
   "execution_count": 391,
   "id": "f68f6efa",
   "metadata": {},
   "outputs": [],
   "source": [
    "import pandas as pd\n",
    "import numpy as np\n",
    "import matplotlib.pyplot as plt"
   ]
  },
  {
   "cell_type": "code",
   "execution_count": 392,
   "id": "5610ae45",
   "metadata": {},
   "outputs": [],
   "source": [
    "covid = pd.read_csv(r'C:\\Users\\jaimv\\Downloads\\covid.csv')\n",
    "noncovid = pd.read_csv(r'C:\\Users\\jaimv\\Downloads\\noncovid.csv')"
   ]
  },
  {
   "cell_type": "code",
   "execution_count": 393,
   "id": "0235649b",
   "metadata": {},
   "outputs": [],
   "source": [
    "#df = pd.read_csv('../data/covidsample.csv')"
   ]
  },
  {
   "cell_type": "code",
   "execution_count": 394,
   "id": "68d5fb1e",
   "metadata": {},
   "outputs": [],
   "source": [
    "covid.rename({'date_died': 'outcome'}, axis=1, inplace=True)"
   ]
  },
  {
   "cell_type": "code",
   "execution_count": 395,
   "id": "60ad4305",
   "metadata": {},
   "outputs": [],
   "source": [
    "noncovid = noncovid[[\"ID\", \"outcome\", \"age\", \"gendera\", \"hypertensive\", \"diabetes\"]]"
   ]
  },
  {
   "cell_type": "code",
   "execution_count": 396,
   "id": "ffb72652",
   "metadata": {},
   "outputs": [],
   "source": [
    "noncovid.rename({'ID': 'id', 'gendera': 'sex', 'hypertensive': 'hypertension'}, axis=1, inplace=True)"
   ]
  },
  {
   "cell_type": "code",
   "execution_count": 397,
   "id": "83ce4c84",
   "metadata": {},
   "outputs": [],
   "source": [
    "transform={2:1,1:0}\n",
    "covid = covid.replace({'sex':transform,'hypertension':transform, 'diabetes':transform})"
   ]
  },
  {
   "cell_type": "code",
   "execution_count": 398,
   "id": "b0cd7240",
   "metadata": {},
   "outputs": [],
   "source": [
    "noncovid = noncovid.replace({'sex':transform})"
   ]
  },
  {
   "cell_type": "code",
   "execution_count": 399,
   "id": "6e0a6fdf",
   "metadata": {},
   "outputs": [],
   "source": [
    "covid['outcome'][covid['outcome']!='9999-99-99']=1.0"
   ]
  },
  {
   "cell_type": "code",
   "execution_count": 400,
   "id": "9bf71599",
   "metadata": {},
   "outputs": [],
   "source": [
    "covid['outcome'][covid['outcome']!=1]=0.0"
   ]
  },
  {
   "cell_type": "code",
   "execution_count": 401,
   "id": "bd421bc1",
   "metadata": {},
   "outputs": [],
   "source": [
    "covid = covid[[\"id\", \"outcome\", \"age\", \"sex\", \"hypertension\", \"diabetes\"]]"
   ]
  },
  {
   "cell_type": "code",
   "execution_count": 402,
   "id": "3c45394b",
   "metadata": {},
   "outputs": [],
   "source": [
    "covid['covid_status'] = 1\n",
    "noncovid['covid_status'] = 0"
   ]
  },
  {
   "cell_type": "code",
   "execution_count": 403,
   "id": "7042d3df",
   "metadata": {},
   "outputs": [],
   "source": [
    "covid['outcome'] = covid['outcome'].dropna().astype('uint8')"
   ]
  },
  {
   "cell_type": "code",
   "execution_count": 404,
   "id": "3742c821",
   "metadata": {},
   "outputs": [
    {
     "data": {
      "text/html": [
       "<div>\n",
       "<style scoped>\n",
       "    .dataframe tbody tr th:only-of-type {\n",
       "        vertical-align: middle;\n",
       "    }\n",
       "\n",
       "    .dataframe tbody tr th {\n",
       "        vertical-align: top;\n",
       "    }\n",
       "\n",
       "    .dataframe thead th {\n",
       "        text-align: right;\n",
       "    }\n",
       "</style>\n",
       "<table border=\"1\" class=\"dataframe\">\n",
       "  <thead>\n",
       "    <tr style=\"text-align: right;\">\n",
       "      <th></th>\n",
       "      <th>id</th>\n",
       "      <th>outcome</th>\n",
       "      <th>age</th>\n",
       "      <th>sex</th>\n",
       "      <th>hypertension</th>\n",
       "      <th>diabetes</th>\n",
       "      <th>covid_status</th>\n",
       "    </tr>\n",
       "  </thead>\n",
       "  <tbody>\n",
       "    <tr>\n",
       "      <th>0</th>\n",
       "      <td>16169f</td>\n",
       "      <td>0</td>\n",
       "      <td>27</td>\n",
       "      <td>1</td>\n",
       "      <td>1</td>\n",
       "      <td>1</td>\n",
       "      <td>1</td>\n",
       "    </tr>\n",
       "    <tr>\n",
       "      <th>1</th>\n",
       "      <td>1009bf</td>\n",
       "      <td>0</td>\n",
       "      <td>24</td>\n",
       "      <td>1</td>\n",
       "      <td>1</td>\n",
       "      <td>1</td>\n",
       "      <td>1</td>\n",
       "    </tr>\n",
       "    <tr>\n",
       "      <th>2</th>\n",
       "      <td>167386</td>\n",
       "      <td>0</td>\n",
       "      <td>54</td>\n",
       "      <td>0</td>\n",
       "      <td>1</td>\n",
       "      <td>1</td>\n",
       "      <td>1</td>\n",
       "    </tr>\n",
       "    <tr>\n",
       "      <th>3</th>\n",
       "      <td>0b5948</td>\n",
       "      <td>0</td>\n",
       "      <td>30</td>\n",
       "      <td>1</td>\n",
       "      <td>1</td>\n",
       "      <td>1</td>\n",
       "      <td>1</td>\n",
       "    </tr>\n",
       "    <tr>\n",
       "      <th>4</th>\n",
       "      <td>0d01b5</td>\n",
       "      <td>1</td>\n",
       "      <td>60</td>\n",
       "      <td>0</td>\n",
       "      <td>0</td>\n",
       "      <td>0</td>\n",
       "      <td>1</td>\n",
       "    </tr>\n",
       "    <tr>\n",
       "      <th>...</th>\n",
       "      <td>...</td>\n",
       "      <td>...</td>\n",
       "      <td>...</td>\n",
       "      <td>...</td>\n",
       "      <td>...</td>\n",
       "      <td>...</td>\n",
       "      <td>...</td>\n",
       "    </tr>\n",
       "    <tr>\n",
       "      <th>566597</th>\n",
       "      <td>01ff60</td>\n",
       "      <td>0</td>\n",
       "      <td>58</td>\n",
       "      <td>1</td>\n",
       "      <td>1</td>\n",
       "      <td>0</td>\n",
       "      <td>1</td>\n",
       "    </tr>\n",
       "    <tr>\n",
       "      <th>566598</th>\n",
       "      <td>047cd1</td>\n",
       "      <td>0</td>\n",
       "      <td>48</td>\n",
       "      <td>0</td>\n",
       "      <td>1</td>\n",
       "      <td>1</td>\n",
       "      <td>1</td>\n",
       "    </tr>\n",
       "    <tr>\n",
       "      <th>566599</th>\n",
       "      <td>1beb81</td>\n",
       "      <td>0</td>\n",
       "      <td>49</td>\n",
       "      <td>0</td>\n",
       "      <td>1</td>\n",
       "      <td>1</td>\n",
       "      <td>1</td>\n",
       "    </tr>\n",
       "    <tr>\n",
       "      <th>566600</th>\n",
       "      <td>16fb02</td>\n",
       "      <td>0</td>\n",
       "      <td>43</td>\n",
       "      <td>0</td>\n",
       "      <td>1</td>\n",
       "      <td>1</td>\n",
       "      <td>1</td>\n",
       "    </tr>\n",
       "    <tr>\n",
       "      <th>566601</th>\n",
       "      <td>0021c9</td>\n",
       "      <td>0</td>\n",
       "      <td>65</td>\n",
       "      <td>1</td>\n",
       "      <td>0</td>\n",
       "      <td>0</td>\n",
       "      <td>1</td>\n",
       "    </tr>\n",
       "  </tbody>\n",
       "</table>\n",
       "<p>566602 rows × 7 columns</p>\n",
       "</div>"
      ],
      "text/plain": [
       "            id  outcome  age  sex  hypertension  diabetes  covid_status\n",
       "0       16169f        0   27    1             1         1             1\n",
       "1       1009bf        0   24    1             1         1             1\n",
       "2       167386        0   54    0             1         1             1\n",
       "3       0b5948        0   30    1             1         1             1\n",
       "4       0d01b5        1   60    0             0         0             1\n",
       "...        ...      ...  ...  ...           ...       ...           ...\n",
       "566597  01ff60        0   58    1             1         0             1\n",
       "566598  047cd1        0   48    0             1         1             1\n",
       "566599  1beb81        0   49    0             1         1             1\n",
       "566600  16fb02        0   43    0             1         1             1\n",
       "566601  0021c9        0   65    1             0         0             1\n",
       "\n",
       "[566602 rows x 7 columns]"
      ]
     },
     "execution_count": 404,
     "metadata": {},
     "output_type": "execute_result"
    }
   ],
   "source": [
    "covid"
   ]
  },
  {
   "cell_type": "code",
   "execution_count": 405,
   "id": "40d836a3",
   "metadata": {},
   "outputs": [],
   "source": [
    "covid = covid[covid['outcome'] != 98]\n",
    "covid = covid[covid['sex'] != 98]\n",
    "covid = covid[covid['hypertension'] != 98]\n",
    "covid = covid[covid['diabetes'] != 98]"
   ]
  },
  {
   "cell_type": "code",
   "execution_count": 406,
   "id": "3c0e5987",
   "metadata": {},
   "outputs": [],
   "source": [
    "noncovid = noncovid.dropna()\n",
    "covid = covid.dropna()"
   ]
  },
  {
   "cell_type": "code",
   "execution_count": 407,
   "id": "77c697b9",
   "metadata": {},
   "outputs": [],
   "source": [
    "noncovid['outcome'] = noncovid['outcome'].astype(int)\n",
    "covid['outcome'] = covid['outcome'].astype(int)"
   ]
  },
  {
   "cell_type": "code",
   "execution_count": 408,
   "id": "fdc9584c",
   "metadata": {},
   "outputs": [
    {
     "data": {
      "text/html": [
       "<div>\n",
       "<style scoped>\n",
       "    .dataframe tbody tr th:only-of-type {\n",
       "        vertical-align: middle;\n",
       "    }\n",
       "\n",
       "    .dataframe tbody tr th {\n",
       "        vertical-align: top;\n",
       "    }\n",
       "\n",
       "    .dataframe thead th {\n",
       "        text-align: right;\n",
       "    }\n",
       "</style>\n",
       "<table border=\"1\" class=\"dataframe\">\n",
       "  <thead>\n",
       "    <tr style=\"text-align: right;\">\n",
       "      <th></th>\n",
       "      <th>id</th>\n",
       "      <th>outcome</th>\n",
       "      <th>age</th>\n",
       "      <th>sex</th>\n",
       "      <th>hypertension</th>\n",
       "      <th>diabetes</th>\n",
       "      <th>covid_status</th>\n",
       "    </tr>\n",
       "  </thead>\n",
       "  <tbody>\n",
       "    <tr>\n",
       "      <th>0</th>\n",
       "      <td>125047</td>\n",
       "      <td>0</td>\n",
       "      <td>72</td>\n",
       "      <td>0</td>\n",
       "      <td>0</td>\n",
       "      <td>1</td>\n",
       "      <td>0</td>\n",
       "    </tr>\n",
       "    <tr>\n",
       "      <th>1</th>\n",
       "      <td>139812</td>\n",
       "      <td>0</td>\n",
       "      <td>75</td>\n",
       "      <td>1</td>\n",
       "      <td>0</td>\n",
       "      <td>0</td>\n",
       "      <td>0</td>\n",
       "    </tr>\n",
       "    <tr>\n",
       "      <th>2</th>\n",
       "      <td>109787</td>\n",
       "      <td>0</td>\n",
       "      <td>83</td>\n",
       "      <td>1</td>\n",
       "      <td>0</td>\n",
       "      <td>0</td>\n",
       "      <td>0</td>\n",
       "    </tr>\n",
       "    <tr>\n",
       "      <th>3</th>\n",
       "      <td>130587</td>\n",
       "      <td>0</td>\n",
       "      <td>43</td>\n",
       "      <td>1</td>\n",
       "      <td>0</td>\n",
       "      <td>0</td>\n",
       "      <td>0</td>\n",
       "    </tr>\n",
       "    <tr>\n",
       "      <th>4</th>\n",
       "      <td>138290</td>\n",
       "      <td>0</td>\n",
       "      <td>75</td>\n",
       "      <td>1</td>\n",
       "      <td>1</td>\n",
       "      <td>0</td>\n",
       "      <td>0</td>\n",
       "    </tr>\n",
       "    <tr>\n",
       "      <th>...</th>\n",
       "      <td>...</td>\n",
       "      <td>...</td>\n",
       "      <td>...</td>\n",
       "      <td>...</td>\n",
       "      <td>...</td>\n",
       "      <td>...</td>\n",
       "      <td>...</td>\n",
       "    </tr>\n",
       "    <tr>\n",
       "      <th>1172</th>\n",
       "      <td>171130</td>\n",
       "      <td>0</td>\n",
       "      <td>62</td>\n",
       "      <td>0</td>\n",
       "      <td>1</td>\n",
       "      <td>1</td>\n",
       "      <td>0</td>\n",
       "    </tr>\n",
       "    <tr>\n",
       "      <th>1173</th>\n",
       "      <td>101659</td>\n",
       "      <td>0</td>\n",
       "      <td>78</td>\n",
       "      <td>0</td>\n",
       "      <td>0</td>\n",
       "      <td>1</td>\n",
       "      <td>0</td>\n",
       "    </tr>\n",
       "    <tr>\n",
       "      <th>1174</th>\n",
       "      <td>162069</td>\n",
       "      <td>0</td>\n",
       "      <td>85</td>\n",
       "      <td>1</td>\n",
       "      <td>1</td>\n",
       "      <td>1</td>\n",
       "      <td>0</td>\n",
       "    </tr>\n",
       "    <tr>\n",
       "      <th>1175</th>\n",
       "      <td>120967</td>\n",
       "      <td>0</td>\n",
       "      <td>79</td>\n",
       "      <td>1</td>\n",
       "      <td>0</td>\n",
       "      <td>1</td>\n",
       "      <td>0</td>\n",
       "    </tr>\n",
       "    <tr>\n",
       "      <th>1176</th>\n",
       "      <td>107636</td>\n",
       "      <td>0</td>\n",
       "      <td>47</td>\n",
       "      <td>0</td>\n",
       "      <td>1</td>\n",
       "      <td>1</td>\n",
       "      <td>0</td>\n",
       "    </tr>\n",
       "  </tbody>\n",
       "</table>\n",
       "<p>1176 rows × 7 columns</p>\n",
       "</div>"
      ],
      "text/plain": [
       "          id  outcome  age  sex  hypertension  diabetes  covid_status\n",
       "0     125047        0   72    0             0         1             0\n",
       "1     139812        0   75    1             0         0             0\n",
       "2     109787        0   83    1             0         0             0\n",
       "3     130587        0   43    1             0         0             0\n",
       "4     138290        0   75    1             1         0             0\n",
       "...      ...      ...  ...  ...           ...       ...           ...\n",
       "1172  171130        0   62    0             1         1             0\n",
       "1173  101659        0   78    0             0         1             0\n",
       "1174  162069        0   85    1             1         1             0\n",
       "1175  120967        0   79    1             0         1             0\n",
       "1176  107636        0   47    0             1         1             0\n",
       "\n",
       "[1176 rows x 7 columns]"
      ]
     },
     "execution_count": 408,
     "metadata": {},
     "output_type": "execute_result"
    }
   ],
   "source": [
    "noncovid"
   ]
  },
  {
   "cell_type": "markdown",
   "id": "0b9617df",
   "metadata": {},
   "source": [
    "## Odds Ratio Analysis"
   ]
  },
  {
   "cell_type": "code",
   "execution_count": 409,
   "id": "b486c806",
   "metadata": {},
   "outputs": [],
   "source": [
    "full_cohort = [covid, noncovid]\n",
    "\n",
    "result = pd.concat(full_cohort, ignore_index=True)"
   ]
  },
  {
   "cell_type": "code",
   "execution_count": 410,
   "id": "b2c35307",
   "metadata": {},
   "outputs": [],
   "source": [
    "result = result[~result['outcome'].isnull()]\n",
    "result['outcome'] = result['outcome'].astype(int)\n",
    "result['age'] = result['age'].astype(int)\n",
    "result['sex'] = result['sex'].astype(int)\n",
    "result['hypertension'] = result['hypertension'].astype(int)\n",
    "result['diabetes'] = result['diabetes'].astype(int)\n",
    "result['covid_status'] = result['covid_status'].astype(int)"
   ]
  },
  {
   "cell_type": "code",
   "execution_count": 411,
   "id": "4229ee8b",
   "metadata": {},
   "outputs": [],
   "source": [
    "import statsmodels.formula.api as smf"
   ]
  },
  {
   "cell_type": "code",
   "execution_count": 412,
   "id": "e103bd11",
   "metadata": {
    "scrolled": true
   },
   "outputs": [
    {
     "name": "stdout",
     "output_type": "stream",
     "text": [
      "Optimization terminated successfully.\n",
      "         Current function value: 0.195904\n",
      "         Iterations 8\n"
     ]
    },
    {
     "data": {
      "text/html": [
       "<div>\n",
       "<style scoped>\n",
       "    .dataframe tbody tr th:only-of-type {\n",
       "        vertical-align: middle;\n",
       "    }\n",
       "\n",
       "    .dataframe tbody tr th {\n",
       "        vertical-align: top;\n",
       "    }\n",
       "\n",
       "    .dataframe thead th {\n",
       "        text-align: right;\n",
       "    }\n",
       "</style>\n",
       "<table border=\"1\" class=\"dataframe\">\n",
       "  <thead>\n",
       "    <tr style=\"text-align: right;\">\n",
       "      <th></th>\n",
       "      <th>Odds Ratio</th>\n",
       "      <th>p-value</th>\n",
       "      <th>5%</th>\n",
       "      <th>95%</th>\n",
       "      <th>significant</th>\n",
       "    </tr>\n",
       "  </thead>\n",
       "  <tbody>\n",
       "    <tr>\n",
       "      <th>covid_status</th>\n",
       "      <td>2.841336</td>\n",
       "      <td>8.996275e-32</td>\n",
       "      <td>2.386385</td>\n",
       "      <td>3.383022</td>\n",
       "      <td>True</td>\n",
       "    </tr>\n",
       "    <tr>\n",
       "      <th>sex</th>\n",
       "      <td>1.807317</td>\n",
       "      <td>0.000000e+00</td>\n",
       "      <td>1.765253</td>\n",
       "      <td>1.850383</td>\n",
       "      <td>True</td>\n",
       "    </tr>\n",
       "    <tr>\n",
       "      <th>age</th>\n",
       "      <td>1.071549</td>\n",
       "      <td>0.000000e+00</td>\n",
       "      <td>1.070798</td>\n",
       "      <td>1.072301</td>\n",
       "      <td>True</td>\n",
       "    </tr>\n",
       "  </tbody>\n",
       "</table>\n",
       "</div>"
      ],
      "text/plain": [
       "              Odds Ratio       p-value        5%       95%  significant\n",
       "covid_status    2.841336  8.996275e-32  2.386385  3.383022         True\n",
       "sex             1.807317  0.000000e+00  1.765253  1.850383         True\n",
       "age             1.071549  0.000000e+00  1.070798  1.072301         True"
      ]
     },
     "execution_count": 412,
     "metadata": {},
     "output_type": "execute_result"
    }
   ],
   "source": [
    "model=smf.logit(formula='outcome ~ covid_status + age + sex',data=result).fit()\n",
    "model_odds=pd.DataFrame(np.exp(model.params),columns=['Odds Ratio'])\n",
    "model_odds['p-value']=model.pvalues\n",
    "model_odds[['5%','95%']]=np.exp(model.conf_int())\n",
    "model_odds['significant']=model_odds['p-value']<.05\n",
    "model_odds=model_odds.drop('Intercept')\n",
    "model_odds=model_odds.sort_values(by='Odds Ratio',ascending=False)\n",
    "model_odds"
   ]
  },
  {
   "cell_type": "markdown",
   "id": "b5951324",
   "metadata": {},
   "source": [
    "## Matching Preparation"
   ]
  },
  {
   "cell_type": "code",
   "execution_count": 413,
   "id": "f7ecd1ad",
   "metadata": {},
   "outputs": [],
   "source": [
    "import pandas as pd\n",
    "import numpy as np\n",
    "pd.options.mode.chained_assignment = None\n",
    "from sklearn.linear_model import LogisticRegression\n",
    "from sklearn.neighbors import NearestNeighbors\n",
    "import matplotlib.pyplot as plt\n",
    "import seaborn as sns\n",
    "import math"
   ]
  },
  {
   "cell_type": "code",
   "execution_count": 414,
   "id": "9aea456f",
   "metadata": {},
   "outputs": [],
   "source": [
    "covid_sample = covid.head(30000)\n",
    "noncovid_sample = noncovid.head(200)"
   ]
  },
  {
   "cell_type": "code",
   "execution_count": 415,
   "id": "948d47d9",
   "metadata": {},
   "outputs": [
    {
     "data": {
      "text/html": [
       "<div>\n",
       "<style scoped>\n",
       "    .dataframe tbody tr th:only-of-type {\n",
       "        vertical-align: middle;\n",
       "    }\n",
       "\n",
       "    .dataframe tbody tr th {\n",
       "        vertical-align: top;\n",
       "    }\n",
       "\n",
       "    .dataframe thead th {\n",
       "        text-align: right;\n",
       "    }\n",
       "</style>\n",
       "<table border=\"1\" class=\"dataframe\">\n",
       "  <thead>\n",
       "    <tr style=\"text-align: right;\">\n",
       "      <th></th>\n",
       "      <th>id</th>\n",
       "      <th>outcome</th>\n",
       "      <th>age</th>\n",
       "      <th>sex</th>\n",
       "      <th>hypertension</th>\n",
       "      <th>diabetes</th>\n",
       "      <th>covid_status</th>\n",
       "    </tr>\n",
       "  </thead>\n",
       "  <tbody>\n",
       "    <tr>\n",
       "      <th>0</th>\n",
       "      <td>16169f</td>\n",
       "      <td>0</td>\n",
       "      <td>27</td>\n",
       "      <td>1</td>\n",
       "      <td>1</td>\n",
       "      <td>1</td>\n",
       "      <td>1</td>\n",
       "    </tr>\n",
       "    <tr>\n",
       "      <th>1</th>\n",
       "      <td>1009bf</td>\n",
       "      <td>0</td>\n",
       "      <td>24</td>\n",
       "      <td>1</td>\n",
       "      <td>1</td>\n",
       "      <td>1</td>\n",
       "      <td>1</td>\n",
       "    </tr>\n",
       "    <tr>\n",
       "      <th>2</th>\n",
       "      <td>167386</td>\n",
       "      <td>0</td>\n",
       "      <td>54</td>\n",
       "      <td>0</td>\n",
       "      <td>1</td>\n",
       "      <td>1</td>\n",
       "      <td>1</td>\n",
       "    </tr>\n",
       "    <tr>\n",
       "      <th>3</th>\n",
       "      <td>0b5948</td>\n",
       "      <td>0</td>\n",
       "      <td>30</td>\n",
       "      <td>1</td>\n",
       "      <td>1</td>\n",
       "      <td>1</td>\n",
       "      <td>1</td>\n",
       "    </tr>\n",
       "    <tr>\n",
       "      <th>4</th>\n",
       "      <td>0d01b5</td>\n",
       "      <td>1</td>\n",
       "      <td>60</td>\n",
       "      <td>0</td>\n",
       "      <td>0</td>\n",
       "      <td>0</td>\n",
       "      <td>1</td>\n",
       "    </tr>\n",
       "    <tr>\n",
       "      <th>...</th>\n",
       "      <td>...</td>\n",
       "      <td>...</td>\n",
       "      <td>...</td>\n",
       "      <td>...</td>\n",
       "      <td>...</td>\n",
       "      <td>...</td>\n",
       "      <td>...</td>\n",
       "    </tr>\n",
       "    <tr>\n",
       "      <th>30123</th>\n",
       "      <td>0d9b71</td>\n",
       "      <td>0</td>\n",
       "      <td>69</td>\n",
       "      <td>0</td>\n",
       "      <td>1</td>\n",
       "      <td>1</td>\n",
       "      <td>1</td>\n",
       "    </tr>\n",
       "    <tr>\n",
       "      <th>30124</th>\n",
       "      <td>0032c6</td>\n",
       "      <td>0</td>\n",
       "      <td>33</td>\n",
       "      <td>0</td>\n",
       "      <td>1</td>\n",
       "      <td>1</td>\n",
       "      <td>1</td>\n",
       "    </tr>\n",
       "    <tr>\n",
       "      <th>30125</th>\n",
       "      <td>0cb27f</td>\n",
       "      <td>0</td>\n",
       "      <td>21</td>\n",
       "      <td>0</td>\n",
       "      <td>1</td>\n",
       "      <td>1</td>\n",
       "      <td>1</td>\n",
       "    </tr>\n",
       "    <tr>\n",
       "      <th>30126</th>\n",
       "      <td>15200b</td>\n",
       "      <td>0</td>\n",
       "      <td>52</td>\n",
       "      <td>1</td>\n",
       "      <td>1</td>\n",
       "      <td>1</td>\n",
       "      <td>1</td>\n",
       "    </tr>\n",
       "    <tr>\n",
       "      <th>30127</th>\n",
       "      <td>17777e</td>\n",
       "      <td>0</td>\n",
       "      <td>60</td>\n",
       "      <td>1</td>\n",
       "      <td>1</td>\n",
       "      <td>1</td>\n",
       "      <td>1</td>\n",
       "    </tr>\n",
       "  </tbody>\n",
       "</table>\n",
       "<p>30000 rows × 7 columns</p>\n",
       "</div>"
      ],
      "text/plain": [
       "           id  outcome  age  sex  hypertension  diabetes  covid_status\n",
       "0      16169f        0   27    1             1         1             1\n",
       "1      1009bf        0   24    1             1         1             1\n",
       "2      167386        0   54    0             1         1             1\n",
       "3      0b5948        0   30    1             1         1             1\n",
       "4      0d01b5        1   60    0             0         0             1\n",
       "...       ...      ...  ...  ...           ...       ...           ...\n",
       "30123  0d9b71        0   69    0             1         1             1\n",
       "30124  0032c6        0   33    0             1         1             1\n",
       "30125  0cb27f        0   21    0             1         1             1\n",
       "30126  15200b        0   52    1             1         1             1\n",
       "30127  17777e        0   60    1             1         1             1\n",
       "\n",
       "[30000 rows x 7 columns]"
      ]
     },
     "execution_count": 415,
     "metadata": {},
     "output_type": "execute_result"
    }
   ],
   "source": [
    "covid_sample"
   ]
  },
  {
   "cell_type": "code",
   "execution_count": 416,
   "id": "00e39d99",
   "metadata": {},
   "outputs": [],
   "source": [
    "full_sample_cohort = [covid_sample, noncovid_sample]\n",
    "\n",
    "result = pd.concat(full_sample_cohort, ignore_index=True)"
   ]
  },
  {
   "cell_type": "code",
   "execution_count": 417,
   "id": "a3b179a6",
   "metadata": {},
   "outputs": [
    {
     "data": {
      "text/html": [
       "<div>\n",
       "<style scoped>\n",
       "    .dataframe tbody tr th:only-of-type {\n",
       "        vertical-align: middle;\n",
       "    }\n",
       "\n",
       "    .dataframe tbody tr th {\n",
       "        vertical-align: top;\n",
       "    }\n",
       "\n",
       "    .dataframe thead th {\n",
       "        text-align: right;\n",
       "    }\n",
       "</style>\n",
       "<table border=\"1\" class=\"dataframe\">\n",
       "  <thead>\n",
       "    <tr style=\"text-align: right;\">\n",
       "      <th></th>\n",
       "      <th>id</th>\n",
       "      <th>outcome</th>\n",
       "      <th>age</th>\n",
       "      <th>sex</th>\n",
       "      <th>hypertension</th>\n",
       "      <th>diabetes</th>\n",
       "      <th>covid_status</th>\n",
       "    </tr>\n",
       "  </thead>\n",
       "  <tbody>\n",
       "    <tr>\n",
       "      <th>0</th>\n",
       "      <td>16169f</td>\n",
       "      <td>0</td>\n",
       "      <td>27</td>\n",
       "      <td>1</td>\n",
       "      <td>1</td>\n",
       "      <td>1</td>\n",
       "      <td>1</td>\n",
       "    </tr>\n",
       "    <tr>\n",
       "      <th>1</th>\n",
       "      <td>1009bf</td>\n",
       "      <td>0</td>\n",
       "      <td>24</td>\n",
       "      <td>1</td>\n",
       "      <td>1</td>\n",
       "      <td>1</td>\n",
       "      <td>1</td>\n",
       "    </tr>\n",
       "    <tr>\n",
       "      <th>2</th>\n",
       "      <td>167386</td>\n",
       "      <td>0</td>\n",
       "      <td>54</td>\n",
       "      <td>0</td>\n",
       "      <td>1</td>\n",
       "      <td>1</td>\n",
       "      <td>1</td>\n",
       "    </tr>\n",
       "    <tr>\n",
       "      <th>3</th>\n",
       "      <td>0b5948</td>\n",
       "      <td>0</td>\n",
       "      <td>30</td>\n",
       "      <td>1</td>\n",
       "      <td>1</td>\n",
       "      <td>1</td>\n",
       "      <td>1</td>\n",
       "    </tr>\n",
       "    <tr>\n",
       "      <th>4</th>\n",
       "      <td>0d01b5</td>\n",
       "      <td>1</td>\n",
       "      <td>60</td>\n",
       "      <td>0</td>\n",
       "      <td>0</td>\n",
       "      <td>0</td>\n",
       "      <td>1</td>\n",
       "    </tr>\n",
       "    <tr>\n",
       "      <th>...</th>\n",
       "      <td>...</td>\n",
       "      <td>...</td>\n",
       "      <td>...</td>\n",
       "      <td>...</td>\n",
       "      <td>...</td>\n",
       "      <td>...</td>\n",
       "      <td>...</td>\n",
       "    </tr>\n",
       "    <tr>\n",
       "      <th>30195</th>\n",
       "      <td>169909</td>\n",
       "      <td>0</td>\n",
       "      <td>58</td>\n",
       "      <td>1</td>\n",
       "      <td>0</td>\n",
       "      <td>0</td>\n",
       "      <td>0</td>\n",
       "    </tr>\n",
       "    <tr>\n",
       "      <th>30196</th>\n",
       "      <td>159724</td>\n",
       "      <td>1</td>\n",
       "      <td>89</td>\n",
       "      <td>0</td>\n",
       "      <td>1</td>\n",
       "      <td>0</td>\n",
       "      <td>0</td>\n",
       "    </tr>\n",
       "    <tr>\n",
       "      <th>30197</th>\n",
       "      <td>133975</td>\n",
       "      <td>0</td>\n",
       "      <td>71</td>\n",
       "      <td>0</td>\n",
       "      <td>1</td>\n",
       "      <td>0</td>\n",
       "      <td>0</td>\n",
       "    </tr>\n",
       "    <tr>\n",
       "      <th>30198</th>\n",
       "      <td>114524</td>\n",
       "      <td>0</td>\n",
       "      <td>63</td>\n",
       "      <td>1</td>\n",
       "      <td>0</td>\n",
       "      <td>0</td>\n",
       "      <td>0</td>\n",
       "    </tr>\n",
       "    <tr>\n",
       "      <th>30199</th>\n",
       "      <td>198322</td>\n",
       "      <td>0</td>\n",
       "      <td>87</td>\n",
       "      <td>1</td>\n",
       "      <td>1</td>\n",
       "      <td>1</td>\n",
       "      <td>0</td>\n",
       "    </tr>\n",
       "  </tbody>\n",
       "</table>\n",
       "<p>30200 rows × 7 columns</p>\n",
       "</div>"
      ],
      "text/plain": [
       "           id  outcome  age  sex  hypertension  diabetes  covid_status\n",
       "0      16169f        0   27    1             1         1             1\n",
       "1      1009bf        0   24    1             1         1             1\n",
       "2      167386        0   54    0             1         1             1\n",
       "3      0b5948        0   30    1             1         1             1\n",
       "4      0d01b5        1   60    0             0         0             1\n",
       "...       ...      ...  ...  ...           ...       ...           ...\n",
       "30195  169909        0   58    1             0         0             0\n",
       "30196  159724        1   89    0             1         0             0\n",
       "30197  133975        0   71    0             1         0             0\n",
       "30198  114524        0   63    1             0         0             0\n",
       "30199  198322        0   87    1             1         1             0\n",
       "\n",
       "[30200 rows x 7 columns]"
      ]
     },
     "execution_count": 417,
     "metadata": {},
     "output_type": "execute_result"
    }
   ],
   "source": [
    "result"
   ]
  },
  {
   "cell_type": "code",
   "execution_count": 418,
   "id": "b148b246",
   "metadata": {},
   "outputs": [],
   "source": [
    "result = result[[\"age\", \"sex\", \"hypertension\", \"diabetes\", \"covid_status\"]]"
   ]
  },
  {
   "cell_type": "code",
   "execution_count": 419,
   "id": "4111b694",
   "metadata": {},
   "outputs": [
    {
     "data": {
      "text/plain": [
       "LogisticRegression()"
      ]
     },
     "execution_count": 419,
     "metadata": {},
     "output_type": "execute_result"
    }
   ],
   "source": [
    "X=result.drop(['covid_status'],axis='columns')\n",
    "lr = LogisticRegression()\n",
    "lr.fit(X,result['covid_status'])"
   ]
  },
  {
   "cell_type": "code",
   "execution_count": 420,
   "id": "9323fce7",
   "metadata": {},
   "outputs": [],
   "source": [
    "coeffs = pd.DataFrame({\n",
    "    'column':X.columns.to_numpy(),\n",
    "    'coeff':lr.coef_.ravel(),\n",
    "})\n",
    "pred_prob = lr.predict_proba(X)\n",
    "result['ps'] = pred_prob[:, 1]\n",
    "\n",
    "def logit(p):\n",
    "    logit_value = math.log(p / (1-p))\n",
    "    return logit_value\n",
    "\n",
    "result['ps_logit'] = result['ps'].apply(lambda x: logit(x))"
   ]
  },
  {
   "cell_type": "markdown",
   "id": "72316f66",
   "metadata": {},
   "source": [
    "## Before Matching"
   ]
  },
  {
   "cell_type": "code",
   "execution_count": 421,
   "id": "16ba0311",
   "metadata": {},
   "outputs": [],
   "source": [
    "result1 = result[result['covid_status'] == 0]\n",
    "result2 = result[result['covid_status'] == 1]"
   ]
  },
  {
   "cell_type": "code",
   "execution_count": 422,
   "id": "218745fa",
   "metadata": {},
   "outputs": [
    {
     "data": {
      "text/plain": [
       "[Text(0.5, 1.0, 'COVID Negative Probability Distribution')]"
      ]
     },
     "execution_count": 422,
     "metadata": {},
     "output_type": "execute_result"
    },
    {
     "data": {
      "image/png": "[encoded data removed]",
      "text/plain": [
       "<Figure size 432x288 with 1 Axes>"
      ]
     },
     "metadata": {
      "needs_background": "light"
     },
     "output_type": "display_data"
    }
   ],
   "source": [
    "sns.histplot(data=result1, x='ps_logit', color = 'orange').set(title = \"COVID Negative Probability Distribution\")"
   ]
  },
  {
   "cell_type": "code",
   "execution_count": 423,
   "id": "805a43f9",
   "metadata": {},
   "outputs": [
    {
     "data": {
      "text/plain": [
       "[Text(0.5, 1.0, 'COVID Positive Probability Distribution')]"
      ]
     },
     "execution_count": 423,
     "metadata": {},
     "output_type": "execute_result"
    },
    {
     "data": {
      "image/png": "[encoded data removed]",
      "text/plain": [
       "<Figure size 432x288 with 1 Axes>"
      ]
     },
     "metadata": {
      "needs_background": "light"
     },
     "output_type": "display_data"
    }
   ],
   "source": [
    "sns.histplot(data=result2, x='ps_logit', color=\"blue\").set(title = \"COVID Positive Probability Distribution\")"
   ]
  },
  {
   "cell_type": "markdown",
   "id": "46efa4af",
   "metadata": {},
   "source": [
    "## Matching"
   ]
  },
  {
   "cell_type": "code",
   "execution_count": 424,
   "id": "b9276f0a",
   "metadata": {},
   "outputs": [],
   "source": [
    "exclude=[]\n",
    "def perfom_matching(row, indexes, df_data):\n",
    "    current_index = row.name\n",
    "    prop_score_logit = row['ps_logit']\n",
    "    for idx in indexes[current_index,:]:\n",
    "        if (current_index != idx) and (row['covid_status'] == 0) and (df_data.loc[idx]['covid_status'] == 1) and (idx not in exclude):\n",
    "            exclude.append(idx)\n",
    "            return int(idx)\n",
    "\n",
    "def obtain_match_details(row, all_data, attribute, key):\n",
    "    return all_data.loc[row[key]][attribute]"
   ]
  },
  {
   "cell_type": "code",
   "execution_count": 425,
   "id": "bfe781ca",
   "metadata": {},
   "outputs": [
    {
     "name": "stdout",
     "output_type": "stream",
     "text": [
      "caliper (radius) is: 0.0056\n"
     ]
    }
   ],
   "source": [
    "caliper=np.std(result['ps'])*.25\n",
    "print(f'caliper (radius) is: {caliper:.4f}')\n",
    "\n",
    "knn = NearestNeighbors(n_neighbors=200,algorithm='ball_tree',radius=caliper)\n",
    "knn.fit(result[['ps_logit']])\n",
    "distances, indexes = knn.kneighbors(result[['ps_logit']])"
   ]
  },
  {
   "cell_type": "code",
   "execution_count": 426,
   "id": "8bf5102e",
   "metadata": {},
   "outputs": [],
   "source": [
    "result = result.reset_index()\n",
    "del result['index']"
   ]
  },
  {
   "cell_type": "code",
   "execution_count": 427,
   "id": "a1fe9249",
   "metadata": {},
   "outputs": [],
   "source": [
    "result['matched_1']=result.reset_index().apply(perfom_matching,axis='columns',args=(indexes, result))\n",
    "\n",
    "covid_hosp_match=result[~result['matched_1'].isna()][result.columns]\n",
    "control_hosp_match_1=pd.DataFrame(data=covid_hosp_match['matched_1'])\n",
    "\n",
    "for attr in result.drop('matched_1',axis='columns'):\n",
    "    control_hosp_match_1[attr]=control_hosp_match_1.apply(obtain_match_details,axis='columns',all_data=result,attribute=attr,key='matched_1')\n",
    "    \n",
    "control_hosp_match_1=control_hosp_match_1.set_index('matched_1')"
   ]
  },
  {
   "cell_type": "code",
   "execution_count": 428,
   "id": "1e760df0",
   "metadata": {},
   "outputs": [],
   "source": [
    "result['matched_2']=result.reset_index().apply(perfom_matching,axis='columns',args=(indexes, result))\n",
    "\n",
    "covid_hosp_match=result[~result['matched_2'].isna()][result.columns]\n",
    "control_hosp_match_2=pd.DataFrame(data=covid_hosp_match['matched_2'])\n",
    "\n",
    "for attr in result.drop(['matched_1','matched_2'],axis='columns'):\n",
    "    control_hosp_match_2[attr]=control_hosp_match_2.apply(obtain_match_details,axis='columns',all_data=result,attribute=attr,key='matched_2')\n",
    "    \n",
    "control_hosp_match_2=control_hosp_match_2.set_index('matched_2')"
   ]
  },
  {
   "cell_type": "code",
   "execution_count": 429,
   "id": "fcf7f123",
   "metadata": {},
   "outputs": [],
   "source": [
    "result['matched_3']=result.reset_index().apply(perfom_matching,axis='columns',args=(indexes, result))\n",
    "\n",
    "covid_hosp_match=result[~result['matched_3'].isna()][result.columns]\n",
    "control_hosp_match_3=pd.DataFrame(data=covid_hosp_match['matched_3'])\n",
    "\n",
    "for attr in result.drop(['matched_1','matched_2','matched_3'],axis='columns'):\n",
    "    control_hosp_match_3[attr]=control_hosp_match_3.apply(obtain_match_details,axis='columns',all_data=result,attribute=attr,key='matched_3')\n",
    "    \n",
    "control_hosp_match_3=control_hosp_match_3.set_index('matched_3')"
   ]
  },
  {
   "cell_type": "code",
   "execution_count": 430,
   "id": "9c9d42ca",
   "metadata": {},
   "outputs": [],
   "source": [
    "all_matched_result=pd.concat([result[result['covid_status']==0],control_hosp_match_1,control_hosp_match_2,control_hosp_match_3],ignore_index=True)"
   ]
  },
  {
   "cell_type": "markdown",
   "id": "ae405203",
   "metadata": {},
   "source": [
    "## After Matching"
   ]
  },
  {
   "cell_type": "code",
   "execution_count": 431,
   "id": "7a0bddd1",
   "metadata": {},
   "outputs": [],
   "source": [
    "matchedresult1 = all_matched_result[all_matched_result['covid_status'] == 0]\n",
    "matchedresult2 = all_matched_result[all_matched_result['covid_status'] == 1]"
   ]
  },
  {
   "cell_type": "code",
   "execution_count": 432,
   "id": "d4e9985e",
   "metadata": {},
   "outputs": [
    {
     "data": {
      "text/plain": [
       "[Text(0.5, 1.0, 'Matched COVID Negative Probability Distribution')]"
      ]
     },
     "execution_count": 432,
     "metadata": {},
     "output_type": "execute_result"
    },
    {
     "data": {
      "image/png": "[encoded data removed]",
      "text/plain": [
       "<Figure size 432x288 with 1 Axes>"
      ]
     },
     "metadata": {
      "needs_background": "light"
     },
     "output_type": "display_data"
    }
   ],
   "source": [
    "sns.histplot(data=matchedresult1, x='ps_logit', color = 'orange').set(title = \"Matched COVID Negative Probability Distribution\")"
   ]
  },
  {
   "cell_type": "code",
   "execution_count": 433,
   "id": "a2fd467d",
   "metadata": {},
   "outputs": [
    {
     "data": {
      "text/plain": [
       "[Text(0.5, 1.0, 'Matched COVID Positive Probability Distribution')]"
      ]
     },
     "execution_count": 433,
     "metadata": {},
     "output_type": "execute_result"
    },
    {
     "data": {
      "image/png": "[encoded data removed]",
      "text/plain": [
       "<Figure size 432x288 with 1 Axes>"
      ]
     },
     "metadata": {
      "needs_background": "light"
     },
     "output_type": "display_data"
    }
   ],
   "source": [
    "sns.histplot(data=matchedresult2, x='ps_logit', color=\"blue\").set(title = \"Matched COVID Positive Probability Distribution\")"
   ]
  },
  {
   "cell_type": "code",
   "execution_count": 438,
   "id": "4c5f5084",
   "metadata": {},
   "outputs": [],
   "source": [
    "matched_covid_result = all_matched_result[all_matched_result['covid_status']==True]"
   ]
  },
  {
   "cell_type": "code",
   "execution_count": 440,
   "id": "a667c9f5",
   "metadata": {},
   "outputs": [],
   "source": [
    "noncovid_result = result[result['covid_status']==False]"
   ]
  },
  {
   "cell_type": "code",
   "execution_count": 442,
   "id": "7a4686b1",
   "metadata": {},
   "outputs": [
    {
     "data": {
      "text/plain": [
       "73.435"
      ]
     },
     "execution_count": 442,
     "metadata": {},
     "output_type": "execute_result"
    }
   ],
   "source": [
    "noncovid_result['age'].mean()"
   ]
  },
  {
   "cell_type": "code",
   "execution_count": 439,
   "id": "368a9c99",
   "metadata": {},
   "outputs": [
    {
     "data": {
      "text/plain": [
       "73.34833333333333"
      ]
     },
     "execution_count": 439,
     "metadata": {},
     "output_type": "execute_result"
    }
   ],
   "source": [
    "matched_result['age'].mean()"
   ]
  }
 ],
 "metadata": {
  "kernelspec": {
   "display_name": "Python 3 (ipykernel)",
   "language": "python",
   "name": "python3"
  },
  "language_info": {
   "codemirror_mode": {
    "name": "ipython",
    "version": 3
   },
   "file_extension": ".py",
   "mimetype": "text/x-python",
   "name": "python",
   "nbconvert_exporter": "python",
   "pygments_lexer": "ipython3",
   "version": "3.9.7"
  }
 },
 "nbformat": 4,
 "nbformat_minor": 5
}
